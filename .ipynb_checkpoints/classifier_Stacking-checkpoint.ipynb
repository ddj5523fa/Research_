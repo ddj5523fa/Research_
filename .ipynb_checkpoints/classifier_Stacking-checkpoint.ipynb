{
 "cells": [
  {
   "cell_type": "code",
   "execution_count": 1,
   "metadata": {
    "colab": {
     "base_uri": "https://localhost:8080/"
    },
    "executionInfo": {
     "elapsed": 18709,
     "status": "ok",
     "timestamp": 1659928455412,
     "user": {
      "displayName": "P76091250王登立",
      "userId": "09137185860442071355"
     },
     "user_tz": -480
    },
    "id": "Z1UVRakujxha",
    "outputId": "01afdd46-bb09-4b8a-aa7d-7512fef21ae1"
   },
   "outputs": [],
   "source": [
    "#from google.colab import drive \n",
    "#drive.mount('/content/gdrive') # 將 google drive 掛載在 colob"
   ]
  },
  {
   "cell_type": "code",
   "execution_count": 2,
   "metadata": {
    "colab": {
     "base_uri": "https://localhost:8080/"
    },
    "executionInfo": {
     "elapsed": 10,
     "status": "ok",
     "timestamp": 1659928455413,
     "user": {
      "displayName": "P76091250王登立",
      "userId": "09137185860442071355"
     },
     "user_tz": -480
    },
    "id": "cwAJL-fkjxcx",
    "outputId": "2e0817cd-2108-4ccf-99ba-3105dc90b8a6"
   },
   "outputs": [],
   "source": [
    "#%cd '/content/gdrive/MyDrive/交接/'\n",
    "#!ls"
   ]
  },
  {
   "cell_type": "code",
   "execution_count": 3,
   "metadata": {
    "executionInfo": {
     "elapsed": 321,
     "status": "ok",
     "timestamp": 1659928919672,
     "user": {
      "displayName": "P76091250王登立",
      "userId": "09137185860442071355"
     },
     "user_tz": -480
    },
    "id": "Rl0nSf9kqiVs"
   },
   "outputs": [],
   "source": [
    "import numpy as np\n",
    "from pandas import read_csv\n",
    "import math\n",
    "from sklearn.neighbors import KNeighborsClassifier\n",
    "from sklearn.model_selection import train_test_split\n",
    "from sklearn.metrics import accuracy_score\n",
    "import sklearn\n",
    "from sklearn.manifold import TSNE\n",
    "import matplotlib.pyplot as plt"
   ]
  },
  {
   "cell_type": "code",
   "execution_count": 4,
   "metadata": {
    "executionInfo": {
     "elapsed": 361,
     "status": "ok",
     "timestamp": 1659928456269,
     "user": {
      "displayName": "P76091250王登立",
      "userId": "09137185860442071355"
     },
     "user_tz": -480
    },
    "id": "SJS6V9nIqiV1"
   },
   "outputs": [],
   "source": [
    "import gensim.downloader\n",
    "from gensim.models import KeyedVectors"
   ]
  },
  {
   "cell_type": "code",
   "execution_count": 5,
   "metadata": {
    "id": "uZHK907Ntq8j"
   },
   "outputs": [
    {
     "data": {
      "text/plain": [
       "'====================Word2Vec Model======================'"
      ]
     },
     "execution_count": 5,
     "metadata": {},
     "output_type": "execute_result"
    }
   ],
   "source": [
    "'''====================Word2Vec Model======================'''\n",
    "#glove_vectors = gensim.downloader.load('glove-wiki-gigaword-100') \n",
    "#glove-wiki-gigaword-100, #glove-wiki-gigaword-200 ,#'glove-twitter-100'\n",
    "#word2vec-google-news-300  #fasttext-wiki-news-subwords-300\n",
    "#glove-wiki-gigaword-50,glove-twitter-50"
   ]
  },
  {
   "cell_type": "markdown",
   "metadata": {
    "id": "jv0FlgHUqvHO"
   },
   "source": [
    "## Classifier_1"
   ]
  },
  {
   "cell_type": "markdown",
   "metadata": {
    "id": "Fe20sZFtqiV5"
   },
   "source": [
    "### 100dimension"
   ]
  },
  {
   "cell_type": "code",
   "execution_count": 6,
   "metadata": {
    "executionInfo": {
     "elapsed": 3,
     "status": "ok",
     "timestamp": 1659928456270,
     "user": {
      "displayName": "P76091250王登立",
      "userId": "09137185860442071355"
     },
     "user_tz": -480
    },
    "id": "xaZitZajqiV7"
   },
   "outputs": [],
   "source": [
    "Classes_100=[]\n",
    "Images_100=[]\n",
    "Img_vec_100=[]\n",
    "Class_labels_100=[]\n",
    "Img_attr_100 = []"
   ]
  },
  {
   "cell_type": "code",
   "execution_count": 7,
   "metadata": {
    "executionInfo": {
     "elapsed": 2157,
     "status": "ok",
     "timestamp": 1659928458425,
     "user": {
      "displayName": "P76091250王登立",
      "userId": "09137185860442071355"
     },
     "user_tz": -480
    },
    "id": "UalTqQ51qiV8"
   },
   "outputs": [],
   "source": [
    "#Images_100=np.load('./data_100d_v1/mix_img_name.npy',allow_pickle=True)\n",
    "Img_vec_100=np.load('./AWA2_33c/data_100d_v1/mix_img_vec.npy',allow_pickle=True)\n",
    "Classes_100=np.load('./AWA2_33c/data_100d_v1/mix_img_class.npy',allow_pickle=True)\n",
    "Class_labels_100=np.load('./AWA2_33c/data_100d_v1/mix_img_label.npy',allow_pickle=True)\n",
    "Img_attr_100=np.load('./AWA2_33c/data_100d_v1/mix_attr_100.npy',allow_pickle=True)"
   ]
  },
  {
   "cell_type": "code",
   "execution_count": 8,
   "metadata": {
    "colab": {
     "base_uri": "https://localhost:8080/"
    },
    "executionInfo": {
     "elapsed": 10,
     "status": "ok",
     "timestamp": 1659928458426,
     "user": {
      "displayName": "P76091250王登立",
      "userId": "09137185860442071355"
     },
     "user_tz": -480
    },
    "id": "MHidnKlfqiV-",
    "outputId": "d942165a-7780-457d-92de-1f002b710394"
   },
   "outputs": [
    {
     "name": "stdout",
     "output_type": "stream",
     "text": [
      "40\n",
      "0\n",
      "(9922, 100)\n",
      "(9922,)\n",
      "(9922, 100)\n"
     ]
    }
   ],
   "source": [
    "print(len(Classes_100))\n",
    "print(len(Images_100))\n",
    "print(Img_vec_100.shape)\n",
    "print(Class_labels_100.shape)\n",
    "print(Img_attr_100.shape)"
   ]
  },
  {
   "cell_type": "code",
   "execution_count": 9,
   "metadata": {
    "id": "56FdYRnxqiWA"
   },
   "outputs": [],
   "source": [
    "#print(Img_vec_100[0])\n",
    "#print(Class_labels_100.shape)\n",
    "#print(Img_attr_100[0])"
   ]
  },
  {
   "cell_type": "code",
   "execution_count": 10,
   "metadata": {
    "colab": {
     "base_uri": "https://localhost:8080/"
    },
    "executionInfo": {
     "elapsed": 225048,
     "status": "ok",
     "timestamp": 1659928683467,
     "user": {
      "displayName": "P76091250王登立",
      "userId": "09137185860442071355"
     },
     "user_tz": -480
    },
    "id": "uxq152CuqiWE",
    "outputId": "7fce5082-6217-4865-aa0d-032af4779529"
   },
   "outputs": [],
   "source": [
    "try:\n",
    "  mix_cent=np.load('./AWA2_33c/data_100d_v1/mix_cent_vec.npy',allow_pickle=True)\n",
    "except IOError:\n",
    "  glove_vectors = gensim.downloader.load('glove-twitter-100') \n",
    "  #'glove-twitter-100'--v1  ; glove-wiki-gigaword-100 --v2\n",
    "  mix_cent=[]\n",
    "  for i in range(len(Classes_100)):\n",
    "    mix_cent+=[glove_vectors[Classes_100[i]]]\n",
    "  mix_cent = np.stack(mix_cent)\n",
    "  print(mix_cent.shape)\n",
    "  np.save('./AWA2_33c/data_100d_v1/mix_cent_vec.npy', mix_cent)\n",
    "  del glove_vectors"
   ]
  },
  {
   "cell_type": "code",
   "execution_count": 11,
   "metadata": {
    "colab": {
     "base_uri": "https://localhost:8080/"
    },
    "executionInfo": {
     "elapsed": 7,
     "status": "ok",
     "timestamp": 1659928683467,
     "user": {
      "displayName": "P76091250王登立",
      "userId": "09137185860442071355"
     },
     "user_tz": -480
    },
    "id": "TUNsCdkMqiWK",
    "outputId": "122f7d50-af4a-482c-9517-5198389d25d3"
   },
   "outputs": [
    {
     "name": "stderr",
     "output_type": "stream",
     "text": [
      "C:\\Users\\User\\anaconda3\\envs\\torch_37py\\lib\\site-packages\\ipykernel_launcher.py:6: DeprecationWarning: elementwise comparison failed; this will raise an error in the future.\n",
      "  \n"
     ]
    }
   ],
   "source": [
    "#### 以attri的平均值當Center\n",
    "sum_attr = [[] for i in range(40)]\n",
    "count_class = [0 for i in range(40)]\n",
    "for idx in range(len(Img_attr_100)):\n",
    "    l = Class_labels_100[idx]\n",
    "    if sum_attr[l] == []:\n",
    "        sum_attr[l] = Img_attr_100[idx]\n",
    "    else:    \n",
    "        sum_attr[l] += Img_attr_100[idx]\n",
    "    \n",
    "    count_class[l] += 1\n",
    "\n",
    "# averge\n",
    "for i in range(40):\n",
    "    sum_attr[i] = sum_attr[i] / count_class[i]\n",
    "\n",
    "sum_attr = np.array(sum_attr)\n"
   ]
  },
  {
   "cell_type": "markdown",
   "metadata": {
    "id": "6VX8OdJuLOky"
   },
   "source": [
    "#### Val+test"
   ]
  },
  {
   "cell_type": "code",
   "execution_count": 12,
   "metadata": {
    "colab": {
     "base_uri": "https://localhost:8080/"
    },
    "executionInfo": {
     "elapsed": 593,
     "status": "ok",
     "timestamp": 1659928684057,
     "user": {
      "displayName": "P76091250王登立",
      "userId": "09137185860442071355"
     },
     "user_tz": -480
    },
    "id": "5dUBn7s1qiWH",
    "outputId": "8312c72b-a3d3-41ff-f51e-df00bf34617c"
   },
   "outputs": [
    {
     "data": {
      "text/plain": [
       "0.501"
      ]
     },
     "execution_count": 12,
     "metadata": {},
     "output_type": "execute_result"
    }
   ],
   "source": [
    "neigh = KNeighborsClassifier(n_neighbors=1)\n",
    "neigh.fit(mix_cent, range(40))\n",
    "mix_acc = round(accuracy_score(Class_labels_100, neigh.predict(Img_attr_100)), 3)\n",
    "mix_acc\n",
    "#v1:0.501\n",
    "#mse_v2:0.499\n",
    "#cos_v2:0.493"
   ]
  },
  {
   "cell_type": "code",
   "execution_count": 13,
   "metadata": {
    "colab": {
     "base_uri": "https://localhost:8080/"
    },
    "executionInfo": {
     "elapsed": 1141,
     "status": "ok",
     "timestamp": 1659928685196,
     "user": {
      "displayName": "P76091250王登立",
      "userId": "09137185860442071355"
     },
     "user_tz": -480
    },
    "id": "Q7C4MJkRqiWK",
    "outputId": "5d1fca00-8251-4ad9-f35e-47d2c971739d"
   },
   "outputs": [
    {
     "data": {
      "text/plain": [
       "0.693"
      ]
     },
     "execution_count": 13,
     "metadata": {},
     "output_type": "execute_result"
    }
   ],
   "source": [
    "neigh = KNeighborsClassifier(n_neighbors=1)\n",
    "neigh.fit(sum_attr, range(40))\n",
    "mix_acc = round(accuracy_score(Class_labels_100, neigh.predict(Img_attr_100)), 3)\n",
    "mix_acc\n",
    "#v1:0.693\n",
    "#mse_v2:0.677\n",
    "#100d_cos_v2:0.647"
   ]
  },
  {
   "cell_type": "code",
   "execution_count": 14,
   "metadata": {
    "colab": {
     "base_uri": "https://localhost:8080/",
     "height": 36
    },
    "executionInfo": {
     "elapsed": 9,
     "status": "ok",
     "timestamp": 1659928685196,
     "user": {
      "displayName": "P76091250王登立",
      "userId": "09137185860442071355"
     },
     "user_tz": -480
    },
    "id": "HZ0hpbgWw_ez",
    "outputId": "4bdd607f-4b45-450c-f6ec-ca14bf008d07"
   },
   "outputs": [
    {
     "data": {
      "text/plain": [
       "'\\nharmonic = 2 * seen * unseen / (seen + unseen)\\nharmonic\\n'"
      ]
     },
     "execution_count": 14,
     "metadata": {},
     "output_type": "execute_result"
    }
   ],
   "source": [
    "'''\n",
    "seen = round(accuracy_score(val_label,neigh.predict(val_attr)),3)\n",
    "seen\n",
    "'''\n",
    "'''\n",
    "unseen = round(accuracy_score(test_label,neigh.predict(test_attr)),3)\n",
    "unseen\n",
    "'''\n",
    "'''\n",
    "harmonic = 2 * seen * unseen / (seen + unseen)\n",
    "harmonic\n",
    "'''"
   ]
  },
  {
   "cell_type": "markdown",
   "metadata": {
    "id": "22RiEONiqiWV"
   },
   "source": [
    "#### Test"
   ]
  },
  {
   "cell_type": "code",
   "execution_count": 15,
   "metadata": {
    "executionInfo": {
     "elapsed": 7,
     "status": "ok",
     "timestamp": 1659928685197,
     "user": {
      "displayName": "P76091250王登立",
      "userId": "09137185860442071355"
     },
     "user_tz": -480
    },
    "id": "kee5M5SaqiWV"
   },
   "outputs": [],
   "source": [
    "test_cent_100=mix_cent[-7:] #TEST的中心點\n",
    "test_sum_attr=sum_attr[-7:]"
   ]
  },
  {
   "cell_type": "code",
   "execution_count": 16,
   "metadata": {
    "executionInfo": {
     "elapsed": 6,
     "status": "ok",
     "timestamp": 1659928685197,
     "user": {
      "displayName": "P76091250王登立",
      "userId": "09137185860442071355"
     },
     "user_tz": -480
    },
    "id": "3oKdW0EiqiWW"
   },
   "outputs": [],
   "source": [
    "test_label=np.load('./AWA2_33c/data_100d_v1/test_img_label.npy',allow_pickle=True)\n",
    "test_attr=np.load('./AWA2_33c/data_100d_v1/test_attr_100.npy',allow_pickle=True)"
   ]
  },
  {
   "cell_type": "code",
   "execution_count": 17,
   "metadata": {
    "executionInfo": {
     "elapsed": 7,
     "status": "ok",
     "timestamp": 1659928685198,
     "user": {
      "displayName": "P76091250王登立",
      "userId": "09137185860442071355"
     },
     "user_tz": -480
    },
    "id": "2I85ezkfqiWW"
   },
   "outputs": [],
   "source": [
    "test_class=Classes_100[-7:]"
   ]
  },
  {
   "cell_type": "code",
   "execution_count": 18,
   "metadata": {
    "colab": {
     "base_uri": "https://localhost:8080/"
    },
    "executionInfo": {
     "elapsed": 6,
     "status": "ok",
     "timestamp": 1659928685198,
     "user": {
      "displayName": "P76091250王登立",
      "userId": "09137185860442071355"
     },
     "user_tz": -480
    },
    "id": "x9qLhMmgqiWW",
    "outputId": "96e5af6d-983f-4db6-da1a-cf47a0674714"
   },
   "outputs": [
    {
     "data": {
      "text/plain": [
       "0.201"
      ]
     },
     "execution_count": 18,
     "metadata": {},
     "output_type": "execute_result"
    }
   ],
   "source": [
    "neigh1_test = KNeighborsClassifier(n_neighbors=1)\n",
    "neigh1_test.fit(test_cent_100, range(7))\n",
    "test_acc = round(accuracy_score(test_label, neigh1_test.predict(test_attr)), 3)\n",
    "test_acc\n",
    "#v1:0.201\n",
    "#data_100d_mse_v2:0.346\n",
    "#cos_v2:0.3"
   ]
  },
  {
   "cell_type": "code",
   "execution_count": 19,
   "metadata": {
    "colab": {
     "base_uri": "https://localhost:8080/"
    },
    "executionInfo": {
     "elapsed": 1143,
     "status": "ok",
     "timestamp": 1659928686335,
     "user": {
      "displayName": "P76091250王登立",
      "userId": "09137185860442071355"
     },
     "user_tz": -480
    },
    "id": "y8zmK6FnqiWX",
    "outputId": "8d2998a7-c44c-48ac-c82b-f87f7b8a9e56"
   },
   "outputs": [
    {
     "data": {
      "text/plain": [
       "0.739"
      ]
     },
     "execution_count": 19,
     "metadata": {},
     "output_type": "execute_result"
    }
   ],
   "source": [
    "neigh1_test = KNeighborsClassifier(n_neighbors=1)\n",
    "neigh1_test.fit(test_sum_attr, range(7))\n",
    "test_acc = round(accuracy_score(test_label, neigh1_test.predict(test_attr)), 3)\n",
    "test_acc\n",
    "#v1:0.739\n",
    "#data_100d_mse_v2:0.688\n",
    "#cos_v2:0.589"
   ]
  },
  {
   "cell_type": "markdown",
   "metadata": {
    "id": "HUeqFybyxYjE"
   },
   "source": [
    "#### Val"
   ]
  },
  {
   "cell_type": "code",
   "execution_count": 20,
   "metadata": {
    "executionInfo": {
     "elapsed": 4,
     "status": "ok",
     "timestamp": 1659928686336,
     "user": {
      "displayName": "P76091250王登立",
      "userId": "09137185860442071355"
     },
     "user_tz": -480
    },
    "id": "-35WEPYnqiWY"
   },
   "outputs": [],
   "source": [
    "val_cent_100=mix_cent[:33]\n",
    "val_sum_attr=sum_attr[:33]"
   ]
  },
  {
   "cell_type": "code",
   "execution_count": 21,
   "metadata": {
    "executionInfo": {
     "elapsed": 4,
     "status": "ok",
     "timestamp": 1659928686336,
     "user": {
      "displayName": "P76091250王登立",
      "userId": "09137185860442071355"
     },
     "user_tz": -480
    },
    "id": "-L6A3roDqiWY"
   },
   "outputs": [],
   "source": [
    "val_label=np.load('./AWA2_33c/data_100d_v1/val_img_label.npy',allow_pickle=True)\n",
    "val_attr=np.load('./AWA2_33c/data_100d_v1/val_attr_100d.npy',allow_pickle=True)"
   ]
  },
  {
   "cell_type": "code",
   "execution_count": 22,
   "metadata": {
    "colab": {
     "base_uri": "https://localhost:8080/"
    },
    "executionInfo": {
     "elapsed": 594,
     "status": "ok",
     "timestamp": 1659928686927,
     "user": {
      "displayName": "P76091250王登立",
      "userId": "09137185860442071355"
     },
     "user_tz": -480
    },
    "id": "yQf9kxOEqiWY",
    "outputId": "76a444a1-51e0-4656-d655-837add2df766"
   },
   "outputs": [
    {
     "data": {
      "text/plain": [
       "0.942"
      ]
     },
     "execution_count": 22,
     "metadata": {},
     "output_type": "execute_result"
    }
   ],
   "source": [
    "neigh1_val = KNeighborsClassifier(n_neighbors=1)\n",
    "neigh1_val.fit(val_cent_100, range(33))   #val_cent_100 Word2vec的Vector為中心\n",
    "val_acc = round(accuracy_score(val_label, neigh1_val.predict(val_attr)), 3)\n",
    "val_acc\n",
    "#v1:0.942\n",
    "#data_100d_mse_v2:0.938\n",
    "#0.924"
   ]
  },
  {
   "cell_type": "code",
   "execution_count": 23,
   "metadata": {
    "colab": {
     "base_uri": "https://localhost:8080/"
    },
    "executionInfo": {
     "elapsed": 10,
     "status": "ok",
     "timestamp": 1659928686928,
     "user": {
      "displayName": "P76091250王登立",
      "userId": "09137185860442071355"
     },
     "user_tz": -480
    },
    "id": "2Fs9dtZTx06F",
    "outputId": "a47d148e-fc77-4247-9bf4-11226416cd35"
   },
   "outputs": [
    {
     "data": {
      "text/plain": [
       "0.941"
      ]
     },
     "execution_count": 23,
     "metadata": {},
     "output_type": "execute_result"
    }
   ],
   "source": [
    "neigh1_val = KNeighborsClassifier(n_neighbors=1)\n",
    "neigh1_val.fit(val_sum_attr, range(33))  #屬性值為加總平均。\n",
    "val_acc = round(accuracy_score(val_label, neigh1_val.predict(val_attr)), 3)\n",
    "val_acc\n",
    "#v1:0.941\n",
    "#data_100d_mse_v2:0.933\n",
    "#cos_v2:0.924"
   ]
  },
  {
   "cell_type": "markdown",
   "metadata": {
    "id": "UMVc3oiqxlFm"
   },
   "source": [
    "#### tsne_graph"
   ]
  },
  {
   "cell_type": "code",
   "execution_count": 24,
   "metadata": {
    "colab": {
     "base_uri": "https://localhost:8080/"
    },
    "executionInfo": {
     "elapsed": 114186,
     "status": "ok",
     "timestamp": 1659928858032,
     "user": {
      "displayName": "P76091250王登立",
      "userId": "09137185860442071355"
     },
     "user_tz": -480
    },
    "id": "cNziWCi6qiWa",
    "outputId": "804f8d5e-a18c-420b-c6f5-310408751b9b"
   },
   "outputs": [
    {
     "name": "stderr",
     "output_type": "stream",
     "text": [
      "C:\\Users\\User\\anaconda3\\envs\\torch_37py\\lib\\site-packages\\sklearn\\manifold\\_t_sne.py:793: FutureWarning: The default learning rate in TSNE will change from 200.0 to 'auto' in 1.2.\n",
      "  FutureWarning,\n"
     ]
    },
    {
     "name": "stdout",
     "output_type": "stream",
     "text": [
      "[t-SNE] Computing 32 nearest neighbors...\n",
      "[t-SNE] Indexed 33 samples in 0.000s...\n",
      "[t-SNE] Computed neighbors for 33 samples in 0.004s...\n",
      "[t-SNE] Computed conditional probabilities for sample 33 / 33\n",
      "[t-SNE] Mean sigma: 1125899906842624.000000\n",
      "[t-SNE] KL divergence after 250 iterations with early exaggeration: 44.113064\n",
      "[t-SNE] KL divergence after 1450 iterations: 0.522676\n",
      "[t-SNE] Computing 32 nearest neighbors...\n",
      "[t-SNE] Indexed 33 samples in 0.001s...\n",
      "[t-SNE] Computed neighbors for 33 samples in 0.003s...\n",
      "[t-SNE] Computed conditional probabilities for sample 33 / 33\n",
      "[t-SNE] Mean sigma: 1125899906842624.000000\n",
      "[t-SNE] KL divergence after 250 iterations with early exaggeration: 42.979389\n"
     ]
    },
    {
     "name": "stderr",
     "output_type": "stream",
     "text": [
      "C:\\Users\\User\\anaconda3\\envs\\torch_37py\\lib\\site-packages\\sklearn\\manifold\\_t_sne.py:793: FutureWarning: The default learning rate in TSNE will change from 200.0 to 'auto' in 1.2.\n",
      "  FutureWarning,\n"
     ]
    },
    {
     "name": "stdout",
     "output_type": "stream",
     "text": [
      "[t-SNE] KL divergence after 1000 iterations: 0.518355\n",
      "[t-SNE] Computing 151 nearest neighbors...\n",
      "[t-SNE] Indexed 5268 samples in 0.003s...\n"
     ]
    },
    {
     "name": "stderr",
     "output_type": "stream",
     "text": [
      "C:\\Users\\User\\anaconda3\\envs\\torch_37py\\lib\\site-packages\\sklearn\\manifold\\_t_sne.py:793: FutureWarning: The default learning rate in TSNE will change from 200.0 to 'auto' in 1.2.\n",
      "  FutureWarning,\n"
     ]
    },
    {
     "name": "stdout",
     "output_type": "stream",
     "text": [
      "[t-SNE] Computed neighbors for 5268 samples in 1.574s...\n",
      "[t-SNE] Computed conditional probabilities for sample 1000 / 5268\n",
      "[t-SNE] Computed conditional probabilities for sample 2000 / 5268\n",
      "[t-SNE] Computed conditional probabilities for sample 3000 / 5268\n",
      "[t-SNE] Computed conditional probabilities for sample 4000 / 5268\n",
      "[t-SNE] Computed conditional probabilities for sample 5000 / 5268\n",
      "[t-SNE] Computed conditional probabilities for sample 5268 / 5268\n",
      "[t-SNE] Mean sigma: 0.134528\n",
      "[t-SNE] KL divergence after 250 iterations with early exaggeration: 53.098335\n",
      "[t-SNE] KL divergence after 3000 iterations: 0.379326\n"
     ]
    }
   ],
   "source": [
    "'''Validation Data'''\n",
    "attr_tsne_cent= TSNE(n_components=2, init='random', perplexity = 50,n_iter= 3000,verbose=1).fit_transform(val_cent_100)#WordVector為中心，後來沒用到。\n",
    "attr_tsne = TSNE(n_components=2, init='random', perplexity = 50,n_iter= 3000,verbose=1).fit_transform(val_sum_attr)#Class平均值為中心\n",
    "\n",
    "attr_min_, attr_max_ = attr_tsne_cent.min(0), attr_tsne_cent.max(0)\n",
    "attr_norm_cent = (attr_tsne_cent - attr_min_) / (attr_max_ - attr_min_)  #Normalize\n",
    "\n",
    "attr_min, attr_max = attr_tsne.min(0), attr_tsne.max(0)\n",
    "attr_norm = (attr_tsne - attr_min) / (attr_max - attr_min)  #Normalize\n",
    "\n",
    "tsne_data = TSNE(n_components=2, init='random', perplexity = 50,n_iter= 3000,verbose=1).fit_transform(val_attr)"
   ]
  },
  {
   "cell_type": "code",
   "execution_count": 25,
   "metadata": {
    "executionInfo": {
     "elapsed": 368,
     "status": "ok",
     "timestamp": 1659929414564,
     "user": {
      "displayName": "P76091250王登立",
      "userId": "09137185860442071355"
     },
     "user_tz": -480
    },
    "id": "4hQThoH0qiWa"
   },
   "outputs": [],
   "source": [
    "attr_min, attr_max = tsne_data.min(0), tsne_data.max(0)\n",
    "norm = (tsne_data - attr_min) / (attr_max  - attr_min)  #Normalize"
   ]
  },
  {
   "cell_type": "code",
   "execution_count": 26,
   "metadata": {
    "colab": {
     "base_uri": "https://localhost:8080/",
     "height": 586
    },
    "executionInfo": {
     "elapsed": 11393,
     "status": "ok",
     "timestamp": 1659929427675,
     "user": {
      "displayName": "P76091250王登立",
      "userId": "09137185860442071355"
     },
     "user_tz": -480
    },
    "id": "Axfnqu9jqiWa",
    "outputId": "f1755d92-41a8-4634-c1dd-12174e829db7"
   },
   "outputs": [
    {
     "data": {
      "image/png": "[encoded data removed]",
      "text/plain": [
       "<Figure size 720x720 with 1 Axes>"
      ]
     },
     "metadata": {},
     "output_type": "display_data"
    }
   ],
   "source": [
    "'''\n",
    "plt.figure(figsize=(10, 10))\n",
    "for i in range(len(attr_norm)):\n",
    "    plt.scatter(attr_norm[i, 0],  attr_norm[i, 1],c='b') #平均\n",
    "    plt.scatter(attr_norm_cent[i, 0],  attr_norm_cent[i, 1],c='r')  #Word vector為Center\n",
    "plt.xticks([])\n",
    "plt.yticks([])\n",
    "plt.show()\n",
    "'''\n",
    "plt.figure(figsize=(10, 10))\n",
    "for i in range(len(norm)):\n",
    "    plt.text(norm[i, 0], norm[i, 1],str(val_label[i]),color=plt.cm.Set2(val_label[i]), \n",
    "             fontdict={'weight': 'bold', 'size': 10})\n",
    "plt.xticks([])\n",
    "plt.yticks([])\n",
    "plt.show()"
   ]
  },
  {
   "cell_type": "code",
   "execution_count": 27,
   "metadata": {
    "colab": {
     "base_uri": "https://localhost:8080/"
    },
    "executionInfo": {
     "elapsed": 288841,
     "status": "ok",
     "timestamp": 1659929828537,
     "user": {
      "displayName": "P76091250王登立",
      "userId": "09137185860442071355"
     },
     "user_tz": -480
    },
    "id": "Vbb8nF2yqiWO",
    "outputId": "108fdffd-9f89-4cf6-9b67-d1a125d0dc8b",
    "scrolled": true
   },
   "outputs": [
    {
     "name": "stderr",
     "output_type": "stream",
     "text": [
      "C:\\Users\\User\\anaconda3\\envs\\torch_37py\\lib\\site-packages\\sklearn\\manifold\\_t_sne.py:793: FutureWarning: The default learning rate in TSNE will change from 200.0 to 'auto' in 1.2.\n",
      "  FutureWarning,\n"
     ]
    },
    {
     "name": "stdout",
     "output_type": "stream",
     "text": [
      "[t-SNE] Computing 39 nearest neighbors...\n",
      "[t-SNE] Indexed 40 samples in 0.001s...\n",
      "[t-SNE] Computed neighbors for 40 samples in 0.003s...\n",
      "[t-SNE] Computed conditional probabilities for sample 40 / 40\n",
      "[t-SNE] Mean sigma: 1125899906842624.000000\n",
      "[t-SNE] KL divergence after 250 iterations with early exaggeration: 45.262150\n",
      "[t-SNE] KL divergence after 950 iterations: 0.565728\n",
      "[t-SNE] Computing 39 nearest neighbors...\n",
      "[t-SNE] Indexed 40 samples in 0.001s...\n",
      "[t-SNE] Computed neighbors for 40 samples in 0.004s...\n",
      "[t-SNE] Computed conditional probabilities for sample 40 / 40\n",
      "[t-SNE] Mean sigma: 1125899906842624.000000\n"
     ]
    },
    {
     "name": "stderr",
     "output_type": "stream",
     "text": [
      "C:\\Users\\User\\anaconda3\\envs\\torch_37py\\lib\\site-packages\\sklearn\\manifold\\_t_sne.py:793: FutureWarning: The default learning rate in TSNE will change from 200.0 to 'auto' in 1.2.\n",
      "  FutureWarning,\n"
     ]
    },
    {
     "name": "stdout",
     "output_type": "stream",
     "text": [
      "[t-SNE] KL divergence after 250 iterations with early exaggeration: 43.786819\n",
      "[t-SNE] KL divergence after 1400 iterations: 0.566601\n",
      "[t-SNE] Computing 151 nearest neighbors...\n",
      "[t-SNE] Indexed 9922 samples in 0.004s...\n"
     ]
    },
    {
     "name": "stderr",
     "output_type": "stream",
     "text": [
      "C:\\Users\\User\\anaconda3\\envs\\torch_37py\\lib\\site-packages\\sklearn\\manifold\\_t_sne.py:793: FutureWarning: The default learning rate in TSNE will change from 200.0 to 'auto' in 1.2.\n",
      "  FutureWarning,\n"
     ]
    },
    {
     "name": "stdout",
     "output_type": "stream",
     "text": [
      "[t-SNE] Computed neighbors for 9922 samples in 4.815s...\n",
      "[t-SNE] Computed conditional probabilities for sample 1000 / 9922\n",
      "[t-SNE] Computed conditional probabilities for sample 2000 / 9922\n",
      "[t-SNE] Computed conditional probabilities for sample 3000 / 9922\n",
      "[t-SNE] Computed conditional probabilities for sample 4000 / 9922\n",
      "[t-SNE] Computed conditional probabilities for sample 5000 / 9922\n",
      "[t-SNE] Computed conditional probabilities for sample 6000 / 9922\n",
      "[t-SNE] Computed conditional probabilities for sample 7000 / 9922\n",
      "[t-SNE] Computed conditional probabilities for sample 8000 / 9922\n",
      "[t-SNE] Computed conditional probabilities for sample 9000 / 9922\n",
      "[t-SNE] Computed conditional probabilities for sample 9922 / 9922\n",
      "[t-SNE] Mean sigma: 0.174285\n",
      "[t-SNE] KL divergence after 250 iterations with early exaggeration: 69.113602\n",
      "[t-SNE] KL divergence after 3000 iterations: 0.904237\n"
     ]
    }
   ],
   "source": [
    "'''Mix Data(Val+Test(33+7) 40類)'''\n",
    "attr_tsne_cent= TSNE(n_components=2, init='random', perplexity = 50,n_iter= 3000,verbose=1).fit_transform(mix_cent)#WordVector為中心，後來沒用到。\n",
    "attr_tsne = TSNE(n_components=2, init='random', perplexity = 50,n_iter= 3000,verbose=1).fit_transform(sum_attr)#Class平均值為中心\n",
    "\n",
    "attr_min_, attr_max_ = attr_tsne_cent.min(0), attr_tsne_cent.max(0)\n",
    "attr_norm_cent = (attr_tsne_cent - attr_min_) / (attr_max_ - attr_min_)  #Normalize\n",
    "\n",
    "attr_min, attr_max = attr_tsne.min(0), attr_tsne.max(0)\n",
    "attr_norm = (attr_tsne - attr_min) / (attr_max - attr_min)  #Normalize\n",
    "\n",
    "tsne_mixdata = TSNE(n_components=2, init='random', perplexity = 50,n_iter= 3000,verbose=1).fit_transform(Img_attr_100)\n",
    "\n",
    "mix_attr_min, mix_attr_max = tsne_mixdata.min(0), tsne_mixdata.max(0)\n",
    "mix_norm = (tsne_mixdata - mix_attr_min) / (mix_attr_max  - mix_attr_min)  #Normalize"
   ]
  },
  {
   "cell_type": "code",
   "execution_count": 28,
   "metadata": {
    "colab": {
     "base_uri": "https://localhost:8080/",
     "height": 583
    },
    "executionInfo": {
     "elapsed": 22458,
     "status": "ok",
     "timestamp": 1659929852804,
     "user": {
      "displayName": "P76091250王登立",
      "userId": "09137185860442071355"
     },
     "user_tz": -480
    },
    "id": "SipWw3iVqiWR",
    "outputId": "02cd329e-1f65-4e25-eada-b930608ceb1d"
   },
   "outputs": [
    {
     "data": {
      "image/png": "[encoded data removed]",
      "text/plain": [
       "<Figure size 720x720 with 1 Axes>"
      ]
     },
     "metadata": {},
     "output_type": "display_data"
    }
   ],
   "source": [
    "'''\n",
    "plt.figure(figsize=(10, 10))\n",
    "\n",
    "#for i in range(len(mix_norm)):\n",
    "#    plt.text(mix_norm[i, 0], mix_norm[i, 1],str(Class_labels_100[i]),color=plt.cm.Set2(Class_labels_100[i]), \n",
    "#             fontdict={'weight': 'bold', 'size': 40})\n",
    "for i in range(len(attr_norm)):\n",
    "    plt.scatter(attr_norm[i, 0],  attr_norm[i, 1],c='b') #平均\n",
    "    #plt.text(attr_norm[i, 0],  attr_norm[i, 1],str(i),color='b',fontdict={'weight': 'bold', 'size': 10})\n",
    "    #plt.text(attr_norm_cent[i, 0],  attr_norm_cent[i, 1],str(i),c='r',fontdict={'weight': 'bold', 'size': 10})\n",
    "    plt.scatter(attr_norm_cent[i, 0],  attr_norm_cent[i, 1],c='r')  #Word vector為Center\n",
    "plt.xticks([])\n",
    "plt.yticks([])\n",
    "plt.show()\n",
    "'''\n",
    "\n",
    "plt.figure(figsize=(10, 10))\n",
    "for i in range(len(mix_norm)):\n",
    "    plt.text(mix_norm[i, 0], mix_norm[i, 1],str(Class_labels_100[i]),color=plt.cm.Set2(Class_labels_100[i]), \n",
    "             fontdict={'weight': 'bold', 'size': 7})\n",
    "plt.xticks([])\n",
    "plt.yticks([])\n",
    "plt.show()\n"
   ]
  },
  {
   "cell_type": "code",
   "execution_count": 29,
   "metadata": {
    "colab": {
     "base_uri": "https://localhost:8080/"
    },
    "executionInfo": {
     "elapsed": 1216,
     "status": "ok",
     "timestamp": 1659929868643,
     "user": {
      "displayName": "P76091250王登立",
      "userId": "09137185860442071355"
     },
     "user_tz": -480
    },
    "id": "YA8ZOM_qqiWR",
    "outputId": "2a1eacdb-1f61-482f-c93d-91ab537a587f",
    "scrolled": false
   },
   "outputs": [
    {
     "name": "stderr",
     "output_type": "stream",
     "text": [
      "C:\\Users\\User\\anaconda3\\envs\\torch_37py\\lib\\site-packages\\sklearn\\manifold\\_t_sne.py:793: FutureWarning: The default learning rate in TSNE will change from 200.0 to 'auto' in 1.2.\n",
      "  FutureWarning,\n"
     ]
    },
    {
     "name": "stdout",
     "output_type": "stream",
     "text": [
      "[t-SNE] Computing 6 nearest neighbors...\n",
      "[t-SNE] Indexed 7 samples in 0.001s...\n",
      "[t-SNE] Computed neighbors for 7 samples in 0.002s...\n",
      "[t-SNE] Computed conditional probabilities for sample 7 / 7\n",
      "[t-SNE] Mean sigma: 1125899906842624.000000\n",
      "[t-SNE] KL divergence after 250 iterations with early exaggeration: 46.075222\n",
      "[t-SNE] KL divergence after 2200 iterations: 0.158638\n",
      "[t-SNE] Computing 6 nearest neighbors...\n",
      "[t-SNE] Indexed 7 samples in 0.000s...\n",
      "[t-SNE] Computed neighbors for 7 samples in 0.004s...\n",
      "[t-SNE] Computed conditional probabilities for sample 7 / 7\n",
      "[t-SNE] Mean sigma: 1125899906842624.000000\n",
      "[t-SNE] KL divergence after 250 iterations with early exaggeration: 50.936684\n"
     ]
    },
    {
     "name": "stderr",
     "output_type": "stream",
     "text": [
      "C:\\Users\\User\\anaconda3\\envs\\torch_37py\\lib\\site-packages\\sklearn\\manifold\\_t_sne.py:793: FutureWarning: The default learning rate in TSNE will change from 200.0 to 'auto' in 1.2.\n",
      "  FutureWarning,\n"
     ]
    },
    {
     "name": "stdout",
     "output_type": "stream",
     "text": [
      "[t-SNE] KL divergence after 3000 iterations: 0.158599\n"
     ]
    }
   ],
   "source": [
    "attr_tsne_cent= TSNE(n_components=2, init='random', perplexity = 50,n_iter= 3000,verbose=1).fit_transform(test_cent_100)\n",
    "attr_tsne = TSNE(n_components=2, init='random', perplexity = 50,n_iter= 3000,verbose=1).fit_transform(test_sum_attr)\n",
    "\n",
    "attr_min_, attr_max_ = attr_tsne_cent.min(0), attr_tsne_cent.max(0)\n",
    "attr_norm_cent = (attr_tsne_cent - attr_min_) / (attr_max_ - attr_min_)  #Normalize\n",
    "\n",
    "attr_min, attr_max = attr_tsne.min(0), attr_tsne.max(0)\n",
    "attr_norm = (attr_tsne - attr_min) / (attr_max - attr_min)  #Normalize"
   ]
  },
  {
   "cell_type": "code",
   "execution_count": 30,
   "metadata": {
    "colab": {
     "base_uri": "https://localhost:8080/"
    },
    "executionInfo": {
     "elapsed": 114134,
     "status": "ok",
     "timestamp": 1659929988718,
     "user": {
      "displayName": "P76091250王登立",
      "userId": "09137185860442071355"
     },
     "user_tz": -480
    },
    "id": "JDxalV7zqiWT",
    "outputId": "4be7bde5-4071-4074-9aaa-39bbbfe7a462",
    "scrolled": false
   },
   "outputs": [
    {
     "name": "stdout",
     "output_type": "stream",
     "text": [
      "[t-SNE] Computing 151 nearest neighbors...\n",
      "[t-SNE] Indexed 4654 samples in 0.002s...\n"
     ]
    },
    {
     "name": "stderr",
     "output_type": "stream",
     "text": [
      "C:\\Users\\User\\anaconda3\\envs\\torch_37py\\lib\\site-packages\\sklearn\\manifold\\_t_sne.py:793: FutureWarning: The default learning rate in TSNE will change from 200.0 to 'auto' in 1.2.\n",
      "  FutureWarning,\n"
     ]
    },
    {
     "name": "stdout",
     "output_type": "stream",
     "text": [
      "[t-SNE] Computed neighbors for 4654 samples in 1.326s...\n",
      "[t-SNE] Computed conditional probabilities for sample 1000 / 4654\n",
      "[t-SNE] Computed conditional probabilities for sample 2000 / 4654\n",
      "[t-SNE] Computed conditional probabilities for sample 3000 / 4654\n",
      "[t-SNE] Computed conditional probabilities for sample 4000 / 4654\n",
      "[t-SNE] Computed conditional probabilities for sample 4654 / 4654\n",
      "[t-SNE] Mean sigma: 0.569485\n",
      "[t-SNE] KL divergence after 250 iterations with early exaggeration: 71.647156\n",
      "[t-SNE] KL divergence after 3000 iterations: 1.153442\n"
     ]
    }
   ],
   "source": [
    "tsne_testdata = TSNE(n_components=2, init='random', perplexity = 50,n_iter= 3000,verbose=1).fit_transform(test_attr)"
   ]
  },
  {
   "cell_type": "code",
   "execution_count": 31,
   "metadata": {
    "executionInfo": {
     "elapsed": 6,
     "status": "ok",
     "timestamp": 1659929988719,
     "user": {
      "displayName": "P76091250王登立",
      "userId": "09137185860442071355"
     },
     "user_tz": -480
    },
    "id": "mraz9KqQqiWU",
    "scrolled": true
   },
   "outputs": [],
   "source": [
    "test_attr_min, test_attr_max = tsne_testdata.min(0), tsne_testdata.max(0)\n",
    "test_norm = (tsne_testdata - test_attr_min) / (test_attr_max  - test_attr_min)  #Normalize"
   ]
  },
  {
   "cell_type": "code",
   "execution_count": 32,
   "metadata": {
    "colab": {
     "base_uri": "https://localhost:8080/",
     "height": 586
    },
    "executionInfo": {
     "elapsed": 9923,
     "status": "ok",
     "timestamp": 1659929998637,
     "user": {
      "displayName": "P76091250王登立",
      "userId": "09137185860442071355"
     },
     "user_tz": -480
    },
    "id": "uJflcNTYqiWU",
    "outputId": "fb51ac68-c13c-48d4-c2c0-3e7bd630c6b3",
    "scrolled": true
   },
   "outputs": [
    {
     "data": {
      "image/png": "[encoded data removed]",
      "text/plain": [
       "<Figure size 720x720 with 1 Axes>"
      ]
     },
     "metadata": {},
     "output_type": "display_data"
    }
   ],
   "source": [
    "plt.figure(figsize=(10, 10))\n",
    "\n",
    "for i in range(len(test_norm)):\n",
    "    plt.text(mix_norm[i, 0], mix_norm[i, 1],str(test_label[i]),color=plt.cm.Set2(test_label[i]), \n",
    "             fontdict={'weight': 'bold', 'size': 10})\n",
    "'''\n",
    "for i in range(len(attr_norm)):\n",
    "    plt.scatter(attr_norm[i, 0],  attr_norm[i, 1],c='b') #平均\n",
    "    plt.scatter(attr_norm_cent[i, 0],  attr_norm_cent[i, 1],c='r')  #Word vector為Center\n",
    "'''\n",
    "plt.xticks([])\n",
    "plt.yticks([])\n",
    "plt.show()"
   ]
  },
  {
   "cell_type": "markdown",
   "metadata": {
    "id": "_WbN_EZfNdQQ"
   },
   "source": [
    "## Classifier_2"
   ]
  },
  {
   "cell_type": "markdown",
   "metadata": {
    "id": "zBR8fGHQqiWc"
   },
   "source": [
    "### 100dimension_Version2"
   ]
  },
  {
   "cell_type": "code",
   "execution_count": 33,
   "metadata": {
    "executionInfo": {
     "elapsed": 382,
     "status": "ok",
     "timestamp": 1659932411216,
     "user": {
      "displayName": "P76091250王登立",
      "userId": "09137185860442071355"
     },
     "user_tz": -480
    },
    "id": "4IjW1LsLqiWc"
   },
   "outputs": [
    {
     "name": "stdout",
     "output_type": "stream",
     "text": [
      "40\n",
      "0\n",
      "(9922, 100)\n",
      "(9922,)\n",
      "(9922, 100)\n"
     ]
    }
   ],
   "source": [
    "Classes_100_v2=[]\n",
    "Images_100_v2=[]\n",
    "Img_vec_100_v2=[]\n",
    "Class_labels_100_v2=[]\n",
    "Img_attr_100_v2 = []\n",
    "\n",
    "#Images_100_v2=np.load('./AWA2_33c/data_100d_mse_v2/mix_img_name.npy',allow_pickle=True)\n",
    "Img_vec_100_v2=np.load('./AWA2_33c/data_100d_mse_v2/mix_img_vec.npy',allow_pickle=True)\n",
    "Classes_100_v2=np.load('./AWA2_33c/data_100d_mse_v2/mix_img_class.npy',allow_pickle=True)\n",
    "Class_labels_100_v2=np.load('./AWA2_33c/data_100d_mse_v2/mix_img_label.npy',allow_pickle=True)\n",
    "Img_attr_100_v2=np.load('./AWA2_33c/data_100d_mse_v2/mix_attr_100.npy',allow_pickle=True)\n",
    "\n",
    "\n",
    "print(len(Classes_100_v2))\n",
    "print(len(Images_100_v2))\n",
    "print(Img_vec_100_v2.shape)\n",
    "print(Class_labels_100_v2.shape)\n",
    "print(Img_attr_100_v2.shape)\n",
    "\n",
    "#print(Img_vec_100[0])\n",
    "#print(Class_labels_100.shape)\n",
    "#print(Img_attr_100[0])"
   ]
  },
  {
   "cell_type": "code",
   "execution_count": 34,
   "metadata": {
    "executionInfo": {
     "elapsed": 382,
     "status": "ok",
     "timestamp": 1659932411216,
     "user": {
      "displayName": "P76091250王登立",
      "userId": "09137185860442071355"
     },
     "user_tz": -480
    },
    "id": "4IjW1LsLqiWc"
   },
   "outputs": [],
   "source": [
    "mix_cent=[]\n",
    "try:\n",
    "  mix_cent=np.load('./AWA2_33c/data_100d_mse_v2/mix_cent_vec.npy',allow_pickle=True)\n",
    "except IOError:\n",
    "  glove_vectors = gensim.downloader.load('glove-wiki-gigaword-100') \n",
    "  #'glove-twitter-100'--v1  ; glove-wiki-gigaword-100 --v2\n",
    "  mix_cent=[]\n",
    "  for i in range(len(Classes_100)):\n",
    "    mix_cent+=[glove_vectors[Classes_100[i]]]\n",
    "  mix_cent = np.stack(mix_cent)\n",
    "  print(mix_cent.shape)\n",
    "  np.save('./AWA2_33c/data_100d_mse_v2/mix_cent_vec.npy', mix_cent)\n",
    "  del glove_vectors"
   ]
  },
  {
   "cell_type": "code",
   "execution_count": 35,
   "metadata": {
    "colab": {
     "base_uri": "https://localhost:8080/"
    },
    "executionInfo": {
     "elapsed": 832,
     "status": "ok",
     "timestamp": 1659932419146,
     "user": {
      "displayName": "P76091250王登立",
      "userId": "09137185860442071355"
     },
     "user_tz": -480
    },
    "id": "Wxm59ChUqiWg",
    "outputId": "d61d4726-fc31-4392-db29-9a1fd56d630c"
   },
   "outputs": [
    {
     "name": "stderr",
     "output_type": "stream",
     "text": [
      "C:\\Users\\User\\anaconda3\\envs\\torch_37py\\lib\\site-packages\\ipykernel_launcher.py:7: DeprecationWarning: elementwise comparison failed; this will raise an error in the future.\n",
      "  import sys\n"
     ]
    }
   ],
   "source": [
    "#### 以attri的平均值當Center\n",
    "\n",
    "sum_attr = [[] for i in range(40)]\n",
    "count_class = [0 for i in range(40)]\n",
    "for idx in range(len(Img_attr_100_v2)):\n",
    "    l = Class_labels_100_v2[idx]\n",
    "    if sum_attr[l] == []:\n",
    "        sum_attr[l] = Img_attr_100_v2[idx]\n",
    "    else:    \n",
    "        sum_attr[l] += Img_attr_100_v2[idx]\n",
    "    \n",
    "    count_class[l] += 1\n",
    "\n",
    "# averge\n",
    "for i in range(40):\n",
    "    sum_attr[i] = sum_attr[i] / count_class[i]\n",
    "\n",
    "sum_attr = np.array(sum_attr)"
   ]
  },
  {
   "cell_type": "markdown",
   "metadata": {
    "id": "GwwvYOzoNVry"
   },
   "source": [
    "#### Val+Test"
   ]
  },
  {
   "cell_type": "code",
   "execution_count": 36,
   "metadata": {
    "colab": {
     "base_uri": "https://localhost:8080/"
    },
    "executionInfo": {
     "elapsed": 5,
     "status": "ok",
     "timestamp": 1659932420642,
     "user": {
      "displayName": "P76091250王登立",
      "userId": "09137185860442071355"
     },
     "user_tz": -480
    },
    "id": "HY6UdnnTqiWf",
    "outputId": "9cb6f8db-1eba-43f9-f4f2-383f6c0ce4ff"
   },
   "outputs": [
    {
     "data": {
      "text/plain": [
       "0.499"
      ]
     },
     "execution_count": 36,
     "metadata": {},
     "output_type": "execute_result"
    }
   ],
   "source": [
    "neigh_v2 = KNeighborsClassifier(n_neighbors=1)\n",
    "neigh_v2.fit(mix_cent, range(40))\n",
    "mix_acc = round(accuracy_score(Class_labels_100_v2, neigh_v2.predict(Img_attr_100_v2)), 3)\n",
    "mix_acc\n",
    "#v1:0.501\n",
    "#mse_v2:0.499\n",
    "#cos_v2:0.493"
   ]
  },
  {
   "cell_type": "code",
   "execution_count": 37,
   "metadata": {
    "colab": {
     "base_uri": "https://localhost:8080/"
    },
    "executionInfo": {
     "elapsed": 555,
     "status": "ok",
     "timestamp": 1659932423312,
     "user": {
      "displayName": "P76091250王登立",
      "userId": "09137185860442071355"
     },
     "user_tz": -480
    },
    "id": "pApQbMMwqiWi",
    "outputId": "f3e8cedd-6cf9-4b91-dbe2-a0381999513a"
   },
   "outputs": [
    {
     "data": {
      "text/plain": [
       "0.677"
      ]
     },
     "execution_count": 37,
     "metadata": {},
     "output_type": "execute_result"
    }
   ],
   "source": [
    "neigh_v2 = KNeighborsClassifier(n_neighbors=1)\n",
    "neigh_v2.fit(sum_attr, range(40))\n",
    "mix_acc = round(accuracy_score(Class_labels_100_v2, neigh_v2.predict(Img_attr_100_v2)), 3)\n",
    "mix_acc\n",
    "#v1:0.693\n",
    "#mse_v2:0.677\n",
    "#100d_cos_v2:0.647"
   ]
  },
  {
   "cell_type": "markdown",
   "metadata": {
    "id": "xfjfkm77qiWi"
   },
   "source": [
    "#### Test"
   ]
  },
  {
   "cell_type": "code",
   "execution_count": 38,
   "metadata": {
    "executionInfo": {
     "elapsed": 331,
     "status": "ok",
     "timestamp": 1659932426147,
     "user": {
      "displayName": "P76091250王登立",
      "userId": "09137185860442071355"
     },
     "user_tz": -480
    },
    "id": "E7C5EUCSqiWj"
   },
   "outputs": [],
   "source": [
    "test_cent_100=mix_cent[-7:] #TEST的中心點\n",
    "test_sum_attr=sum_attr[-7:]\n",
    "\n",
    "test_label_v2=np.load('./AWA2_33c/data_100d_mse_v2/test_img_label.npy',allow_pickle=True)\n",
    "test_attr_v2=np.load('./AWA2_33c/data_100d_mse_v2/test_attr_100.npy',allow_pickle=True)"
   ]
  },
  {
   "cell_type": "code",
   "execution_count": 39,
   "metadata": {
    "colab": {
     "base_uri": "https://localhost:8080/"
    },
    "executionInfo": {
     "elapsed": 330,
     "status": "ok",
     "timestamp": 1659932430255,
     "user": {
      "displayName": "P76091250王登立",
      "userId": "09137185860442071355"
     },
     "user_tz": -480
    },
    "id": "Ckt5co8tqiWk",
    "outputId": "a4898713-2874-4d2e-cf6c-88ee27c985aa"
   },
   "outputs": [
    {
     "data": {
      "text/plain": [
       "0.346"
      ]
     },
     "execution_count": 39,
     "metadata": {},
     "output_type": "execute_result"
    }
   ],
   "source": [
    "neigh1_test_v2 = KNeighborsClassifier(n_neighbors=1)\n",
    "neigh1_test_v2.fit(test_cent_100, range(7))\n",
    "test_acc = round(accuracy_score(test_label_v2, neigh1_test_v2.predict(test_attr_v2)), 3)\n",
    "test_acc\n",
    "#v1:0.201\n",
    "#data_100d_mse_v2:0.346\n",
    "#cos_v2:0.3"
   ]
  },
  {
   "cell_type": "code",
   "execution_count": 40,
   "metadata": {
    "colab": {
     "base_uri": "https://localhost:8080/"
    },
    "executionInfo": {
     "elapsed": 3,
     "status": "ok",
     "timestamp": 1659932431717,
     "user": {
      "displayName": "P76091250王登立",
      "userId": "09137185860442071355"
     },
     "user_tz": -480
    },
    "id": "xo7XaL0RqiWl",
    "outputId": "4ecd55b8-b6a6-4ea8-a2bd-0fa82b215a3d"
   },
   "outputs": [
    {
     "data": {
      "text/plain": [
       "0.688"
      ]
     },
     "execution_count": 40,
     "metadata": {},
     "output_type": "execute_result"
    }
   ],
   "source": [
    "neigh1_test_v2 = KNeighborsClassifier(n_neighbors=1)\n",
    "neigh1_test_v2.fit(test_sum_attr, range(7))\n",
    "test_acc = round(accuracy_score(test_label_v2, neigh1_test_v2.predict(test_attr_v2)), 3)\n",
    "test_acc\n",
    "#v1:0.739\n",
    "#data_100d_mse_v2:0.688\n",
    "#cos_v2:0.589"
   ]
  },
  {
   "cell_type": "markdown",
   "metadata": {
    "id": "BunZAlMNNFjq"
   },
   "source": [
    "#### Val\n"
   ]
  },
  {
   "cell_type": "code",
   "execution_count": 41,
   "metadata": {
    "executionInfo": {
     "elapsed": 443,
     "status": "ok",
     "timestamp": 1659932434956,
     "user": {
      "displayName": "P76091250王登立",
      "userId": "09137185860442071355"
     },
     "user_tz": -480
    },
    "id": "GhHic0h6qiWl"
   },
   "outputs": [],
   "source": [
    "val_cent_100=mix_cent[:33]\n",
    "val_sum_attr=sum_attr[:33]\n",
    "\n",
    "val_label_v2=np.load('./AWA2_33c/data_100d_mse_v2/val_img_label.npy',allow_pickle=True)\n",
    "val_attr_v2=np.load('./AWA2_33c/data_100d_mse_v2/val_attr_100d.npy',allow_pickle=True)"
   ]
  },
  {
   "cell_type": "code",
   "execution_count": 42,
   "metadata": {
    "colab": {
     "base_uri": "https://localhost:8080/"
    },
    "executionInfo": {
     "elapsed": 476,
     "status": "ok",
     "timestamp": 1659932435757,
     "user": {
      "displayName": "P76091250王登立",
      "userId": "09137185860442071355"
     },
     "user_tz": -480
    },
    "id": "uD3iz2zLqiWm",
    "outputId": "a5cd873e-590a-404b-e6ff-0408317018db"
   },
   "outputs": [
    {
     "data": {
      "text/plain": [
       "0.938"
      ]
     },
     "execution_count": 42,
     "metadata": {},
     "output_type": "execute_result"
    }
   ],
   "source": [
    "neigh1_val_v2 = KNeighborsClassifier(n_neighbors=1)\n",
    "neigh1_val_v2.fit(val_cent_100, range(33))\n",
    "val_acc = round(accuracy_score(val_label_v2, neigh1_val_v2.predict(val_attr_v2)), 3)\n",
    "val_acc\n",
    "#v1:0.942\n",
    "#data_100d_mse_v2:0.938\n",
    "#0.924"
   ]
  },
  {
   "cell_type": "code",
   "execution_count": 43,
   "metadata": {
    "colab": {
     "base_uri": "https://localhost:8080/"
    },
    "executionInfo": {
     "elapsed": 2,
     "status": "ok",
     "timestamp": 1659932436117,
     "user": {
      "displayName": "P76091250王登立",
      "userId": "09137185860442071355"
     },
     "user_tz": -480
    },
    "id": "243yLCZFqiWm",
    "outputId": "0b6cf967-c939-40d2-8d84-2863f92f3405"
   },
   "outputs": [
    {
     "data": {
      "text/plain": [
       "0.933"
      ]
     },
     "execution_count": 43,
     "metadata": {},
     "output_type": "execute_result"
    }
   ],
   "source": [
    "neigh1_val_v2 = KNeighborsClassifier(n_neighbors=1)\n",
    "neigh1_val_v2.fit(val_sum_attr, range(33))\n",
    "val_acc = round(accuracy_score(val_label_v2, neigh1_val_v2.predict(val_attr_v2)), 3)\n",
    "val_acc\n",
    "#v1:0.941\n",
    "#data_100d_mse_v2:0.933\n",
    "#cos_v2:0.924"
   ]
  },
  {
   "cell_type": "markdown",
   "metadata": {
    "id": "zUHRfVz8ivB_"
   },
   "source": [
    "#### tsne_graph"
   ]
  },
  {
   "cell_type": "code",
   "execution_count": 44,
   "metadata": {
    "colab": {
     "base_uri": "https://localhost:8080/"
    },
    "executionInfo": {
     "elapsed": 119278,
     "status": "ok",
     "timestamp": 1659930321151,
     "user": {
      "displayName": "P76091250王登立",
      "userId": "09137185860442071355"
     },
     "user_tz": -480
    },
    "id": "cDyLCEk4ivCA",
    "outputId": "1a4ba182-36a0-41d8-8120-89f9838779c4"
   },
   "outputs": [
    {
     "name": "stderr",
     "output_type": "stream",
     "text": [
      "C:\\Users\\User\\anaconda3\\envs\\torch_37py\\lib\\site-packages\\sklearn\\manifold\\_t_sne.py:793: FutureWarning: The default learning rate in TSNE will change from 200.0 to 'auto' in 1.2.\n",
      "  FutureWarning,\n"
     ]
    },
    {
     "name": "stdout",
     "output_type": "stream",
     "text": [
      "[t-SNE] Computing 32 nearest neighbors...\n",
      "[t-SNE] Indexed 33 samples in 0.000s...\n",
      "[t-SNE] Computed neighbors for 33 samples in 0.005s...\n",
      "[t-SNE] Computed conditional probabilities for sample 33 / 33\n",
      "[t-SNE] Mean sigma: 1125899906842624.000000\n",
      "[t-SNE] KL divergence after 250 iterations with early exaggeration: 45.215801\n",
      "[t-SNE] KL divergence after 1300 iterations: 0.520100\n",
      "[t-SNE] Computing 32 nearest neighbors...\n",
      "[t-SNE] Indexed 33 samples in 0.001s...\n",
      "[t-SNE] Computed neighbors for 33 samples in 0.003s...\n",
      "[t-SNE] Computed conditional probabilities for sample 33 / 33\n",
      "[t-SNE] Mean sigma: 1125899906842624.000000\n",
      "[t-SNE] KL divergence after 250 iterations with early exaggeration: 44.475498\n"
     ]
    },
    {
     "name": "stderr",
     "output_type": "stream",
     "text": [
      "C:\\Users\\User\\anaconda3\\envs\\torch_37py\\lib\\site-packages\\sklearn\\manifold\\_t_sne.py:793: FutureWarning: The default learning rate in TSNE will change from 200.0 to 'auto' in 1.2.\n",
      "  FutureWarning,\n"
     ]
    },
    {
     "name": "stdout",
     "output_type": "stream",
     "text": [
      "[t-SNE] KL divergence after 1200 iterations: 0.518405\n",
      "[t-SNE] Computing 151 nearest neighbors...\n",
      "[t-SNE] Indexed 5268 samples in 0.002s...\n"
     ]
    },
    {
     "name": "stderr",
     "output_type": "stream",
     "text": [
      "C:\\Users\\User\\anaconda3\\envs\\torch_37py\\lib\\site-packages\\sklearn\\manifold\\_t_sne.py:793: FutureWarning: The default learning rate in TSNE will change from 200.0 to 'auto' in 1.2.\n",
      "  FutureWarning,\n"
     ]
    },
    {
     "name": "stdout",
     "output_type": "stream",
     "text": [
      "[t-SNE] Computed neighbors for 5268 samples in 1.686s...\n",
      "[t-SNE] Computed conditional probabilities for sample 1000 / 5268\n",
      "[t-SNE] Computed conditional probabilities for sample 2000 / 5268\n",
      "[t-SNE] Computed conditional probabilities for sample 3000 / 5268\n",
      "[t-SNE] Computed conditional probabilities for sample 4000 / 5268\n",
      "[t-SNE] Computed conditional probabilities for sample 5000 / 5268\n",
      "[t-SNE] Computed conditional probabilities for sample 5268 / 5268\n",
      "[t-SNE] Mean sigma: 0.258555\n",
      "[t-SNE] KL divergence after 250 iterations with early exaggeration: 53.741955\n",
      "[t-SNE] KL divergence after 3000 iterations: 0.380260\n"
     ]
    }
   ],
   "source": [
    "'''Validation Data'''\n",
    "attr_tsne_cent= TSNE(n_components=2, init='random', perplexity = 50,n_iter= 3000,verbose=1).fit_transform(val_cent_100)#WordVector為中心，後來沒用到。\n",
    "attr_tsne = TSNE(n_components=2, init='random', perplexity = 50,n_iter= 3000,verbose=1).fit_transform(val_sum_attr)#Class平均值為中心\n",
    "\n",
    "attr_min_, attr_max_ = attr_tsne_cent.min(0), attr_tsne_cent.max(0)\n",
    "attr_norm_cent = (attr_tsne_cent - attr_min_) / (attr_max_ - attr_min_)  #Normalize\n",
    "\n",
    "attr_min, attr_max = attr_tsne.min(0), attr_tsne.max(0)\n",
    "attr_norm = (attr_tsne - attr_min) / (attr_max - attr_min)  #Normalize\n",
    "\n",
    "tsne_data = TSNE(n_components=2, init='random', perplexity = 50,n_iter= 3000,verbose=1).fit_transform(val_attr_v2)"
   ]
  },
  {
   "cell_type": "code",
   "execution_count": 45,
   "metadata": {
    "executionInfo": {
     "elapsed": 6,
     "status": "ok",
     "timestamp": 1659930322231,
     "user": {
      "displayName": "P76091250王登立",
      "userId": "09137185860442071355"
     },
     "user_tz": -480
    },
    "id": "qKx08qpeivCA"
   },
   "outputs": [],
   "source": [
    "attr_min, attr_max = tsne_data.min(0), tsne_data.max(0)\n",
    "norm = (tsne_data - attr_min) / (attr_max  - attr_min)  #Normalize"
   ]
  },
  {
   "cell_type": "code",
   "execution_count": 46,
   "metadata": {
    "colab": {
     "base_uri": "https://localhost:8080/",
     "height": 586
    },
    "executionInfo": {
     "elapsed": 11420,
     "status": "ok",
     "timestamp": 1659930333647,
     "user": {
      "displayName": "P76091250王登立",
      "userId": "09137185860442071355"
     },
     "user_tz": -480
    },
    "id": "serheDmyivCA",
    "outputId": "c23eba87-1b42-4301-e82a-29b8afb91b21"
   },
   "outputs": [
    {
     "data": {
      "image/png": "[encoded data removed]",
      "text/plain": [
       "<Figure size 720x720 with 1 Axes>"
      ]
     },
     "metadata": {},
     "output_type": "display_data"
    }
   ],
   "source": [
    "'''\n",
    "plt.figure(figsize=(10, 10))\n",
    "for i in range(len(attr_norm)):\n",
    "    plt.scatter(attr_norm[i, 0],  attr_norm[i, 1],c='b') #平均\n",
    "    plt.scatter(attr_norm_cent[i, 0],  attr_norm_cent[i, 1],c='r')  #Word vector為Center\n",
    "plt.xticks([])\n",
    "plt.yticks([])\n",
    "plt.show()\n",
    "'''\n",
    "plt.figure(figsize=(10, 10))\n",
    "for i in range(len(norm)):\n",
    "    plt.text(norm[i, 0], norm[i, 1],str(val_label_v2[i]),color=plt.cm.Set2(val_label_v2[i]), \n",
    "             fontdict={'weight': 'bold', 'size': 10})\n",
    "plt.xticks([])\n",
    "plt.yticks([])\n",
    "plt.show()"
   ]
  },
  {
   "cell_type": "code",
   "execution_count": 47,
   "metadata": {
    "colab": {
     "base_uri": "https://localhost:8080/"
    },
    "executionInfo": {
     "elapsed": 230545,
     "status": "ok",
     "timestamp": 1659930564187,
     "user": {
      "displayName": "P76091250王登立",
      "userId": "09137185860442071355"
     },
     "user_tz": -480
    },
    "id": "Tb9SJl2-ivCB",
    "outputId": "35c7706a-e060-4964-c041-9cff588feee7",
    "scrolled": true
   },
   "outputs": [
    {
     "name": "stderr",
     "output_type": "stream",
     "text": [
      "C:\\Users\\User\\anaconda3\\envs\\torch_37py\\lib\\site-packages\\sklearn\\manifold\\_t_sne.py:793: FutureWarning: The default learning rate in TSNE will change from 200.0 to 'auto' in 1.2.\n",
      "  FutureWarning,\n"
     ]
    },
    {
     "name": "stdout",
     "output_type": "stream",
     "text": [
      "[t-SNE] Computing 39 nearest neighbors...\n",
      "[t-SNE] Indexed 40 samples in 0.000s...\n",
      "[t-SNE] Computed neighbors for 40 samples in 0.003s...\n",
      "[t-SNE] Computed conditional probabilities for sample 40 / 40\n",
      "[t-SNE] Mean sigma: 1125899906842624.000000\n",
      "[t-SNE] KL divergence after 250 iterations with early exaggeration: 45.337494\n",
      "[t-SNE] KL divergence after 1350 iterations: 0.564754\n",
      "[t-SNE] Computing 39 nearest neighbors...\n",
      "[t-SNE] Indexed 40 samples in 0.001s...\n",
      "[t-SNE] Computed neighbors for 40 samples in 0.004s...\n",
      "[t-SNE] Computed conditional probabilities for sample 40 / 40\n",
      "[t-SNE] Mean sigma: 1125899906842624.000000\n"
     ]
    },
    {
     "name": "stderr",
     "output_type": "stream",
     "text": [
      "C:\\Users\\User\\anaconda3\\envs\\torch_37py\\lib\\site-packages\\sklearn\\manifold\\_t_sne.py:793: FutureWarning: The default learning rate in TSNE will change from 200.0 to 'auto' in 1.2.\n",
      "  FutureWarning,\n"
     ]
    },
    {
     "name": "stdout",
     "output_type": "stream",
     "text": [
      "[t-SNE] KL divergence after 250 iterations with early exaggeration: 43.720757\n",
      "[t-SNE] KL divergence after 1350 iterations: 0.566043\n",
      "[t-SNE] Computing 151 nearest neighbors...\n",
      "[t-SNE] Indexed 9922 samples in 0.004s...\n"
     ]
    },
    {
     "name": "stderr",
     "output_type": "stream",
     "text": [
      "C:\\Users\\User\\anaconda3\\envs\\torch_37py\\lib\\site-packages\\sklearn\\manifold\\_t_sne.py:793: FutureWarning: The default learning rate in TSNE will change from 200.0 to 'auto' in 1.2.\n",
      "  FutureWarning,\n"
     ]
    },
    {
     "name": "stdout",
     "output_type": "stream",
     "text": [
      "[t-SNE] Computed neighbors for 9922 samples in 5.123s...\n",
      "[t-SNE] Computed conditional probabilities for sample 1000 / 9922\n",
      "[t-SNE] Computed conditional probabilities for sample 2000 / 9922\n",
      "[t-SNE] Computed conditional probabilities for sample 3000 / 9922\n",
      "[t-SNE] Computed conditional probabilities for sample 4000 / 9922\n",
      "[t-SNE] Computed conditional probabilities for sample 5000 / 9922\n",
      "[t-SNE] Computed conditional probabilities for sample 6000 / 9922\n",
      "[t-SNE] Computed conditional probabilities for sample 7000 / 9922\n",
      "[t-SNE] Computed conditional probabilities for sample 8000 / 9922\n",
      "[t-SNE] Computed conditional probabilities for sample 9000 / 9922\n",
      "[t-SNE] Computed conditional probabilities for sample 9922 / 9922\n",
      "[t-SNE] Mean sigma: 0.316933\n",
      "[t-SNE] KL divergence after 250 iterations with early exaggeration: 69.836029\n",
      "[t-SNE] KL divergence after 3000 iterations: 0.927498\n"
     ]
    }
   ],
   "source": [
    "'''Mix Data(Val+Test(33+7) 40類)'''\n",
    "attr_tsne_cent= TSNE(n_components=2, init='random', perplexity = 50,n_iter= 3000,verbose=1).fit_transform(mix_cent)#WordVector為中心，後來沒用到。\n",
    "attr_tsne = TSNE(n_components=2, init='random', perplexity = 50,n_iter= 3000,verbose=1).fit_transform(sum_attr)#Class平均值為中心\n",
    "\n",
    "attr_min_, attr_max_ = attr_tsne_cent.min(0), attr_tsne_cent.max(0)\n",
    "attr_norm_cent = (attr_tsne_cent - attr_min_) / (attr_max_ - attr_min_)  #Normalize\n",
    "\n",
    "attr_min, attr_max = attr_tsne.min(0), attr_tsne.max(0)\n",
    "attr_norm = (attr_tsne - attr_min) / (attr_max - attr_min)  #Normalize\n",
    "\n",
    "tsne_mixdata = TSNE(n_components=2, init='random', perplexity = 50,n_iter= 3000,verbose=1).fit_transform(Img_attr_100_v2)\n",
    "\n",
    "mix_attr_min, mix_attr_max = tsne_mixdata.min(0), tsne_mixdata.max(0)\n",
    "mix_norm = (tsne_mixdata - mix_attr_min) / (mix_attr_max  - mix_attr_min)  #Normalize"
   ]
  },
  {
   "cell_type": "code",
   "execution_count": 48,
   "metadata": {
    "colab": {
     "base_uri": "https://localhost:8080/",
     "height": 583
    },
    "executionInfo": {
     "elapsed": 22519,
     "status": "ok",
     "timestamp": 1659930586693,
     "user": {
      "displayName": "P76091250王登立",
      "userId": "09137185860442071355"
     },
     "user_tz": -480
    },
    "id": "DW56UYaaivCB",
    "outputId": "72271053-94d7-4111-e496-5a643cf68bf3"
   },
   "outputs": [
    {
     "data": {
      "image/png": "[encoded data removed]",
      "text/plain": [
       "<Figure size 720x720 with 1 Axes>"
      ]
     },
     "metadata": {},
     "output_type": "display_data"
    }
   ],
   "source": [
    "'''\n",
    "plt.figure(figsize=(10, 10))\n",
    "\n",
    "#for i in range(len(mix_norm)):\n",
    "#    plt.text(mix_norm[i, 0], mix_norm[i, 1],str(Class_labels_100[i]),color=plt.cm.Set2(Class_labels_100[i]), \n",
    "#             fontdict={'weight': 'bold', 'size': 40})\n",
    "for i in range(len(attr_norm)):\n",
    "    plt.scatter(attr_norm[i, 0],  attr_norm[i, 1],c='b') #平均\n",
    "    #plt.text(attr_norm[i, 0],  attr_norm[i, 1],str(i),color='b',fontdict={'weight': 'bold', 'size': 10})\n",
    "    #plt.text(attr_norm_cent[i, 0],  attr_norm_cent[i, 1],str(i),c='r',fontdict={'weight': 'bold', 'size': 10})\n",
    "    plt.scatter(attr_norm_cent[i, 0],  attr_norm_cent[i, 1],c='r')  #Word vector為Center\n",
    "plt.xticks([])\n",
    "plt.yticks([])\n",
    "plt.show()\n",
    "'''\n",
    "\n",
    "plt.figure(figsize=(10, 10))\n",
    "for i in range(len(mix_norm)):\n",
    "    plt.text(mix_norm[i, 0], mix_norm[i, 1],str(Class_labels_100_v2[i]),color=plt.cm.Set2(Class_labels_100_v2[i]), \n",
    "             fontdict={'weight': 'bold', 'size': 7})\n",
    "plt.xticks([])\n",
    "plt.yticks([])\n",
    "plt.show()\n"
   ]
  },
  {
   "cell_type": "code",
   "execution_count": 49,
   "metadata": {
    "colab": {
     "base_uri": "https://localhost:8080/"
    },
    "executionInfo": {
     "elapsed": 544,
     "status": "ok",
     "timestamp": 1659930587219,
     "user": {
      "displayName": "P76091250王登立",
      "userId": "09137185860442071355"
     },
     "user_tz": -480
    },
    "id": "Gi81MruGivCB",
    "outputId": "4c87bc26-39a7-4a1f-aa7b-9e8fd301b637",
    "scrolled": false
   },
   "outputs": [
    {
     "name": "stderr",
     "output_type": "stream",
     "text": [
      "C:\\Users\\User\\anaconda3\\envs\\torch_37py\\lib\\site-packages\\sklearn\\manifold\\_t_sne.py:793: FutureWarning: The default learning rate in TSNE will change from 200.0 to 'auto' in 1.2.\n",
      "  FutureWarning,\n"
     ]
    },
    {
     "name": "stdout",
     "output_type": "stream",
     "text": [
      "[t-SNE] Computing 6 nearest neighbors...\n",
      "[t-SNE] Indexed 7 samples in 0.001s...\n",
      "[t-SNE] Computed neighbors for 7 samples in 0.002s...\n",
      "[t-SNE] Computed conditional probabilities for sample 7 / 7\n",
      "[t-SNE] Mean sigma: 1125899906842624.000000\n",
      "[t-SNE] KL divergence after 250 iterations with early exaggeration: 71.745148\n",
      "[t-SNE] KL divergence after 500 iterations: 0.158640\n",
      "[t-SNE] Computing 6 nearest neighbors...\n",
      "[t-SNE] Indexed 7 samples in 0.001s...\n",
      "[t-SNE] Computed neighbors for 7 samples in 0.002s...\n",
      "[t-SNE] Computed conditional probabilities for sample 7 / 7\n",
      "[t-SNE] Mean sigma: 1125899906842624.000000\n",
      "[t-SNE] KL divergence after 250 iterations with early exaggeration: 41.181492\n"
     ]
    },
    {
     "name": "stderr",
     "output_type": "stream",
     "text": [
      "C:\\Users\\User\\anaconda3\\envs\\torch_37py\\lib\\site-packages\\sklearn\\manifold\\_t_sne.py:793: FutureWarning: The default learning rate in TSNE will change from 200.0 to 'auto' in 1.2.\n",
      "  FutureWarning,\n"
     ]
    },
    {
     "name": "stdout",
     "output_type": "stream",
     "text": [
      "[t-SNE] KL divergence after 3000 iterations: 0.158646\n"
     ]
    }
   ],
   "source": [
    "attr_tsne_cent= TSNE(n_components=2, init='random', perplexity = 50,n_iter= 3000,verbose=1).fit_transform(test_cent_100)\n",
    "attr_tsne = TSNE(n_components=2, init='random', perplexity = 50,n_iter= 3000,verbose=1).fit_transform(test_sum_attr)\n",
    "\n",
    "attr_min_, attr_max_ = attr_tsne_cent.min(0), attr_tsne_cent.max(0)\n",
    "attr_norm_cent = (attr_tsne_cent - attr_min_) / (attr_max_ - attr_min_)  #Normalize\n",
    "\n",
    "attr_min, attr_max = attr_tsne.min(0), attr_tsne.max(0)\n",
    "attr_norm = (attr_tsne - attr_min) / (attr_max - attr_min)  #Normalize"
   ]
  },
  {
   "cell_type": "code",
   "execution_count": 50,
   "metadata": {
    "colab": {
     "base_uri": "https://localhost:8080/"
    },
    "executionInfo": {
     "elapsed": 103334,
     "status": "ok",
     "timestamp": 1659930690541,
     "user": {
      "displayName": "P76091250王登立",
      "userId": "09137185860442071355"
     },
     "user_tz": -480
    },
    "id": "1oZ_XZfrivCC",
    "outputId": "a14f6000-8ae8-4c7d-b5f8-f2cb89f0c7ea",
    "scrolled": false
   },
   "outputs": [
    {
     "name": "stdout",
     "output_type": "stream",
     "text": [
      "[t-SNE] Computing 151 nearest neighbors...\n",
      "[t-SNE] Indexed 4654 samples in 0.002s...\n"
     ]
    },
    {
     "name": "stderr",
     "output_type": "stream",
     "text": [
      "C:\\Users\\User\\anaconda3\\envs\\torch_37py\\lib\\site-packages\\sklearn\\manifold\\_t_sne.py:793: FutureWarning: The default learning rate in TSNE will change from 200.0 to 'auto' in 1.2.\n",
      "  FutureWarning,\n"
     ]
    },
    {
     "name": "stdout",
     "output_type": "stream",
     "text": [
      "[t-SNE] Computed neighbors for 4654 samples in 1.321s...\n",
      "[t-SNE] Computed conditional probabilities for sample 1000 / 4654\n",
      "[t-SNE] Computed conditional probabilities for sample 2000 / 4654\n",
      "[t-SNE] Computed conditional probabilities for sample 3000 / 4654\n",
      "[t-SNE] Computed conditional probabilities for sample 4000 / 4654\n",
      "[t-SNE] Computed conditional probabilities for sample 4654 / 4654\n",
      "[t-SNE] Mean sigma: 0.682183\n",
      "[t-SNE] KL divergence after 250 iterations with early exaggeration: 73.171425\n",
      "[t-SNE] KL divergence after 3000 iterations: 1.222806\n"
     ]
    }
   ],
   "source": [
    "tsne_testdata = TSNE(n_components=2, init='random', perplexity = 50,n_iter= 3000,verbose=1).fit_transform(test_attr_v2)"
   ]
  },
  {
   "cell_type": "code",
   "execution_count": 51,
   "metadata": {
    "executionInfo": {
     "elapsed": 17,
     "status": "ok",
     "timestamp": 1659930690542,
     "user": {
      "displayName": "P76091250王登立",
      "userId": "09137185860442071355"
     },
     "user_tz": -480
    },
    "id": "hgTtUuJjivCC",
    "scrolled": true
   },
   "outputs": [],
   "source": [
    "test_attr_min, test_attr_max = tsne_testdata.min(0), tsne_testdata.max(0)\n",
    "test_norm = (tsne_testdata - test_attr_min) / (test_attr_max  - test_attr_min)  #Normalize"
   ]
  },
  {
   "cell_type": "code",
   "execution_count": 52,
   "metadata": {
    "colab": {
     "base_uri": "https://localhost:8080/",
     "height": 586
    },
    "executionInfo": {
     "elapsed": 9798,
     "status": "ok",
     "timestamp": 1659930700325,
     "user": {
      "displayName": "P76091250王登立",
      "userId": "09137185860442071355"
     },
     "user_tz": -480
    },
    "id": "dY28AMkiivCC",
    "outputId": "ed9fcac8-ac3a-4a36-bf3e-7aff0ba1265c",
    "scrolled": true
   },
   "outputs": [
    {
     "data": {
      "image/png": "[encoded data removed]",
      "text/plain": [
       "<Figure size 720x720 with 1 Axes>"
      ]
     },
     "metadata": {},
     "output_type": "display_data"
    }
   ],
   "source": [
    "plt.figure(figsize=(10, 10))\n",
    "\n",
    "for i in range(len(test_norm)):\n",
    "    plt.text(mix_norm[i, 0], mix_norm[i, 1],str(test_label_v2[i]),color=plt.cm.Set2(test_label_v2[i]), \n",
    "             fontdict={'weight': 'bold', 'size': 10})\n",
    "'''\n",
    "for i in range(len(attr_norm)):\n",
    "    plt.scatter(attr_norm[i, 0],  attr_norm[i, 1],c='b') #平均\n",
    "    plt.scatter(attr_norm_cent[i, 0],  attr_norm_cent[i, 1],c='r')  #Word vector為Center\n",
    "'''\n",
    "plt.xticks([])\n",
    "plt.yticks([])\n",
    "plt.show()"
   ]
  },
  {
   "cell_type": "markdown",
   "metadata": {
    "id": "Dues886ANhCj"
   },
   "source": [
    "## Classifier_3"
   ]
  },
  {
   "cell_type": "markdown",
   "metadata": {
    "id": "GQH1v-vUqiWn"
   },
   "source": [
    "###  200 demension"
   ]
  },
  {
   "cell_type": "code",
   "execution_count": 53,
   "metadata": {
    "executionInfo": {
     "elapsed": 483,
     "status": "ok",
     "timestamp": 1659932444749,
     "user": {
      "displayName": "P76091250王登立",
      "userId": "09137185860442071355"
     },
     "user_tz": -480
    },
    "id": "YEpcNm8JqiWo"
   },
   "outputs": [],
   "source": [
    "Classes_200=[]\n",
    "Images_200=[]\n",
    "Img_vec_200=[]\n",
    "Class_labels_200=[]\n",
    "Img_attr_200 = []"
   ]
  },
  {
   "cell_type": "code",
   "execution_count": 54,
   "metadata": {
    "executionInfo": {
     "elapsed": 2,
     "status": "ok",
     "timestamp": 1659932445765,
     "user": {
      "displayName": "P76091250王登立",
      "userId": "09137185860442071355"
     },
     "user_tz": -480
    },
    "id": "ax4lvDDGqiWo"
   },
   "outputs": [],
   "source": [
    "Classes_200=[]\n",
    "Images_200=[]\n",
    "Img_vec_200=[]\n",
    "Class_labels_200=[]\n",
    "Img_attr_200 = []\n",
    "#Images_200=np.load('./AWA2_33c/data_200d/mix_img_name.npy',allow_pickle=True)\n",
    "Img_vec_200=np.load('./AWA2_33c/data_200d/mix_img_vec.npy',allow_pickle=True)\n",
    "Classes_200=np.load('./AWA2_33c/data_200d/mix_img_class.npy',allow_pickle=True)\n",
    "Class_labels_200=np.load('./AWA2_33c/data_200d/mix_img_label.npy',allow_pickle=True)\n",
    "Img_attr_200=np.load('./AWA2_33c/data_200d/mix_attr_.npy',allow_pickle=True)"
   ]
  },
  {
   "cell_type": "code",
   "execution_count": 55,
   "metadata": {
    "colab": {
     "base_uri": "https://localhost:8080/"
    },
    "executionInfo": {
     "elapsed": 5,
     "status": "ok",
     "timestamp": 1659932447531,
     "user": {
      "displayName": "P76091250王登立",
      "userId": "09137185860442071355"
     },
     "user_tz": -480
    },
    "id": "1iN46fDNqiWo",
    "outputId": "2273f6ba-ff6e-4a39-802b-128e0be33649"
   },
   "outputs": [
    {
     "name": "stdout",
     "output_type": "stream",
     "text": [
      "40\n",
      "0\n",
      "(9922, 200)\n",
      "(9922,)\n",
      "(9922, 200)\n"
     ]
    }
   ],
   "source": [
    "print(len(Classes_200))\n",
    "print(len(Images_200))\n",
    "print(Img_vec_200.shape)\n",
    "print(Class_labels_200.shape)\n",
    "print(Img_attr_200.shape)"
   ]
  },
  {
   "cell_type": "code",
   "execution_count": 56,
   "metadata": {
    "executionInfo": {
     "elapsed": 2,
     "status": "ok",
     "timestamp": 1659932449917,
     "user": {
      "displayName": "P76091250王登立",
      "userId": "09137185860442071355"
     },
     "user_tz": -480
    },
    "id": "TKTxeZ2DqiWq"
   },
   "outputs": [],
   "source": [
    "mix_cent_200=[]\n",
    "try:\n",
    "  mix_cent_200=np.load('./AWA2_33c/data_200d/mix_cent_vec.npy',allow_pickle=True)\n",
    "except IOError:\n",
    "  glove_vectors = gensim.downloader.load('glove-wiki-gigaword-200') \n",
    "  for i in range(len(Classes_200)):\n",
    "      mix_cent_200+=[glove_vectors[Classes_200[i]]]\n",
    "  mix_cent_200 = np.stack(mix_cent_200)\n",
    "  print(mix_cent_200.shape)\n",
    "  np.save('./AWA2_33c/data_200d/mix_cent_vec.npy', mix_cent_200)\n",
    "  del glove_vectors"
   ]
  },
  {
   "cell_type": "markdown",
   "metadata": {
    "id": "l546DLgpqiWt"
   },
   "source": [
    "#### 以attr平均當center"
   ]
  },
  {
   "cell_type": "code",
   "execution_count": 57,
   "metadata": {
    "colab": {
     "base_uri": "https://localhost:8080/"
    },
    "executionInfo": {
     "elapsed": 3,
     "status": "ok",
     "timestamp": 1659932450855,
     "user": {
      "displayName": "P76091250王登立",
      "userId": "09137185860442071355"
     },
     "user_tz": -480
    },
    "id": "6AG2-8kdqiWt",
    "outputId": "17f98994-29ca-4ae6-d66b-7f7b5c17e274"
   },
   "outputs": [
    {
     "name": "stderr",
     "output_type": "stream",
     "text": [
      "C:\\Users\\User\\anaconda3\\envs\\torch_37py\\lib\\site-packages\\ipykernel_launcher.py:5: DeprecationWarning: elementwise comparison failed; this will raise an error in the future.\n",
      "  \"\"\"\n"
     ]
    }
   ],
   "source": [
    "sum_attr200 = [[] for i in range(40)]\n",
    "count_class = [0 for i in range(40)]\n",
    "for idx in range(len(Img_attr_200)):\n",
    "    l = Class_labels_200[idx]\n",
    "    if sum_attr200[l] == []:\n",
    "        sum_attr200[l] = Img_attr_200[idx]\n",
    "    else:    \n",
    "        sum_attr200[l] += Img_attr_200[idx]\n",
    "    \n",
    "    count_class[l] += 1\n",
    "\n",
    "# averge\n",
    "for i in range(40):\n",
    "    sum_attr200[i] = sum_attr200[i] / count_class[i]\n",
    "\n",
    "sum_attr200 = np.array(sum_attr200)\n"
   ]
  },
  {
   "cell_type": "markdown",
   "metadata": {
    "id": "CUz3JQDIhU5P"
   },
   "source": [
    "#### Val+Test"
   ]
  },
  {
   "cell_type": "code",
   "execution_count": 58,
   "metadata": {
    "colab": {
     "base_uri": "https://localhost:8080/"
    },
    "executionInfo": {
     "elapsed": 3,
     "status": "ok",
     "timestamp": 1659932452591,
     "user": {
      "displayName": "P76091250王登立",
      "userId": "09137185860442071355"
     },
     "user_tz": -480
    },
    "id": "mjisxIYwqiWr",
    "outputId": "d731575a-21d6-4090-95b5-cf9cfe8629d3"
   },
   "outputs": [
    {
     "data": {
      "text/plain": [
       "0.502"
      ]
     },
     "execution_count": 58,
     "metadata": {},
     "output_type": "execute_result"
    }
   ],
   "source": [
    "neigh2 = KNeighborsClassifier(n_neighbors=1)\n",
    "neigh2.fit(mix_cent_200, range(40))\n",
    "mix_acc200 = round(accuracy_score(Class_labels_200, neigh2.predict(Img_attr_200)), 3)\n",
    "mix_acc200\n",
    "#wiki-gigaword-200 :0.502"
   ]
  },
  {
   "cell_type": "code",
   "execution_count": 59,
   "metadata": {
    "colab": {
     "base_uri": "https://localhost:8080/"
    },
    "executionInfo": {
     "elapsed": 530,
     "status": "ok",
     "timestamp": 1659932454393,
     "user": {
      "displayName": "P76091250王登立",
      "userId": "09137185860442071355"
     },
     "user_tz": -480
    },
    "id": "VdFJbbjWqiWu",
    "outputId": "c5afb864-0cf7-49ec-cec2-f5a3645db015"
   },
   "outputs": [
    {
     "data": {
      "text/plain": [
       "0.697"
      ]
     },
     "execution_count": 59,
     "metadata": {},
     "output_type": "execute_result"
    }
   ],
   "source": [
    "neigh2 = KNeighborsClassifier(n_neighbors=1)\n",
    "neigh2.fit(sum_attr200, range(40))\n",
    "mix_acc200 = round(accuracy_score(Class_labels_200, neigh2.predict(Img_attr_200)), 3)\n",
    "mix_acc200\n",
    "#wiki-gigaword-200: 0.697"
   ]
  },
  {
   "cell_type": "markdown",
   "metadata": {
    "id": "q1KZicCyqiWv"
   },
   "source": [
    "#### Val"
   ]
  },
  {
   "cell_type": "code",
   "execution_count": 60,
   "metadata": {
    "id": "yowslN24qiWy"
   },
   "outputs": [],
   "source": [
    "# VAlidation:"
   ]
  },
  {
   "cell_type": "code",
   "execution_count": 61,
   "metadata": {
    "executionInfo": {
     "elapsed": 373,
     "status": "ok",
     "timestamp": 1659932456570,
     "user": {
      "displayName": "P76091250王登立",
      "userId": "09137185860442071355"
     },
     "user_tz": -480
    },
    "id": "sST9D6mQqiWy"
   },
   "outputs": [],
   "source": [
    "val_labels_200=np.load('./AWA2_33c/data_200d/val_img_label.npy',allow_pickle=True)\n",
    "val_attr_200=np.load('./AWA2_33c/data_200d/val_attr.npy',allow_pickle=True)"
   ]
  },
  {
   "cell_type": "code",
   "execution_count": 62,
   "metadata": {
    "executionInfo": {
     "elapsed": 327,
     "status": "ok",
     "timestamp": 1659932458896,
     "user": {
      "displayName": "P76091250王登立",
      "userId": "09137185860442071355"
     },
     "user_tz": -480
    },
    "id": "R8zzksCXqiWy"
   },
   "outputs": [],
   "source": [
    "val_cent_200=mix_cent_200[:33] #VALIDATION的中心點\n",
    "val_sum_attr200=sum_attr200[:33]"
   ]
  },
  {
   "cell_type": "code",
   "execution_count": 63,
   "metadata": {
    "colab": {
     "base_uri": "https://localhost:8080/"
    },
    "executionInfo": {
     "elapsed": 3,
     "status": "ok",
     "timestamp": 1659932460537,
     "user": {
      "displayName": "P76091250王登立",
      "userId": "09137185860442071355"
     },
     "user_tz": -480
    },
    "id": "io1EbZaqqiWz",
    "outputId": "44c0699a-f7c6-4c66-9861-6e3e0904fb23"
   },
   "outputs": [
    {
     "name": "stdout",
     "output_type": "stream",
     "text": [
      "(33, 200)\n",
      "(33, 200)\n"
     ]
    }
   ],
   "source": [
    "print(val_cent_200.shape)\n",
    "print(val_sum_attr200.shape)"
   ]
  },
  {
   "cell_type": "code",
   "execution_count": 64,
   "metadata": {
    "colab": {
     "base_uri": "https://localhost:8080/"
    },
    "executionInfo": {
     "elapsed": 520,
     "status": "ok",
     "timestamp": 1659932461392,
     "user": {
      "displayName": "P76091250王登立",
      "userId": "09137185860442071355"
     },
     "user_tz": -480
    },
    "id": "e5tPEQLeqiWz",
    "outputId": "35b64796-f2fe-45b2-ddcb-8f9db591d413"
   },
   "outputs": [
    {
     "data": {
      "text/plain": [
       "0.945"
      ]
     },
     "execution_count": 64,
     "metadata": {},
     "output_type": "execute_result"
    }
   ],
   "source": [
    "neigh2_val = KNeighborsClassifier(n_neighbors=1)\n",
    "neigh2_val.fit(val_cent_200, range(33))\n",
    "val_acc2 = round(accuracy_score(val_labels_200, neigh2_val.predict(val_attr_200)), 3)\n",
    "val_acc2\n"
   ]
  },
  {
   "cell_type": "code",
   "execution_count": 65,
   "metadata": {
    "colab": {
     "base_uri": "https://localhost:8080/"
    },
    "executionInfo": {
     "elapsed": 5,
     "status": "ok",
     "timestamp": 1659932462177,
     "user": {
      "displayName": "P76091250王登立",
      "userId": "09137185860442071355"
     },
     "user_tz": -480
    },
    "id": "K_D7dbXUqiW0",
    "outputId": "690ff46e-5824-4792-cdbe-9ea0a683e58b"
   },
   "outputs": [
    {
     "data": {
      "text/plain": [
       "0.943"
      ]
     },
     "execution_count": 65,
     "metadata": {},
     "output_type": "execute_result"
    }
   ],
   "source": [
    "neigh2_val = KNeighborsClassifier(n_neighbors=1)\n",
    "neigh2_val.fit(val_sum_attr200, range(33))\n",
    "val_acc2 = round(accuracy_score(val_labels_200, neigh2_val.predict(val_attr_200)), 3)\n",
    "val_acc2"
   ]
  },
  {
   "cell_type": "markdown",
   "metadata": {
    "id": "GTW7YUFBhlw4"
   },
   "source": [
    "#### Test"
   ]
  },
  {
   "cell_type": "code",
   "execution_count": 66,
   "metadata": {
    "executionInfo": {
     "elapsed": 336,
     "status": "ok",
     "timestamp": 1659932464658,
     "user": {
      "displayName": "P76091250王登立",
      "userId": "09137185860442071355"
     },
     "user_tz": -480
    },
    "id": "71k0tHlsqiWw"
   },
   "outputs": [],
   "source": [
    "test_labels_200=np.load('./AWA2_33c/data_200d/test_img_label.npy',allow_pickle=True)\n",
    "test_attr_200=np.load('./AWA2_33c/data_200d/test_attr_200.npy',allow_pickle=True)"
   ]
  },
  {
   "cell_type": "code",
   "execution_count": 67,
   "metadata": {
    "executionInfo": {
     "elapsed": 1,
     "status": "ok",
     "timestamp": 1659932465229,
     "user": {
      "displayName": "P76091250王登立",
      "userId": "09137185860442071355"
     },
     "user_tz": -480
    },
    "id": "dTzSwpYSqiWw"
   },
   "outputs": [],
   "source": [
    "test_cent_200=mix_cent_200[-7:] #TEST的中心點\n",
    "test_sum_attr200=sum_attr200[-7:]"
   ]
  },
  {
   "cell_type": "code",
   "execution_count": 68,
   "metadata": {
    "colab": {
     "base_uri": "https://localhost:8080/"
    },
    "executionInfo": {
     "elapsed": 3,
     "status": "ok",
     "timestamp": 1659930772007,
     "user": {
      "displayName": "P76091250王登立",
      "userId": "09137185860442071355"
     },
     "user_tz": -480
    },
    "id": "wbBGuKd3qiWw",
    "outputId": "967b5243-e62d-4aac-85a9-34ba08c30bd8"
   },
   "outputs": [
    {
     "name": "stdout",
     "output_type": "stream",
     "text": [
      "(7, 200)\n",
      "(7, 200)\n"
     ]
    }
   ],
   "source": [
    "print(test_cent_200.shape)\n",
    "print(test_sum_attr200.shape)"
   ]
  },
  {
   "cell_type": "code",
   "execution_count": 69,
   "metadata": {
    "colab": {
     "base_uri": "https://localhost:8080/"
    },
    "executionInfo": {
     "elapsed": 2,
     "status": "ok",
     "timestamp": 1659932466791,
     "user": {
      "displayName": "P76091250王登立",
      "userId": "09137185860442071355"
     },
     "user_tz": -480
    },
    "id": "9HfMdlLDqiWx",
    "outputId": "3769a03a-1660-4350-bfe7-01767679370e"
   },
   "outputs": [
    {
     "data": {
      "text/plain": [
       "0.43"
      ]
     },
     "execution_count": 69,
     "metadata": {},
     "output_type": "execute_result"
    }
   ],
   "source": [
    "neigh2_test = KNeighborsClassifier(n_neighbors=1)\n",
    "neigh2_test.fit(test_cent_200, range(7))\n",
    "test_acc2 = round(accuracy_score(test_labels_200, neigh2_test.predict(test_attr_200)), 3)\n",
    "test_acc2\n",
    "#wiki-gigaword-200: 0.43"
   ]
  },
  {
   "cell_type": "code",
   "execution_count": 70,
   "metadata": {
    "colab": {
     "base_uri": "https://localhost:8080/"
    },
    "executionInfo": {
     "elapsed": 3,
     "status": "ok",
     "timestamp": 1659932467591,
     "user": {
      "displayName": "P76091250王登立",
      "userId": "09137185860442071355"
     },
     "user_tz": -480
    },
    "id": "kVaOvBM7qiWx",
    "outputId": "6b66a570-c6e7-4c4a-9c6a-fb4e9867ac79"
   },
   "outputs": [
    {
     "data": {
      "text/plain": [
       "0.77"
      ]
     },
     "execution_count": 70,
     "metadata": {},
     "output_type": "execute_result"
    }
   ],
   "source": [
    "neigh2_test = KNeighborsClassifier(n_neighbors=1)\n",
    "neigh2_test.fit(test_sum_attr200, range(7))\n",
    "test_acc2 = round(accuracy_score(test_labels_200, neigh2_test.predict(test_attr_200)), 3)\n",
    "test_acc2\n",
    "#wiki-gigaword-200:0.77"
   ]
  },
  {
   "cell_type": "markdown",
   "metadata": {
    "id": "KEDTBmFSlMy3"
   },
   "source": [
    "#### tsne_graph"
   ]
  },
  {
   "cell_type": "code",
   "execution_count": 71,
   "metadata": {
    "colab": {
     "base_uri": "https://localhost:8080/"
    },
    "executionInfo": {
     "elapsed": 131881,
     "status": "ok",
     "timestamp": 1659930972916,
     "user": {
      "displayName": "P76091250王登立",
      "userId": "09137185860442071355"
     },
     "user_tz": -480
    },
    "id": "I98oQKbslMy4",
    "outputId": "c9c63766-2221-407b-ece1-c98e5c91662b"
   },
   "outputs": [
    {
     "name": "stderr",
     "output_type": "stream",
     "text": [
      "C:\\Users\\User\\anaconda3\\envs\\torch_37py\\lib\\site-packages\\sklearn\\manifold\\_t_sne.py:793: FutureWarning: The default learning rate in TSNE will change from 200.0 to 'auto' in 1.2.\n",
      "  FutureWarning,\n"
     ]
    },
    {
     "name": "stdout",
     "output_type": "stream",
     "text": [
      "[t-SNE] Computing 32 nearest neighbors...\n",
      "[t-SNE] Indexed 33 samples in 0.000s...\n",
      "[t-SNE] Computed neighbors for 33 samples in 0.004s...\n",
      "[t-SNE] Computed conditional probabilities for sample 33 / 33\n",
      "[t-SNE] Mean sigma: 1125899906842624.000000\n",
      "[t-SNE] KL divergence after 250 iterations with early exaggeration: 43.156483\n",
      "[t-SNE] KL divergence after 1500 iterations: 0.528330\n",
      "[t-SNE] Computing 32 nearest neighbors...\n",
      "[t-SNE] Indexed 33 samples in 0.000s...\n",
      "[t-SNE] Computed neighbors for 33 samples in 0.004s...\n",
      "[t-SNE] Computed conditional probabilities for sample 33 / 33\n",
      "[t-SNE] Mean sigma: 1125899906842624.000000\n"
     ]
    },
    {
     "name": "stderr",
     "output_type": "stream",
     "text": [
      "C:\\Users\\User\\anaconda3\\envs\\torch_37py\\lib\\site-packages\\sklearn\\manifold\\_t_sne.py:793: FutureWarning: The default learning rate in TSNE will change from 200.0 to 'auto' in 1.2.\n",
      "  FutureWarning,\n"
     ]
    },
    {
     "name": "stdout",
     "output_type": "stream",
     "text": [
      "[t-SNE] KL divergence after 250 iterations with early exaggeration: 44.542732\n",
      "[t-SNE] KL divergence after 1250 iterations: 0.524189\n",
      "[t-SNE] Computing 151 nearest neighbors...\n",
      "[t-SNE] Indexed 5268 samples in 0.005s...\n"
     ]
    },
    {
     "name": "stderr",
     "output_type": "stream",
     "text": [
      "C:\\Users\\User\\anaconda3\\envs\\torch_37py\\lib\\site-packages\\sklearn\\manifold\\_t_sne.py:793: FutureWarning: The default learning rate in TSNE will change from 200.0 to 'auto' in 1.2.\n",
      "  FutureWarning,\n"
     ]
    },
    {
     "name": "stdout",
     "output_type": "stream",
     "text": [
      "[t-SNE] Computed neighbors for 5268 samples in 1.645s...\n",
      "[t-SNE] Computed conditional probabilities for sample 1000 / 5268\n",
      "[t-SNE] Computed conditional probabilities for sample 2000 / 5268\n",
      "[t-SNE] Computed conditional probabilities for sample 3000 / 5268\n",
      "[t-SNE] Computed conditional probabilities for sample 4000 / 5268\n",
      "[t-SNE] Computed conditional probabilities for sample 5000 / 5268\n",
      "[t-SNE] Computed conditional probabilities for sample 5268 / 5268\n",
      "[t-SNE] Mean sigma: 0.143476\n",
      "[t-SNE] KL divergence after 250 iterations with early exaggeration: 52.556976\n",
      "[t-SNE] KL divergence after 3000 iterations: 0.374993\n"
     ]
    }
   ],
   "source": [
    "'''Validation Data'''\n",
    "attr_tsne_cent= TSNE(n_components=2, init='random', perplexity = 50,n_iter= 3000,verbose=1).fit_transform(val_cent_200)#WordVector為中心，後來沒用到。\n",
    "attr_tsne = TSNE(n_components=2, init='random', perplexity = 50,n_iter= 3000,verbose=1).fit_transform(val_sum_attr200)#Class平均值為中心\n",
    "\n",
    "attr_min_, attr_max_ = attr_tsne_cent.min(0), attr_tsne_cent.max(0)\n",
    "attr_norm_cent = (attr_tsne_cent - attr_min_) / (attr_max_ - attr_min_)  #Normalize\n",
    "\n",
    "attr_min, attr_max = attr_tsne.min(0), attr_tsne.max(0)\n",
    "attr_norm = (attr_tsne - attr_min) / (attr_max - attr_min)  #Normalize\n",
    "\n",
    "tsne_data = TSNE(n_components=2, init='random', perplexity = 50,n_iter= 3000,verbose=1).fit_transform(val_attr_200)"
   ]
  },
  {
   "cell_type": "code",
   "execution_count": 72,
   "metadata": {
    "executionInfo": {
     "elapsed": 24,
     "status": "ok",
     "timestamp": 1659930972916,
     "user": {
      "displayName": "P76091250王登立",
      "userId": "09137185860442071355"
     },
     "user_tz": -480
    },
    "id": "ApB8GLg6lMy4"
   },
   "outputs": [],
   "source": [
    "attr_min, attr_max = tsne_data.min(0), tsne_data.max(0)\n",
    "norm = (tsne_data - attr_min) / (attr_max  - attr_min)  #Normalize"
   ]
  },
  {
   "cell_type": "code",
   "execution_count": 73,
   "metadata": {
    "colab": {
     "base_uri": "https://localhost:8080/",
     "height": 586
    },
    "executionInfo": {
     "elapsed": 12587,
     "status": "ok",
     "timestamp": 1659930985493,
     "user": {
      "displayName": "P76091250王登立",
      "userId": "09137185860442071355"
     },
     "user_tz": -480
    },
    "id": "BzIP7giJlMy4",
    "outputId": "9bcbddef-c2e3-498f-b152-f88e6699c641"
   },
   "outputs": [
    {
     "data": {
      "image/png": "[encoded data removed]",
      "text/plain": [
       "<Figure size 720x720 with 1 Axes>"
      ]
     },
     "metadata": {},
     "output_type": "display_data"
    }
   ],
   "source": [
    "'''\n",
    "plt.figure(figsize=(10, 10))\n",
    "for i in range(len(attr_norm)):\n",
    "    plt.scatter(attr_norm[i, 0],  attr_norm[i, 1],c='b') #平均\n",
    "    plt.scatter(attr_norm_cent[i, 0],  attr_norm_cent[i, 1],c='r')  #Word vector為Center\n",
    "plt.xticks([])\n",
    "plt.yticks([])\n",
    "plt.show()\n",
    "'''\n",
    "plt.figure(figsize=(10, 10))\n",
    "for i in range(len(norm)):\n",
    "    plt.text(norm[i, 0], norm[i, 1],str(val_labels_200[i]),color=plt.cm.Set2(val_labels_200[i]), \n",
    "             fontdict={'weight': 'bold', 'size': 10})\n",
    "plt.xticks([])\n",
    "plt.yticks([])\n",
    "plt.show()"
   ]
  },
  {
   "cell_type": "code",
   "execution_count": 74,
   "metadata": {
    "colab": {
     "base_uri": "https://localhost:8080/"
    },
    "executionInfo": {
     "elapsed": 227264,
     "status": "ok",
     "timestamp": 1659931213769,
     "user": {
      "displayName": "P76091250王登立",
      "userId": "09137185860442071355"
     },
     "user_tz": -480
    },
    "id": "FWkFy6ZHlMy4",
    "outputId": "f1804802-4448-41be-eba2-2fd14d7a2557",
    "scrolled": true
   },
   "outputs": [
    {
     "name": "stderr",
     "output_type": "stream",
     "text": [
      "C:\\Users\\User\\anaconda3\\envs\\torch_37py\\lib\\site-packages\\sklearn\\manifold\\_t_sne.py:793: FutureWarning: The default learning rate in TSNE will change from 200.0 to 'auto' in 1.2.\n",
      "  FutureWarning,\n"
     ]
    },
    {
     "name": "stdout",
     "output_type": "stream",
     "text": [
      "[t-SNE] Computing 39 nearest neighbors...\n",
      "[t-SNE] Indexed 40 samples in 0.001s...\n",
      "[t-SNE] Computed neighbors for 40 samples in 0.009s...\n",
      "[t-SNE] Computed conditional probabilities for sample 40 / 40\n",
      "[t-SNE] Mean sigma: 1125899906842624.000000\n",
      "[t-SNE] KL divergence after 250 iterations with early exaggeration: 45.052326\n",
      "[t-SNE] KL divergence after 1250 iterations: 0.564211\n",
      "[t-SNE] Computing 39 nearest neighbors...\n",
      "[t-SNE] Indexed 40 samples in 0.000s...\n",
      "[t-SNE] Computed neighbors for 40 samples in 0.003s...\n",
      "[t-SNE] Computed conditional probabilities for sample 40 / 40\n",
      "[t-SNE] Mean sigma: 1125899906842624.000000\n",
      "[t-SNE] KL divergence after 250 iterations with early exaggeration: 44.689980\n"
     ]
    },
    {
     "name": "stderr",
     "output_type": "stream",
     "text": [
      "C:\\Users\\User\\anaconda3\\envs\\torch_37py\\lib\\site-packages\\sklearn\\manifold\\_t_sne.py:793: FutureWarning: The default learning rate in TSNE will change from 200.0 to 'auto' in 1.2.\n",
      "  FutureWarning,\n"
     ]
    },
    {
     "name": "stdout",
     "output_type": "stream",
     "text": [
      "[t-SNE] KL divergence after 1000 iterations: 0.568823\n",
      "[t-SNE] Computing 151 nearest neighbors...\n",
      "[t-SNE] Indexed 9922 samples in 0.007s...\n"
     ]
    },
    {
     "name": "stderr",
     "output_type": "stream",
     "text": [
      "C:\\Users\\User\\anaconda3\\envs\\torch_37py\\lib\\site-packages\\sklearn\\manifold\\_t_sne.py:793: FutureWarning: The default learning rate in TSNE will change from 200.0 to 'auto' in 1.2.\n",
      "  FutureWarning,\n"
     ]
    },
    {
     "name": "stdout",
     "output_type": "stream",
     "text": [
      "[t-SNE] Computed neighbors for 9922 samples in 3.824s...\n",
      "[t-SNE] Computed conditional probabilities for sample 1000 / 9922\n",
      "[t-SNE] Computed conditional probabilities for sample 2000 / 9922\n",
      "[t-SNE] Computed conditional probabilities for sample 3000 / 9922\n",
      "[t-SNE] Computed conditional probabilities for sample 4000 / 9922\n",
      "[t-SNE] Computed conditional probabilities for sample 5000 / 9922\n",
      "[t-SNE] Computed conditional probabilities for sample 6000 / 9922\n",
      "[t-SNE] Computed conditional probabilities for sample 7000 / 9922\n",
      "[t-SNE] Computed conditional probabilities for sample 8000 / 9922\n",
      "[t-SNE] Computed conditional probabilities for sample 9000 / 9922\n",
      "[t-SNE] Computed conditional probabilities for sample 9922 / 9922\n",
      "[t-SNE] Mean sigma: 0.188830\n",
      "[t-SNE] KL divergence after 250 iterations with early exaggeration: 68.395729\n",
      "[t-SNE] KL divergence after 3000 iterations: 0.904164\n"
     ]
    }
   ],
   "source": [
    "'''Mix Data(Val+Test(33+7) 40類)'''\n",
    "attr_tsne_cent= TSNE(n_components=2, init='random', perplexity = 50,n_iter= 3000,verbose=1).fit_transform(mix_cent_200)#WordVector為中心，後來沒用到。\n",
    "attr_tsne = TSNE(n_components=2, init='random', perplexity = 50,n_iter= 3000,verbose=1).fit_transform(sum_attr200)#Class平均值為中心\n",
    "\n",
    "attr_min_, attr_max_ = attr_tsne_cent.min(0), attr_tsne_cent.max(0)\n",
    "attr_norm_cent = (attr_tsne_cent - attr_min_) / (attr_max_ - attr_min_)  #Normalize\n",
    "\n",
    "attr_min, attr_max = attr_tsne.min(0), attr_tsne.max(0)\n",
    "attr_norm = (attr_tsne - attr_min) / (attr_max - attr_min)  #Normalize\n",
    "\n",
    "tsne_mixdata = TSNE(n_components=2, init='random', perplexity = 50,n_iter= 3000,verbose=1).fit_transform(Img_attr_200)\n",
    "\n",
    "mix_attr_min, mix_attr_max = tsne_mixdata.min(0), tsne_mixdata.max(0)\n",
    "mix_norm = (tsne_mixdata - mix_attr_min) / (mix_attr_max  - mix_attr_min)  #Normalize"
   ]
  },
  {
   "cell_type": "code",
   "execution_count": 75,
   "metadata": {
    "colab": {
     "base_uri": "https://localhost:8080/",
     "height": 583
    },
    "executionInfo": {
     "elapsed": 21984,
     "status": "ok",
     "timestamp": 1659931235735,
     "user": {
      "displayName": "P76091250王登立",
      "userId": "09137185860442071355"
     },
     "user_tz": -480
    },
    "id": "v8VeZ8VZlMy5",
    "outputId": "b3897936-fbcc-4289-82d5-afa3cdc61e0a"
   },
   "outputs": [
    {
     "data": {
      "image/png": "[encoded data removed]",
      "text/plain": [
       "<Figure size 720x720 with 1 Axes>"
      ]
     },
     "metadata": {},
     "output_type": "display_data"
    }
   ],
   "source": [
    "'''\n",
    "plt.figure(figsize=(10, 10))\n",
    "\n",
    "#for i in range(len(mix_norm)):\n",
    "#    plt.text(mix_norm[i, 0], mix_norm[i, 1],str(Class_labels_100[i]),color=plt.cm.Set2(Class_labels_100[i]), \n",
    "#             fontdict={'weight': 'bold', 'size': 40})\n",
    "for i in range(len(attr_norm)):\n",
    "    plt.scatter(attr_norm[i, 0],  attr_norm[i, 1],c='b') #平均\n",
    "    #plt.text(attr_norm[i, 0],  attr_norm[i, 1],str(i),color='b',fontdict={'weight': 'bold', 'size': 10})\n",
    "    #plt.text(attr_norm_cent[i, 0],  attr_norm_cent[i, 1],str(i),c='r',fontdict={'weight': 'bold', 'size': 10})\n",
    "    plt.scatter(attr_norm_cent[i, 0],  attr_norm_cent[i, 1],c='r')  #Word vector為Center\n",
    "plt.xticks([])\n",
    "plt.yticks([])\n",
    "plt.show()\n",
    "'''\n",
    "\n",
    "plt.figure(figsize=(10, 10))\n",
    "for i in range(len(mix_norm)):\n",
    "    plt.text(mix_norm[i, 0], mix_norm[i, 1],str(Class_labels_200[i]),color=plt.cm.Set2(Class_labels_200[i]), \n",
    "             fontdict={'weight': 'bold', 'size': 7})\n",
    "plt.xticks([])\n",
    "plt.yticks([])\n",
    "plt.show()\n"
   ]
  },
  {
   "cell_type": "code",
   "execution_count": 76,
   "metadata": {
    "colab": {
     "base_uri": "https://localhost:8080/"
    },
    "executionInfo": {
     "elapsed": 16,
     "status": "ok",
     "timestamp": 1659931235738,
     "user": {
      "displayName": "P76091250王登立",
      "userId": "09137185860442071355"
     },
     "user_tz": -480
    },
    "id": "FrQzaBx-lMy5",
    "outputId": "5a02238e-d9fa-4912-8fab-c8133a2eb2ba",
    "scrolled": false
   },
   "outputs": [
    {
     "name": "stderr",
     "output_type": "stream",
     "text": [
      "C:\\Users\\User\\anaconda3\\envs\\torch_37py\\lib\\site-packages\\sklearn\\manifold\\_t_sne.py:793: FutureWarning: The default learning rate in TSNE will change from 200.0 to 'auto' in 1.2.\n",
      "  FutureWarning,\n"
     ]
    },
    {
     "name": "stdout",
     "output_type": "stream",
     "text": [
      "[t-SNE] Computing 6 nearest neighbors...\n",
      "[t-SNE] Indexed 7 samples in 0.000s...\n",
      "[t-SNE] Computed neighbors for 7 samples in 0.002s...\n",
      "[t-SNE] Computed conditional probabilities for sample 7 / 7\n",
      "[t-SNE] Mean sigma: 1125899906842624.000000\n",
      "[t-SNE] KL divergence after 250 iterations with early exaggeration: 33.661156\n",
      "[t-SNE] KL divergence after 3000 iterations: 0.158565\n",
      "[t-SNE] Computing 6 nearest neighbors...\n",
      "[t-SNE] Indexed 7 samples in 0.000s...\n",
      "[t-SNE] Computed neighbors for 7 samples in 0.002s...\n",
      "[t-SNE] Computed conditional probabilities for sample 7 / 7\n",
      "[t-SNE] Mean sigma: 1125899906842624.000000\n",
      "[t-SNE] KL divergence after 250 iterations with early exaggeration: 40.638840\n"
     ]
    },
    {
     "name": "stderr",
     "output_type": "stream",
     "text": [
      "C:\\Users\\User\\anaconda3\\envs\\torch_37py\\lib\\site-packages\\sklearn\\manifold\\_t_sne.py:793: FutureWarning: The default learning rate in TSNE will change from 200.0 to 'auto' in 1.2.\n",
      "  FutureWarning,\n"
     ]
    },
    {
     "name": "stdout",
     "output_type": "stream",
     "text": [
      "[t-SNE] KL divergence after 2050 iterations: 0.158650\n"
     ]
    }
   ],
   "source": [
    "attr_tsne_cent= TSNE(n_components=2, init='random', perplexity = 50,n_iter= 3000,verbose=1).fit_transform(test_cent_200)\n",
    "attr_tsne = TSNE(n_components=2, init='random', perplexity = 50,n_iter= 3000,verbose=1).fit_transform(test_sum_attr200)\n",
    "\n",
    "attr_min_, attr_max_ = attr_tsne_cent.min(0), attr_tsne_cent.max(0)\n",
    "attr_norm_cent = (attr_tsne_cent - attr_min_) / (attr_max_ - attr_min_)  #Normalize\n",
    "\n",
    "attr_min, attr_max = attr_tsne.min(0), attr_tsne.max(0)\n",
    "attr_norm = (attr_tsne - attr_min) / (attr_max - attr_min)  #Normalize"
   ]
  },
  {
   "cell_type": "code",
   "execution_count": 77,
   "metadata": {
    "colab": {
     "base_uri": "https://localhost:8080/"
    },
    "executionInfo": {
     "elapsed": 100259,
     "status": "ok",
     "timestamp": 1659931335984,
     "user": {
      "displayName": "P76091250王登立",
      "userId": "09137185860442071355"
     },
     "user_tz": -480
    },
    "id": "JOlO5qCLlMy5",
    "outputId": "7a3ace8a-184d-444d-bab3-7d8cb9b5ef29",
    "scrolled": false
   },
   "outputs": [
    {
     "name": "stdout",
     "output_type": "stream",
     "text": [
      "[t-SNE] Computing 151 nearest neighbors...\n",
      "[t-SNE] Indexed 4654 samples in 0.003s...\n"
     ]
    },
    {
     "name": "stderr",
     "output_type": "stream",
     "text": [
      "C:\\Users\\User\\anaconda3\\envs\\torch_37py\\lib\\site-packages\\sklearn\\manifold\\_t_sne.py:793: FutureWarning: The default learning rate in TSNE will change from 200.0 to 'auto' in 1.2.\n",
      "  FutureWarning,\n"
     ]
    },
    {
     "name": "stdout",
     "output_type": "stream",
     "text": [
      "[t-SNE] Computed neighbors for 4654 samples in 1.302s...\n",
      "[t-SNE] Computed conditional probabilities for sample 1000 / 4654\n",
      "[t-SNE] Computed conditional probabilities for sample 2000 / 4654\n",
      "[t-SNE] Computed conditional probabilities for sample 3000 / 4654\n",
      "[t-SNE] Computed conditional probabilities for sample 4000 / 4654\n",
      "[t-SNE] Computed conditional probabilities for sample 4654 / 4654\n",
      "[t-SNE] Mean sigma: 0.819738\n",
      "[t-SNE] KL divergence after 250 iterations with early exaggeration: 71.756653\n",
      "[t-SNE] KL divergence after 3000 iterations: 1.167691\n"
     ]
    }
   ],
   "source": [
    "tsne_testdata = TSNE(n_components=2, init='random', perplexity = 50,n_iter= 3000,verbose=1).fit_transform(test_attr_200)"
   ]
  },
  {
   "cell_type": "code",
   "execution_count": 78,
   "metadata": {
    "executionInfo": {
     "elapsed": 15,
     "status": "ok",
     "timestamp": 1659931335985,
     "user": {
      "displayName": "P76091250王登立",
      "userId": "09137185860442071355"
     },
     "user_tz": -480
    },
    "id": "D5QHAcBWlMy5",
    "scrolled": true
   },
   "outputs": [],
   "source": [
    "test_attr_min, test_attr_max = tsne_testdata.min(0), tsne_testdata.max(0)\n",
    "test_norm = (tsne_testdata - test_attr_min) / (test_attr_max  - test_attr_min)  #Normalize"
   ]
  },
  {
   "cell_type": "code",
   "execution_count": 79,
   "metadata": {
    "colab": {
     "base_uri": "https://localhost:8080/",
     "height": 586
    },
    "executionInfo": {
     "elapsed": 9581,
     "status": "ok",
     "timestamp": 1659931345552,
     "user": {
      "displayName": "P76091250王登立",
      "userId": "09137185860442071355"
     },
     "user_tz": -480
    },
    "id": "q50fbmFplMy5",
    "outputId": "6fcdb673-024d-4cd2-c270-4a6bfbcce512",
    "scrolled": true
   },
   "outputs": [
    {
     "data": {
      "image/png": "[encoded data removed]",
      "text/plain": [
       "<Figure size 720x720 with 1 Axes>"
      ]
     },
     "metadata": {},
     "output_type": "display_data"
    }
   ],
   "source": [
    "plt.figure(figsize=(10, 10))\n",
    "\n",
    "for i in range(len(test_norm)):\n",
    "    plt.text(mix_norm[i, 0], mix_norm[i, 1],str(test_labels_200[i]),color=plt.cm.Set2(test_labels_200[i]), \n",
    "             fontdict={'weight': 'bold', 'size': 10})\n",
    "'''\n",
    "for i in range(len(attr_norm)):\n",
    "    plt.scatter(attr_norm[i, 0],  attr_norm[i, 1],c='b') #平均\n",
    "    plt.scatter(attr_norm_cent[i, 0],  attr_norm_cent[i, 1],c='r')  #Word vector為Center\n",
    "'''\n",
    "plt.xticks([])\n",
    "plt.yticks([])\n",
    "plt.show()"
   ]
  },
  {
   "cell_type": "markdown",
   "metadata": {
    "id": "uKPLk2CRh3oW"
   },
   "source": [
    "## Classifier_4"
   ]
  },
  {
   "cell_type": "markdown",
   "metadata": {
    "id": "tVE8JPveqiW9"
   },
   "source": [
    "### 300 dimension"
   ]
  },
  {
   "cell_type": "code",
   "execution_count": 80,
   "metadata": {
    "executionInfo": {
     "elapsed": 419,
     "status": "ok",
     "timestamp": 1659932473399,
     "user": {
      "displayName": "P76091250王登立",
      "userId": "09137185860442071355"
     },
     "user_tz": -480
    },
    "id": "86eLDiHSqiW9"
   },
   "outputs": [],
   "source": [
    "Classes_300=[]\n",
    "Images_300=[]\n",
    "Img_vec_300=[]\n",
    "Class_labels_300=[]\n",
    "Img_attr_300 = []\n",
    "\n",
    "#Images_300=np.load('./data_300d/mix_img_name.npy',allow_pickle=True)\n",
    "Img_vec_300=np.load('./AWA2_33c/data_300d_v2/mix_img_vec.npy',allow_pickle=True)\n",
    "Classes_300=np.load('./AWA2_33c/data_300d_v2/mix_img_class.npy',allow_pickle=True)\n",
    "Class_labels_300=np.load('./AWA2_33c/data_300d_v2/mix_img_label.npy',allow_pickle=True)\n",
    "Img_attr_300=np.load('./AWA2_33c/data_300d_v2/mix_attr_300.npy',allow_pickle=True)"
   ]
  },
  {
   "cell_type": "code",
   "execution_count": 81,
   "metadata": {
    "colab": {
     "base_uri": "https://localhost:8080/"
    },
    "executionInfo": {
     "elapsed": 349,
     "status": "ok",
     "timestamp": 1659884676867,
     "user": {
      "displayName": "王登立 WANG DENG LI P76091250",
      "userId": "09137185860442071355"
     },
     "user_tz": -480
    },
    "id": "1LWAGePEqiW-",
    "outputId": "e516290d-dc59-491b-d024-2a1d860fb877"
   },
   "outputs": [
    {
     "name": "stdout",
     "output_type": "stream",
     "text": [
      "40\n",
      "(9922, 300)\n",
      "(9922,)\n",
      "(9922, 300)\n"
     ]
    }
   ],
   "source": [
    "print(len(Classes_300))\n",
    "#print(len(Images_300))\n",
    "print(Img_vec_300.shape)\n",
    "print(Class_labels_300.shape)\n",
    "print(Img_attr_300.shape)"
   ]
  },
  {
   "cell_type": "code",
   "execution_count": 82,
   "metadata": {
    "id": "u_0gsfkEqiW_"
   },
   "outputs": [],
   "source": [
    "#print(Img_vec_300[0])\n",
    "#print(Class_labels_300.shape)\n",
    "#print(Img_attr_300[0])"
   ]
  },
  {
   "cell_type": "code",
   "execution_count": 83,
   "metadata": {
    "executionInfo": {
     "elapsed": 333,
     "status": "ok",
     "timestamp": 1659932476255,
     "user": {
      "displayName": "P76091250王登立",
      "userId": "09137185860442071355"
     },
     "user_tz": -480
    },
    "id": "KEPVx2X5h8xg"
   },
   "outputs": [],
   "source": [
    "cent_300=[]\n",
    "try:\n",
    "  cent_300=np.load('./AWA2_33c/data_300d_v2/mix_cent_vec.npy',allow_pickle=True)\n",
    "except IOError:\n",
    "  glove_vectors = gensim.downloader.load('word2vec-google-news-300') \n",
    "  for i in range(len(Classes_300)):\n",
    "      cent_300+=[glove_vectors[Classes_300[i]]]\n",
    "  cent_300 = np.stack(cent_300)\n",
    "  print(cent_300.shape)\n",
    "  np.save('./AWA2_33c/data_300d_v2/mix_cent_vec.npy', cent_300)\n",
    "  del glove_vectors"
   ]
  },
  {
   "cell_type": "code",
   "execution_count": 84,
   "metadata": {
    "colab": {
     "base_uri": "https://localhost:8080/"
    },
    "executionInfo": {
     "elapsed": 622,
     "status": "ok",
     "timestamp": 1659884680023,
     "user": {
      "displayName": "王登立 WANG DENG LI P76091250",
      "userId": "09137185860442071355"
     },
     "user_tz": -480
    },
    "id": "0IIw5KCtqiXB",
    "outputId": "d20cefaa-dd62-4d88-8a5a-86fc7628279a"
   },
   "outputs": [
    {
     "name": "stdout",
     "output_type": "stream",
     "text": [
      "(40, 300)\n"
     ]
    }
   ],
   "source": [
    "print(cent_300.shape)"
   ]
  },
  {
   "cell_type": "markdown",
   "metadata": {
    "id": "ocCI8zq6qiXC"
   },
   "source": [
    "#### 以attr平均當center"
   ]
  },
  {
   "cell_type": "code",
   "execution_count": 85,
   "metadata": {
    "colab": {
     "base_uri": "https://localhost:8080/"
    },
    "executionInfo": {
     "elapsed": 517,
     "status": "ok",
     "timestamp": 1659932477553,
     "user": {
      "displayName": "P76091250王登立",
      "userId": "09137185860442071355"
     },
     "user_tz": -480
    },
    "id": "66o4xxHpqiXC",
    "outputId": "4f47c611-7856-4f76-c8d8-4f68e3569204"
   },
   "outputs": [
    {
     "name": "stderr",
     "output_type": "stream",
     "text": [
      "C:\\Users\\User\\anaconda3\\envs\\torch_37py\\lib\\site-packages\\ipykernel_launcher.py:5: DeprecationWarning: elementwise comparison failed; this will raise an error in the future.\n",
      "  \"\"\"\n"
     ]
    }
   ],
   "source": [
    "sum_attr300 = [[] for i in range(40)]\n",
    "count_class = [0 for i in range(40)]\n",
    "for idx in range(len(Img_attr_300)):\n",
    "    l = Class_labels_300[idx]\n",
    "    if sum_attr300[l] == []:\n",
    "        sum_attr300[l] = Img_attr_300[idx]\n",
    "    else:    \n",
    "        sum_attr300[l] += Img_attr_300[idx]\n",
    "    \n",
    "    count_class[l] += 1\n",
    "\n",
    "# averge\n",
    "for i in range(40):\n",
    "    sum_attr300[i] = sum_attr300[i] / count_class[i]\n",
    "\n",
    "sum_attr300 = np.array(sum_attr300)"
   ]
  },
  {
   "cell_type": "code",
   "execution_count": 86,
   "metadata": {
    "colab": {
     "base_uri": "https://localhost:8080/"
    },
    "executionInfo": {
     "elapsed": 414,
     "status": "ok",
     "timestamp": 1659884691878,
     "user": {
      "displayName": "王登立 WANG DENG LI P76091250",
      "userId": "09137185860442071355"
     },
     "user_tz": -480
    },
    "id": "Dr6IKonH1kP2",
    "outputId": "3838e5a6-1ef2-4cae-85d5-b7044700b4cf"
   },
   "outputs": [
    {
     "data": {
      "text/plain": [
       "(40, 300)"
      ]
     },
     "execution_count": 86,
     "metadata": {},
     "output_type": "execute_result"
    }
   ],
   "source": [
    "sum_attr300.shape"
   ]
  },
  {
   "cell_type": "markdown",
   "metadata": {
    "id": "4-_KsNKZi6kg"
   },
   "source": [
    "#### Val+Test"
   ]
  },
  {
   "cell_type": "code",
   "execution_count": 87,
   "metadata": {
    "colab": {
     "base_uri": "https://localhost:8080/"
    },
    "executionInfo": {
     "elapsed": 370,
     "status": "ok",
     "timestamp": 1659932488898,
     "user": {
      "displayName": "P76091250王登立",
      "userId": "09137185860442071355"
     },
     "user_tz": -480
    },
    "id": "jnItKlhJqiXC",
    "outputId": "89e3d954-6f83-4735-f4bb-159eedbc869e"
   },
   "outputs": [
    {
     "data": {
      "text/plain": [
       "0.503"
      ]
     },
     "execution_count": 87,
     "metadata": {},
     "output_type": "execute_result"
    }
   ],
   "source": [
    "neigh3 = KNeighborsClassifier(n_neighbors=1)\n",
    "neigh3.fit(cent_300, range(40))\n",
    "mix_acc300 = round(accuracy_score(Class_labels_300, neigh3.predict(Img_attr_300)), 3)\n",
    "mix_acc300"
   ]
  },
  {
   "cell_type": "code",
   "execution_count": 88,
   "metadata": {
    "colab": {
     "base_uri": "https://localhost:8080/"
    },
    "executionInfo": {
     "elapsed": 886,
     "status": "ok",
     "timestamp": 1659932488201,
     "user": {
      "displayName": "P76091250王登立",
      "userId": "09137185860442071355"
     },
     "user_tz": -480
    },
    "id": "zQBQjKrwqiXD",
    "outputId": "813ae6bd-7051-4a44-83fe-41893ffac3b4"
   },
   "outputs": [
    {
     "data": {
      "text/plain": [
       "0.659"
      ]
     },
     "execution_count": 88,
     "metadata": {},
     "output_type": "execute_result"
    }
   ],
   "source": [
    "neigh3 = KNeighborsClassifier(n_neighbors=1)\n",
    "neigh3.fit(sum_attr300, range(40))\n",
    "mix_acc300 = round(accuracy_score(Class_labels_300, neigh3.predict(Img_attr_300)), 3)\n",
    "mix_acc300"
   ]
  },
  {
   "cell_type": "markdown",
   "metadata": {
    "id": "hB-7Arg_qiXE"
   },
   "source": [
    "#### Val"
   ]
  },
  {
   "cell_type": "code",
   "execution_count": 89,
   "metadata": {
    "id": "agMTpTJbqiXK"
   },
   "outputs": [],
   "source": [
    "# VAlidation:"
   ]
  },
  {
   "cell_type": "code",
   "execution_count": 90,
   "metadata": {
    "executionInfo": {
     "elapsed": 491,
     "status": "ok",
     "timestamp": 1659932492350,
     "user": {
      "displayName": "P76091250王登立",
      "userId": "09137185860442071355"
     },
     "user_tz": -480
    },
    "id": "bAj9QrGvqiXK"
   },
   "outputs": [],
   "source": [
    "val_labels_300=np.load('./AWA2_33c/data_300d_v2/val_img_label.npy',allow_pickle=True)\n",
    "val_attr_300=np.load('./AWA2_33c/data_300d_v2/val_attr_300d.npy',allow_pickle=True)\n",
    "\n",
    "val_cent_300=cent_300[:33] \n",
    "val_sum_attr300=sum_attr300[:33]"
   ]
  },
  {
   "cell_type": "code",
   "execution_count": 91,
   "metadata": {
    "colab": {
     "base_uri": "https://localhost:8080/"
    },
    "executionInfo": {
     "elapsed": 4,
     "status": "ok",
     "timestamp": 1659884719140,
     "user": {
      "displayName": "王登立 WANG DENG LI P76091250",
      "userId": "09137185860442071355"
     },
     "user_tz": -480
    },
    "id": "hoXE5_BAqiXL",
    "outputId": "539ddd32-1ad9-47c5-956c-e6513a353370"
   },
   "outputs": [
    {
     "name": "stdout",
     "output_type": "stream",
     "text": [
      "(33, 300)\n",
      "(33, 300)\n"
     ]
    }
   ],
   "source": [
    "print(val_cent_300.shape)\n",
    "print(val_sum_attr300.shape)"
   ]
  },
  {
   "cell_type": "code",
   "execution_count": 92,
   "metadata": {
    "colab": {
     "base_uri": "https://localhost:8080/"
    },
    "executionInfo": {
     "elapsed": 3,
     "status": "ok",
     "timestamp": 1659932493945,
     "user": {
      "displayName": "P76091250王登立",
      "userId": "09137185860442071355"
     },
     "user_tz": -480
    },
    "id": "oRRReDX8qiXL",
    "outputId": "b85514d2-709d-4a27-e2a0-ed7a3aa0e65f"
   },
   "outputs": [
    {
     "data": {
      "text/plain": [
       "0.947"
      ]
     },
     "execution_count": 92,
     "metadata": {},
     "output_type": "execute_result"
    }
   ],
   "source": [
    "neigh3_val = KNeighborsClassifier(n_neighbors=1)\n",
    "neigh3_val.fit(val_cent_300, range(33))\n",
    "val_acc300 = round(accuracy_score(val_labels_300, neigh3_val.predict(val_attr_300)), 3)\n",
    "val_acc300"
   ]
  },
  {
   "cell_type": "code",
   "execution_count": 93,
   "metadata": {
    "colab": {
     "base_uri": "https://localhost:8080/"
    },
    "executionInfo": {
     "elapsed": 4,
     "status": "ok",
     "timestamp": 1659932495394,
     "user": {
      "displayName": "P76091250王登立",
      "userId": "09137185860442071355"
     },
     "user_tz": -480
    },
    "id": "XXp8QiXbqiXM",
    "outputId": "6f7d5ee3-9782-4e0f-f71a-52af3eaf4aa0"
   },
   "outputs": [
    {
     "data": {
      "text/plain": [
       "0.922"
      ]
     },
     "execution_count": 93,
     "metadata": {},
     "output_type": "execute_result"
    }
   ],
   "source": [
    "neigh3_val = KNeighborsClassifier(n_neighbors=1)\n",
    "neigh3_val.fit(val_sum_attr300, range(33))\n",
    "val_acc300 = round(accuracy_score(val_labels_300, neigh3_val.predict(val_attr_300)), 3)\n",
    "val_acc300"
   ]
  },
  {
   "cell_type": "code",
   "execution_count": 94,
   "metadata": {
    "id": "ICV7Omy5qiXN"
   },
   "outputs": [],
   "source": [
    "#train_labels_300=np.load('./data_SUN/data300d_AUG/train_img_label.npy',allow_pickle=True)\n",
    "#train_attr_300=np.load('./data_SUN/data300d_AUG/train_attr_SUN300d.npy',allow_pickle=True)"
   ]
  },
  {
   "cell_type": "markdown",
   "metadata": {
    "id": "mXIwp4_6jFv4"
   },
   "source": [
    "#### Test"
   ]
  },
  {
   "cell_type": "code",
   "execution_count": 95,
   "metadata": {
    "executionInfo": {
     "elapsed": 3,
     "status": "ok",
     "timestamp": 1659932497892,
     "user": {
      "displayName": "P76091250王登立",
      "userId": "09137185860442071355"
     },
     "user_tz": -480
    },
    "id": "G1uY8aZTqiXE"
   },
   "outputs": [],
   "source": [
    "test_labels_300=np.load('./AWA2_33c/data_300d_v2/test_img_label.npy',allow_pickle=True)\n",
    "test_attr_300=np.load('./AWA2_33c/data_300d_v2/test_attr_300.npy',allow_pickle=True)\n",
    "\n",
    "#TEST的中心點\n",
    "test_cent_300=cent_300[-7:] \n",
    "test_sum_attr300=sum_attr300[-7:]"
   ]
  },
  {
   "cell_type": "code",
   "execution_count": 96,
   "metadata": {
    "colab": {
     "base_uri": "https://localhost:8080/"
    },
    "executionInfo": {
     "elapsed": 372,
     "status": "ok",
     "timestamp": 1659884747803,
     "user": {
      "displayName": "王登立 WANG DENG LI P76091250",
      "userId": "09137185860442071355"
     },
     "user_tz": -480
    },
    "id": "_yUrJZ91qiXF",
    "outputId": "bcd5fdf0-4dd1-4a27-9184-c9ebfba1224d"
   },
   "outputs": [
    {
     "name": "stdout",
     "output_type": "stream",
     "text": [
      "(7, 300)\n",
      "(7, 300)\n"
     ]
    }
   ],
   "source": [
    "print(test_cent_300.shape)\n",
    "print(test_sum_attr300.shape)"
   ]
  },
  {
   "cell_type": "code",
   "execution_count": 97,
   "metadata": {
    "colab": {
     "base_uri": "https://localhost:8080/"
    },
    "executionInfo": {
     "elapsed": 502,
     "status": "ok",
     "timestamp": 1659932501747,
     "user": {
      "displayName": "P76091250王登立",
      "userId": "09137185860442071355"
     },
     "user_tz": -480
    },
    "id": "ZtOtr568qiXF",
    "outputId": "d75ab091-d7d2-4b00-ca55-ef27f7727096"
   },
   "outputs": [
    {
     "data": {
      "text/plain": [
       "0.41"
      ]
     },
     "execution_count": 97,
     "metadata": {},
     "output_type": "execute_result"
    }
   ],
   "source": [
    "neigh3_test = KNeighborsClassifier(n_neighbors=1)\n",
    "neigh3_test.fit(test_cent_300, range(7))\n",
    "test_acc300 = round(accuracy_score(test_labels_300, neigh3_test.predict(test_attr_300)), 3)\n",
    "test_acc300"
   ]
  },
  {
   "cell_type": "code",
   "execution_count": 98,
   "metadata": {
    "colab": {
     "base_uri": "https://localhost:8080/"
    },
    "executionInfo": {
     "elapsed": 612,
     "status": "ok",
     "timestamp": 1659932502714,
     "user": {
      "displayName": "P76091250王登立",
      "userId": "09137185860442071355"
     },
     "user_tz": -480
    },
    "id": "EqR4-P6KqiXJ",
    "outputId": "bc559c98-ea12-4b6e-b303-6283dda5581f"
   },
   "outputs": [
    {
     "data": {
      "text/plain": [
       "0.619"
      ]
     },
     "execution_count": 98,
     "metadata": {},
     "output_type": "execute_result"
    }
   ],
   "source": [
    "neigh3_test = KNeighborsClassifier(n_neighbors=1)\n",
    "neigh3_test.fit(test_sum_attr300, range(7))\n",
    "test_acc300 = round(accuracy_score(test_labels_300, neigh3_test.predict(test_attr_300)), 3)\n",
    "test_acc300"
   ]
  },
  {
   "cell_type": "markdown",
   "metadata": {
    "id": "WMPamfU-nudU"
   },
   "source": [
    "#### tsne_graph"
   ]
  },
  {
   "cell_type": "code",
   "execution_count": 99,
   "metadata": {
    "colab": {
     "base_uri": "https://localhost:8080/"
    },
    "executionInfo": {
     "elapsed": 183803,
     "status": "ok",
     "timestamp": 1659931635044,
     "user": {
      "displayName": "P76091250王登立",
      "userId": "09137185860442071355"
     },
     "user_tz": -480
    },
    "id": "tFO-djtVnudV",
    "outputId": "f2ea130a-546b-4015-f5b5-199e04aff6ca"
   },
   "outputs": [
    {
     "name": "stderr",
     "output_type": "stream",
     "text": [
      "C:\\Users\\User\\anaconda3\\envs\\torch_37py\\lib\\site-packages\\sklearn\\manifold\\_t_sne.py:793: FutureWarning: The default learning rate in TSNE will change from 200.0 to 'auto' in 1.2.\n",
      "  FutureWarning,\n"
     ]
    },
    {
     "name": "stdout",
     "output_type": "stream",
     "text": [
      "[t-SNE] Computing 32 nearest neighbors...\n",
      "[t-SNE] Indexed 33 samples in 0.000s...\n",
      "[t-SNE] Computed neighbors for 33 samples in 0.005s...\n",
      "[t-SNE] Computed conditional probabilities for sample 33 / 33\n",
      "[t-SNE] Mean sigma: 1125899906842624.000000\n",
      "[t-SNE] KL divergence after 250 iterations with early exaggeration: 45.790020\n",
      "[t-SNE] KL divergence after 1450 iterations: 0.521864\n",
      "[t-SNE] Computing 32 nearest neighbors...\n",
      "[t-SNE] Indexed 33 samples in 0.000s...\n",
      "[t-SNE] Computed neighbors for 33 samples in 0.004s...\n",
      "[t-SNE] Computed conditional probabilities for sample 33 / 33\n",
      "[t-SNE] Mean sigma: 1125899906842624.000000\n"
     ]
    },
    {
     "name": "stderr",
     "output_type": "stream",
     "text": [
      "C:\\Users\\User\\anaconda3\\envs\\torch_37py\\lib\\site-packages\\sklearn\\manifold\\_t_sne.py:793: FutureWarning: The default learning rate in TSNE will change from 200.0 to 'auto' in 1.2.\n",
      "  FutureWarning,\n"
     ]
    },
    {
     "name": "stdout",
     "output_type": "stream",
     "text": [
      "[t-SNE] KL divergence after 250 iterations with early exaggeration: 41.696171\n",
      "[t-SNE] KL divergence after 1050 iterations: 0.520791\n",
      "[t-SNE] Computing 151 nearest neighbors...\n",
      "[t-SNE] Indexed 5268 samples in 0.007s...\n"
     ]
    },
    {
     "name": "stderr",
     "output_type": "stream",
     "text": [
      "C:\\Users\\User\\anaconda3\\envs\\torch_37py\\lib\\site-packages\\sklearn\\manifold\\_t_sne.py:793: FutureWarning: The default learning rate in TSNE will change from 200.0 to 'auto' in 1.2.\n",
      "  FutureWarning,\n"
     ]
    },
    {
     "name": "stdout",
     "output_type": "stream",
     "text": [
      "[t-SNE] Computed neighbors for 5268 samples in 1.929s...\n",
      "[t-SNE] Computed conditional probabilities for sample 1000 / 5268\n",
      "[t-SNE] Computed conditional probabilities for sample 2000 / 5268\n",
      "[t-SNE] Computed conditional probabilities for sample 3000 / 5268\n",
      "[t-SNE] Computed conditional probabilities for sample 4000 / 5268\n",
      "[t-SNE] Computed conditional probabilities for sample 5000 / 5268\n",
      "[t-SNE] Computed conditional probabilities for sample 5268 / 5268\n",
      "[t-SNE] Mean sigma: 28.946184\n",
      "[t-SNE] KL divergence after 250 iterations with early exaggeration: 53.319565\n",
      "[t-SNE] KL divergence after 3000 iterations: 0.253811\n"
     ]
    }
   ],
   "source": [
    "'''Validation Data'''\n",
    "attr_tsne_cent= TSNE(n_components=2, init='random', perplexity = 50,n_iter= 3000,verbose=1).fit_transform(val_cent_300)#WordVector為中心，後來沒用到。\n",
    "attr_tsne = TSNE(n_components=2, init='random', perplexity = 50,n_iter= 3000,verbose=1).fit_transform(val_sum_attr300)#Class平均值為中心\n",
    "\n",
    "attr_min_, attr_max_ = attr_tsne_cent.min(0), attr_tsne_cent.max(0)\n",
    "attr_norm_cent = (attr_tsne_cent - attr_min_) / (attr_max_ - attr_min_)  #Normalize\n",
    "\n",
    "attr_min, attr_max = attr_tsne.min(0), attr_tsne.max(0)\n",
    "attr_norm = (attr_tsne - attr_min) / (attr_max - attr_min)  #Normalize\n",
    "\n",
    "tsne_data = TSNE(n_components=2, init='random', perplexity = 50,n_iter= 3000,verbose=1).fit_transform(val_attr_300)"
   ]
  },
  {
   "cell_type": "code",
   "execution_count": 100,
   "metadata": {
    "executionInfo": {
     "elapsed": 3,
     "status": "ok",
     "timestamp": 1659931636112,
     "user": {
      "displayName": "P76091250王登立",
      "userId": "09137185860442071355"
     },
     "user_tz": -480
    },
    "id": "rPvW1oOZnudV"
   },
   "outputs": [],
   "source": [
    "attr_min, attr_max = tsne_data.min(0), tsne_data.max(0)\n",
    "norm = (tsne_data - attr_min) / (attr_max  - attr_min)  #Normalize"
   ]
  },
  {
   "cell_type": "code",
   "execution_count": 101,
   "metadata": {
    "colab": {
     "base_uri": "https://localhost:8080/",
     "height": 586
    },
    "executionInfo": {
     "elapsed": 13684,
     "status": "ok",
     "timestamp": 1659931778962,
     "user": {
      "displayName": "P76091250王登立",
      "userId": "09137185860442071355"
     },
     "user_tz": -480
    },
    "id": "wrP4w4cEnudV",
    "outputId": "10421a32-aa97-4947-a4f3-e01873b9d2c1"
   },
   "outputs": [
    {
     "data": {
      "image/png": "[encoded data removed]",
      "text/plain": [
       "<Figure size 720x720 with 1 Axes>"
      ]
     },
     "metadata": {},
     "output_type": "display_data"
    }
   ],
   "source": [
    "'''\n",
    "plt.figure(figsize=(10, 10))\n",
    "for i in range(len(attr_norm)):\n",
    "    plt.scatter(attr_norm[i, 0],  attr_norm[i, 1],c='b') #平均\n",
    "    plt.scatter(attr_norm_cent[i, 0],  attr_norm_cent[i, 1],c='r')  #Word vector為Center\n",
    "plt.xticks([])\n",
    "plt.yticks([])\n",
    "plt.show()\n",
    "'''\n",
    "plt.figure(figsize=(10, 10))\n",
    "for i in range(len(norm)):\n",
    "    plt.text(norm[i, 0], norm[i, 1],str(val_labels_300[i]),color=plt.cm.Set2(val_labels_300[i]), \n",
    "             fontdict={'weight': 'bold', 'size': 10})\n",
    "plt.xticks([])\n",
    "plt.yticks([])\n",
    "plt.show()"
   ]
  },
  {
   "cell_type": "code",
   "execution_count": 102,
   "metadata": {
    "colab": {
     "base_uri": "https://localhost:8080/"
    },
    "executionInfo": {
     "elapsed": 224260,
     "status": "ok",
     "timestamp": 1659932003218,
     "user": {
      "displayName": "P76091250王登立",
      "userId": "09137185860442071355"
     },
     "user_tz": -480
    },
    "id": "D9dinbmwnudW",
    "outputId": "b78f379c-f275-4e4b-9ae4-d3803d19a548",
    "scrolled": true
   },
   "outputs": [
    {
     "name": "stderr",
     "output_type": "stream",
     "text": [
      "C:\\Users\\User\\anaconda3\\envs\\torch_37py\\lib\\site-packages\\sklearn\\manifold\\_t_sne.py:793: FutureWarning: The default learning rate in TSNE will change from 200.0 to 'auto' in 1.2.\n",
      "  FutureWarning,\n"
     ]
    },
    {
     "name": "stdout",
     "output_type": "stream",
     "text": [
      "[t-SNE] Computing 39 nearest neighbors...\n",
      "[t-SNE] Indexed 40 samples in 0.000s...\n",
      "[t-SNE] Computed neighbors for 40 samples in 0.004s...\n",
      "[t-SNE] Computed conditional probabilities for sample 40 / 40\n",
      "[t-SNE] Mean sigma: 1125899906842624.000000\n",
      "[t-SNE] KL divergence after 250 iterations with early exaggeration: 48.915096\n",
      "[t-SNE] KL divergence after 1450 iterations: 0.564706\n",
      "[t-SNE] Computing 39 nearest neighbors...\n",
      "[t-SNE] Indexed 40 samples in 0.000s...\n",
      "[t-SNE] Computed neighbors for 40 samples in 0.004s...\n",
      "[t-SNE] Computed conditional probabilities for sample 40 / 40\n",
      "[t-SNE] Mean sigma: 1125899906842624.000000\n",
      "[t-SNE] KL divergence after 250 iterations with early exaggeration: 43.761948\n"
     ]
    },
    {
     "name": "stderr",
     "output_type": "stream",
     "text": [
      "C:\\Users\\User\\anaconda3\\envs\\torch_37py\\lib\\site-packages\\sklearn\\manifold\\_t_sne.py:793: FutureWarning: The default learning rate in TSNE will change from 200.0 to 'auto' in 1.2.\n",
      "  FutureWarning,\n"
     ]
    },
    {
     "name": "stdout",
     "output_type": "stream",
     "text": [
      "[t-SNE] KL divergence after 1200 iterations: 0.565461\n",
      "[t-SNE] Computing 151 nearest neighbors...\n",
      "[t-SNE] Indexed 9922 samples in 0.012s...\n"
     ]
    },
    {
     "name": "stderr",
     "output_type": "stream",
     "text": [
      "C:\\Users\\User\\anaconda3\\envs\\torch_37py\\lib\\site-packages\\sklearn\\manifold\\_t_sne.py:793: FutureWarning: The default learning rate in TSNE will change from 200.0 to 'auto' in 1.2.\n",
      "  FutureWarning,\n"
     ]
    },
    {
     "name": "stdout",
     "output_type": "stream",
     "text": [
      "[t-SNE] Computed neighbors for 9922 samples in 5.722s...\n",
      "[t-SNE] Computed conditional probabilities for sample 1000 / 9922\n",
      "[t-SNE] Computed conditional probabilities for sample 2000 / 9922\n",
      "[t-SNE] Computed conditional probabilities for sample 3000 / 9922\n",
      "[t-SNE] Computed conditional probabilities for sample 4000 / 9922\n",
      "[t-SNE] Computed conditional probabilities for sample 5000 / 9922\n",
      "[t-SNE] Computed conditional probabilities for sample 6000 / 9922\n",
      "[t-SNE] Computed conditional probabilities for sample 7000 / 9922\n",
      "[t-SNE] Computed conditional probabilities for sample 8000 / 9922\n",
      "[t-SNE] Computed conditional probabilities for sample 9000 / 9922\n",
      "[t-SNE] Computed conditional probabilities for sample 9922 / 9922\n",
      "[t-SNE] Mean sigma: 24.351443\n",
      "[t-SNE] KL divergence after 250 iterations with early exaggeration: 65.353905\n",
      "[t-SNE] KL divergence after 3000 iterations: 0.550187\n"
     ]
    }
   ],
   "source": [
    "'''Mix Data(Val+Test(33+7) 40類)'''\n",
    "attr_tsne_cent= TSNE(n_components=2, init='random', perplexity = 50,n_iter= 3000,verbose=1).fit_transform(cent_300)#WordVector為中心，後來沒用到。\n",
    "attr_tsne = TSNE(n_components=2, init='random', perplexity = 50,n_iter= 3000,verbose=1).fit_transform(sum_attr300)#Class平均值為中心\n",
    "\n",
    "attr_min_, attr_max_ = attr_tsne_cent.min(0), attr_tsne_cent.max(0)\n",
    "attr_norm_cent = (attr_tsne_cent - attr_min_) / (attr_max_ - attr_min_)  #Normalize\n",
    "\n",
    "attr_min, attr_max = attr_tsne.min(0), attr_tsne.max(0)\n",
    "attr_norm = (attr_tsne - attr_min) / (attr_max - attr_min)  #Normalize\n",
    "\n",
    "tsne_mixdata = TSNE(n_components=2, init='random', perplexity = 50,n_iter= 3000,verbose=1).fit_transform(Img_attr_300)\n",
    "\n",
    "mix_attr_min, mix_attr_max = tsne_mixdata.min(0), tsne_mixdata.max(0)\n",
    "mix_norm = (tsne_mixdata - mix_attr_min) / (mix_attr_max  - mix_attr_min)  #Normalize"
   ]
  },
  {
   "cell_type": "code",
   "execution_count": 103,
   "metadata": {
    "colab": {
     "base_uri": "https://localhost:8080/",
     "height": 583
    },
    "executionInfo": {
     "elapsed": 22060,
     "status": "ok",
     "timestamp": 1659932025266,
     "user": {
      "displayName": "P76091250王登立",
      "userId": "09137185860442071355"
     },
     "user_tz": -480
    },
    "id": "Y026YWBhnudW",
    "outputId": "e44d4e23-473e-43de-9963-efad28c0f353"
   },
   "outputs": [
    {
     "data": {
      "image/png": "[encoded data removed]",
      "text/plain": [
       "<Figure size 720x720 with 1 Axes>"
      ]
     },
     "metadata": {},
     "output_type": "display_data"
    }
   ],
   "source": [
    "'''\n",
    "plt.figure(figsize=(10, 10))\n",
    "\n",
    "#for i in range(len(mix_norm)):\n",
    "#    plt.text(mix_norm[i, 0], mix_norm[i, 1],str(Class_labels_300[i]),color=plt.cm.Set2(Class_labels_300[i]), \n",
    "#             fontdict={'weight': 'bold', 'size': 40})\n",
    "for i in range(len(attr_norm)):\n",
    "    plt.scatter(attr_norm[i, 0],  attr_norm[i, 1],c='b') #平均\n",
    "    #plt.text(attr_norm[i, 0],  attr_norm[i, 1],str(i),color='b',fontdict={'weight': 'bold', 'size': 10})\n",
    "    #plt.text(attr_norm_cent[i, 0],  attr_norm_cent[i, 1],str(i),c='r',fontdict={'weight': 'bold', 'size': 10})\n",
    "    plt.scatter(attr_norm_cent[i, 0],  attr_norm_cent[i, 1],c='r')  #Word vector為Center\n",
    "plt.xticks([])\n",
    "plt.yticks([])\n",
    "plt.show()\n",
    "'''\n",
    "\n",
    "plt.figure(figsize=(10, 10))\n",
    "for i in range(len(mix_norm)):\n",
    "    plt.text(mix_norm[i, 0], mix_norm[i, 1],str(Class_labels_300[i]),color=plt.cm.Set2(Class_labels_300[i]), \n",
    "             fontdict={'weight': 'bold', 'size': 7})\n",
    "plt.xticks([])\n",
    "plt.yticks([])\n",
    "plt.show()\n"
   ]
  },
  {
   "cell_type": "code",
   "execution_count": 104,
   "metadata": {
    "colab": {
     "base_uri": "https://localhost:8080/"
    },
    "executionInfo": {
     "elapsed": 337,
     "status": "ok",
     "timestamp": 1659932031181,
     "user": {
      "displayName": "P76091250王登立",
      "userId": "09137185860442071355"
     },
     "user_tz": -480
    },
    "id": "t3nqG2xqnudW",
    "outputId": "fc254806-af7c-4d9c-8634-53b15c1cac90",
    "scrolled": false
   },
   "outputs": [
    {
     "name": "stderr",
     "output_type": "stream",
     "text": [
      "C:\\Users\\User\\anaconda3\\envs\\torch_37py\\lib\\site-packages\\sklearn\\manifold\\_t_sne.py:793: FutureWarning: The default learning rate in TSNE will change from 200.0 to 'auto' in 1.2.\n",
      "  FutureWarning,\n"
     ]
    },
    {
     "name": "stdout",
     "output_type": "stream",
     "text": [
      "[t-SNE] Computing 6 nearest neighbors...\n",
      "[t-SNE] Indexed 7 samples in 0.000s...\n",
      "[t-SNE] Computed neighbors for 7 samples in 0.002s...\n",
      "[t-SNE] Computed conditional probabilities for sample 7 / 7\n",
      "[t-SNE] Mean sigma: 1125899906842624.000000\n",
      "[t-SNE] KL divergence after 250 iterations with early exaggeration: 36.401913\n",
      "[t-SNE] KL divergence after 3000 iterations: 0.158627\n",
      "[t-SNE] Computing 6 nearest neighbors...\n",
      "[t-SNE] Indexed 7 samples in 0.001s...\n",
      "[t-SNE] Computed neighbors for 7 samples in 0.002s...\n",
      "[t-SNE] Computed conditional probabilities for sample 7 / 7\n",
      "[t-SNE] Mean sigma: 1125899906842624.000000\n",
      "[t-SNE] KL divergence after 250 iterations with early exaggeration: 51.487106\n"
     ]
    },
    {
     "name": "stderr",
     "output_type": "stream",
     "text": [
      "C:\\Users\\User\\anaconda3\\envs\\torch_37py\\lib\\site-packages\\sklearn\\manifold\\_t_sne.py:793: FutureWarning: The default learning rate in TSNE will change from 200.0 to 'auto' in 1.2.\n",
      "  FutureWarning,\n"
     ]
    },
    {
     "name": "stdout",
     "output_type": "stream",
     "text": [
      "[t-SNE] KL divergence after 500 iterations: 0.158639\n"
     ]
    }
   ],
   "source": [
    "attr_tsne_cent= TSNE(n_components=2, init='random', perplexity = 50,n_iter= 3000,verbose=1).fit_transform(test_cent_300)\n",
    "attr_tsne = TSNE(n_components=2, init='random', perplexity = 50,n_iter= 3000,verbose=1).fit_transform(test_sum_attr300)\n",
    "\n",
    "attr_min_, attr_max_ = attr_tsne_cent.min(0), attr_tsne_cent.max(0)\n",
    "attr_norm_cent = (attr_tsne_cent - attr_min_) / (attr_max_ - attr_min_)  #Normalize\n",
    "\n",
    "attr_min, attr_max = attr_tsne.min(0), attr_tsne.max(0)\n",
    "attr_norm = (attr_tsne - attr_min) / (attr_max - attr_min)  #Normalize"
   ]
  },
  {
   "cell_type": "code",
   "execution_count": 105,
   "metadata": {
    "colab": {
     "base_uri": "https://localhost:8080/"
    },
    "executionInfo": {
     "elapsed": 121020,
     "status": "ok",
     "timestamp": 1659932156370,
     "user": {
      "displayName": "P76091250王登立",
      "userId": "09137185860442071355"
     },
     "user_tz": -480
    },
    "id": "jwb6YaTenudW",
    "outputId": "084578b3-44d5-4adb-fe07-d211d50a8cc9",
    "scrolled": false
   },
   "outputs": [
    {
     "name": "stdout",
     "output_type": "stream",
     "text": [
      "[t-SNE] Computing 151 nearest neighbors...\n",
      "[t-SNE] Indexed 4654 samples in 0.004s...\n"
     ]
    },
    {
     "name": "stderr",
     "output_type": "stream",
     "text": [
      "C:\\Users\\User\\anaconda3\\envs\\torch_37py\\lib\\site-packages\\sklearn\\manifold\\_t_sne.py:793: FutureWarning: The default learning rate in TSNE will change from 200.0 to 'auto' in 1.2.\n",
      "  FutureWarning,\n"
     ]
    },
    {
     "name": "stdout",
     "output_type": "stream",
     "text": [
      "[t-SNE] Computed neighbors for 4654 samples in 0.883s...\n",
      "[t-SNE] Computed conditional probabilities for sample 1000 / 4654\n",
      "[t-SNE] Computed conditional probabilities for sample 2000 / 4654\n",
      "[t-SNE] Computed conditional probabilities for sample 3000 / 4654\n",
      "[t-SNE] Computed conditional probabilities for sample 4000 / 4654\n",
      "[t-SNE] Computed conditional probabilities for sample 4654 / 4654\n",
      "[t-SNE] Mean sigma: 25.332691\n",
      "[t-SNE] KL divergence after 250 iterations with early exaggeration: 65.186600\n",
      "[t-SNE] KL divergence after 3000 iterations: 0.654651\n"
     ]
    }
   ],
   "source": [
    "tsne_testdata = TSNE(n_components=2, init='random', perplexity = 50,n_iter= 3000,verbose=1).fit_transform(test_attr_300)"
   ]
  },
  {
   "cell_type": "code",
   "execution_count": 106,
   "metadata": {
    "executionInfo": {
     "elapsed": 20,
     "status": "ok",
     "timestamp": 1659932156370,
     "user": {
      "displayName": "P76091250王登立",
      "userId": "09137185860442071355"
     },
     "user_tz": -480
    },
    "id": "iANHZ-E9nudX",
    "scrolled": true
   },
   "outputs": [],
   "source": [
    "test_attr_min, test_attr_max = tsne_testdata.min(0), tsne_testdata.max(0)\n",
    "test_norm = (tsne_testdata - test_attr_min) / (test_attr_max  - test_attr_min)  #Normalize"
   ]
  },
  {
   "cell_type": "code",
   "execution_count": 107,
   "metadata": {
    "colab": {
     "base_uri": "https://localhost:8080/",
     "height": 586
    },
    "executionInfo": {
     "elapsed": 15719,
     "status": "ok",
     "timestamp": 1659932182779,
     "user": {
      "displayName": "P76091250王登立",
      "userId": "09137185860442071355"
     },
     "user_tz": -480
    },
    "id": "LLMDfDSenudX",
    "outputId": "10621ae1-39d4-4f9e-8b73-ea21f7b23241",
    "scrolled": true
   },
   "outputs": [
    {
     "data": {
      "image/png": "[encoded data removed]",
      "text/plain": [
       "<Figure size 720x720 with 1 Axes>"
      ]
     },
     "metadata": {},
     "output_type": "display_data"
    }
   ],
   "source": [
    "plt.figure(figsize=(10, 10))\n",
    "\n",
    "for i in range(len(test_norm)):\n",
    "    plt.text(mix_norm[i, 0], mix_norm[i, 1],str(test_labels_300[i]),color=plt.cm.Set2(test_labels_300[i]), \n",
    "             fontdict={'weight': 'bold', 'size': 10})\n",
    "'''\n",
    "for i in range(len(attr_norm)):\n",
    "    plt.scatter(attr_norm[i, 0],  attr_norm[i, 1],c='b') #平均\n",
    "    plt.scatter(attr_norm_cent[i, 0],  attr_norm_cent[i, 1],c='r')  #Word vector為Center\n",
    "'''\n",
    "plt.xticks([])\n",
    "plt.yticks([])\n",
    "plt.show()"
   ]
  },
  {
   "cell_type": "markdown",
   "metadata": {},
   "source": [
    "## Classifier_5"
   ]
  },
  {
   "cell_type": "code",
   "execution_count": 108,
   "metadata": {
    "executionInfo": {
     "elapsed": 419,
     "status": "ok",
     "timestamp": 1659932473399,
     "user": {
      "displayName": "P76091250王登立",
      "userId": "09137185860442071355"
     },
     "user_tz": -480
    },
    "id": "86eLDiHSqiW9"
   },
   "outputs": [],
   "source": [
    "Classes_300_f=[]\n",
    "Images_300_f=[]\n",
    "Img_vec_300_f=[]\n",
    "Class_labels_300_f=[]\n",
    "Img_attr_300_f = []\n",
    "\n",
    "#Images_300_f=np.load('./data_300d/mix_img_name.npy',allow_pickle=True)\n",
    "Img_vec_300_f=np.load('./AWA2_33c/300d_fasttext/mix_img_vec.npy',allow_pickle=True)\n",
    "Classes_300_f=np.load('./AWA2_33c/300d_fasttext/mix_img_class.npy',allow_pickle=True)\n",
    "Class_labels_300_f=np.load('./AWA2_33c/300d_fasttext/mix_img_label.npy',allow_pickle=True)\n",
    "Img_attr_300_f=np.load('./AWA2_33c/300d_fasttext/mix_attr_300.npy',allow_pickle=True)"
   ]
  },
  {
   "cell_type": "code",
   "execution_count": 109,
   "metadata": {
    "executionInfo": {
     "elapsed": 419,
     "status": "ok",
     "timestamp": 1659932473399,
     "user": {
      "displayName": "P76091250王登立",
      "userId": "09137185860442071355"
     },
     "user_tz": -480
    },
    "id": "86eLDiHSqiW9"
   },
   "outputs": [
    {
     "name": "stdout",
     "output_type": "stream",
     "text": [
      "40\n",
      "(9922, 300)\n",
      "(9922,)\n",
      "(9922, 300)\n"
     ]
    }
   ],
   "source": [
    "print(len(Classes_300_f))\n",
    "#print(len(Images_300_f))\n",
    "print(Img_vec_300_f.shape)\n",
    "print(Class_labels_300_f.shape)\n",
    "print(Img_attr_300_f.shape)"
   ]
  },
  {
   "cell_type": "code",
   "execution_count": 110,
   "metadata": {},
   "outputs": [
    {
     "data": {
      "text/plain": [
       "array(['antelope', 'bat', 'beaver', 'bobcat', 'buffalo', 'chihuahua',\n",
       "       'collie', 'cow', 'dalmatian', 'deer', 'dolphin', 'elephant', 'fox',\n",
       "       'giraffe', 'gorilla', 'hamster', 'horse', 'lion', 'mole', 'moose',\n",
       "       'mouse', 'otter', 'ox', 'rabbit', 'rhinoceros', 'sheep', 'skunk',\n",
       "       'squirrel', 'tiger', 'walrus', 'weasel', 'wolf', 'zebra',\n",
       "       'chimpanzee', 'hippopotamus', 'leopard', 'pig', 'raccoon', 'rat',\n",
       "       'seal'], dtype='<U12')"
      ]
     },
     "execution_count": 110,
     "metadata": {},
     "output_type": "execute_result"
    }
   ],
   "source": [
    "Classes_300_f"
   ]
  },
  {
   "cell_type": "code",
   "execution_count": 111,
   "metadata": {
    "executionInfo": {
     "elapsed": 419,
     "status": "ok",
     "timestamp": 1659932473399,
     "user": {
      "displayName": "P76091250王登立",
      "userId": "09137185860442071355"
     },
     "user_tz": -480
    },
    "id": "86eLDiHSqiW9"
   },
   "outputs": [],
   "source": [
    "cent_300_f=[]\n",
    "try:\n",
    "  cent_300_f=np.load('./AWA2_33c/300d_fasttext/mix_cent_vec.npy',allow_pickle=True)\n",
    "except IOError:\n",
    "  glove_vectors = gensim.downloader.load('fasttext-wiki-news-subwords-300') \n",
    "  for i in range(len(Classes_300_f)):\n",
    "      cent_300_f+=[glove_vectors[Classes_300_f[i]]]\n",
    "  cent_300_f = np.stack(cent_300_f)\n",
    "  print(cent_300_f.shape)\n",
    "  np.save('./AWA2_33c/300d_fasttext/mix_cent_vec.npy', cent_300_f)\n",
    "  del glove_vectors"
   ]
  },
  {
   "cell_type": "code",
   "execution_count": 112,
   "metadata": {},
   "outputs": [
    {
     "name": "stdout",
     "output_type": "stream",
     "text": [
      "(40, 300)\n"
     ]
    }
   ],
   "source": [
    "print(cent_300_f.shape)"
   ]
  },
  {
   "cell_type": "markdown",
   "metadata": {
    "id": "ocCI8zq6qiXC"
   },
   "source": [
    "#### 以attr平均當center"
   ]
  },
  {
   "cell_type": "code",
   "execution_count": 113,
   "metadata": {},
   "outputs": [
    {
     "name": "stderr",
     "output_type": "stream",
     "text": [
      "C:\\Users\\User\\anaconda3\\envs\\torch_37py\\lib\\site-packages\\ipykernel_launcher.py:5: DeprecationWarning: elementwise comparison failed; this will raise an error in the future.\n",
      "  \"\"\"\n"
     ]
    }
   ],
   "source": [
    "sum_attr300_f = [[] for i in range(40)]\n",
    "count_class = [0 for i in range(40)]\n",
    "for idx in range(len(Img_attr_300_f)):\n",
    "    l = Class_labels_300_f[idx]\n",
    "    if sum_attr300_f[l] == []:\n",
    "        sum_attr300_f[l] = Img_attr_300_f[idx]\n",
    "    else:    \n",
    "        sum_attr300_f[l] += Img_attr_300_f[idx]\n",
    "    \n",
    "    count_class[l] += 1\n",
    "\n",
    "# averge\n",
    "for i in range(40):\n",
    "    sum_attr300_f[i] = sum_attr300_f[i] / count_class[i]\n",
    "\n",
    "sum_attr300_f = np.array(sum_attr300_f)"
   ]
  },
  {
   "cell_type": "code",
   "execution_count": 114,
   "metadata": {},
   "outputs": [
    {
     "data": {
      "text/plain": [
       "(40, 300)"
      ]
     },
     "execution_count": 114,
     "metadata": {},
     "output_type": "execute_result"
    }
   ],
   "source": [
    "sum_attr300_f.shape"
   ]
  },
  {
   "cell_type": "markdown",
   "metadata": {
    "id": "4-_KsNKZi6kg"
   },
   "source": [
    "#### Val+Test"
   ]
  },
  {
   "cell_type": "code",
   "execution_count": 115,
   "metadata": {},
   "outputs": [
    {
     "data": {
      "text/plain": [
       "0.503"
      ]
     },
     "execution_count": 115,
     "metadata": {},
     "output_type": "execute_result"
    }
   ],
   "source": [
    "neigh3_f = KNeighborsClassifier(n_neighbors=1)\n",
    "neigh3_f.fit(cent_300_f, range(40))\n",
    "mix_acc300_f = round(accuracy_score(Class_labels_300_f, neigh3_f.predict(Img_attr_300_f)), 3)\n",
    "mix_acc300_f"
   ]
  },
  {
   "cell_type": "code",
   "execution_count": 116,
   "metadata": {},
   "outputs": [
    {
     "data": {
      "text/plain": [
       "0.705"
      ]
     },
     "execution_count": 116,
     "metadata": {},
     "output_type": "execute_result"
    }
   ],
   "source": [
    "neigh3_f = KNeighborsClassifier(n_neighbors=1)\n",
    "neigh3_f.fit(sum_attr300_f, range(40))\n",
    "mix_acc300_f = round(accuracy_score(Class_labels_300_f, neigh3_f.predict(Img_attr_300_f)), 3)\n",
    "mix_acc300_f"
   ]
  },
  {
   "cell_type": "markdown",
   "metadata": {},
   "source": [
    "#### Val"
   ]
  },
  {
   "cell_type": "code",
   "execution_count": 117,
   "metadata": {},
   "outputs": [
    {
     "name": "stdout",
     "output_type": "stream",
     "text": [
      "(33, 300)\n",
      "(33, 300)\n"
     ]
    }
   ],
   "source": [
    "val_labels_300_f=np.load('./AWA2_33c/300d_fasttext/val_img_label.npy',allow_pickle=True)\n",
    "val_attr_300_f=np.load('./AWA2_33c/300d_fasttext/val_attr_300.npy',allow_pickle=True)\n",
    "val_cent_300_f=cent_300_f[:33] \n",
    "val_sum_attr300_f=sum_attr300_f[:33]\n",
    "print(val_cent_300_f.shape)\n",
    "print(val_sum_attr300_f.shape)"
   ]
  },
  {
   "cell_type": "code",
   "execution_count": 118,
   "metadata": {},
   "outputs": [
    {
     "data": {
      "text/plain": [
       "0.944"
      ]
     },
     "execution_count": 118,
     "metadata": {},
     "output_type": "execute_result"
    }
   ],
   "source": [
    "neigh3_val_f = KNeighborsClassifier(n_neighbors=1)\n",
    "neigh3_val_f.fit(val_cent_300_f, range(33))\n",
    "val_acc300_f = round(accuracy_score(val_labels_300_f, neigh3_val_f.predict(val_attr_300_f)), 3)\n",
    "val_acc300_f"
   ]
  },
  {
   "cell_type": "code",
   "execution_count": 119,
   "metadata": {},
   "outputs": [
    {
     "data": {
      "text/plain": [
       "0.944"
      ]
     },
     "execution_count": 119,
     "metadata": {},
     "output_type": "execute_result"
    }
   ],
   "source": [
    "neigh3_val_f = KNeighborsClassifier(n_neighbors=1)\n",
    "neigh3_val_f.fit(val_sum_attr300_f, range(33))\n",
    "val_acc300_f = round(accuracy_score(val_labels_300_f, neigh3_val_f.predict(val_attr_300_f)), 3)\n",
    "val_acc300_f"
   ]
  },
  {
   "cell_type": "markdown",
   "metadata": {},
   "source": [
    "#### Test"
   ]
  },
  {
   "cell_type": "code",
   "execution_count": 120,
   "metadata": {},
   "outputs": [],
   "source": [
    "test_labels_300_f=np.load('./AWA2_33c/300d_fasttext/test_img_label.npy',allow_pickle=True)\n",
    "test_attr_300_f=np.load('./AWA2_33c/300d_fasttext/test_attr_300.npy',allow_pickle=True)\n",
    "\n",
    "#TEST的中心點\n",
    "test_cent_300_f=cent_300_f[-7:] \n",
    "test_sum_attr300_f=sum_attr300_f[-7:]"
   ]
  },
  {
   "cell_type": "code",
   "execution_count": 121,
   "metadata": {},
   "outputs": [
    {
     "name": "stdout",
     "output_type": "stream",
     "text": [
      "(7, 300)\n",
      "(7, 300)\n"
     ]
    }
   ],
   "source": [
    "print(test_cent_300_f.shape)\n",
    "print(test_sum_attr300_f.shape)"
   ]
  },
  {
   "cell_type": "code",
   "execution_count": 122,
   "metadata": {},
   "outputs": [
    {
     "data": {
      "text/plain": [
       "0.351"
      ]
     },
     "execution_count": 122,
     "metadata": {},
     "output_type": "execute_result"
    }
   ],
   "source": [
    "neigh3_test_f = KNeighborsClassifier(n_neighbors=1)\n",
    "neigh3_test_f.fit(test_cent_300_f, range(7))\n",
    "test_acc300_f = round(accuracy_score(test_labels_300_f, neigh3_test_f.predict(test_attr_300_f)), 3)\n",
    "test_acc300_f"
   ]
  },
  {
   "cell_type": "code",
   "execution_count": 123,
   "metadata": {},
   "outputs": [
    {
     "data": {
      "text/plain": [
       "0.774"
      ]
     },
     "execution_count": 123,
     "metadata": {},
     "output_type": "execute_result"
    }
   ],
   "source": [
    "neigh3_test_f = KNeighborsClassifier(n_neighbors=1)\n",
    "neigh3_test_f.fit(test_sum_attr300_f, range(7))\n",
    "test_acc300_f = round(accuracy_score(test_labels_300_f, neigh3_test_f.predict(test_attr_300_f)), 3)\n",
    "test_acc300_f"
   ]
  },
  {
   "cell_type": "markdown",
   "metadata": {
    "id": "bFWTLVqEqiXN"
   },
   "source": [
    "## Experiments Stacking"
   ]
  },
  {
   "cell_type": "code",
   "execution_count": 124,
   "metadata": {},
   "outputs": [],
   "source": [
    "import time"
   ]
  },
  {
   "cell_type": "code",
   "execution_count": 125,
   "metadata": {
    "executionInfo": {
     "elapsed": 327,
     "status": "ok",
     "timestamp": 1659932989990,
     "user": {
      "displayName": "P76091250王登立",
      "userId": "09137185860442071355"
     },
     "user_tz": -480
    },
    "id": "v6I35PObqZD3"
   },
   "outputs": [],
   "source": [
    "Alpha=[0.941,0.933,0.943,0.922,0.944]  #Val acc作為權重\n",
    "#Alpha=[0.677,0.688,0.77,0.619,0.774]  #Test acc\n",
    "\n",
    "#中心點是Class平均\n",
    "Alpha=np.array(Alpha)"
   ]
  },
  {
   "cell_type": "markdown",
   "metadata": {
    "id": "j58nbXzbqiXN"
   },
   "source": [
    "### Test Data"
   ]
  },
  {
   "cell_type": "code",
   "execution_count": 126,
   "metadata": {
    "colab": {
     "base_uri": "https://localhost:8080/"
    },
    "executionInfo": {
     "elapsed": 313,
     "status": "ok",
     "timestamp": 1659933007377,
     "user": {
      "displayName": "P76091250王登立",
      "userId": "09137185860442071355"
     },
     "user_tz": -480
    },
    "id": "4V7JF1NhqiXN",
    "outputId": "4db0dbdc-f858-4ddc-b99c-366e3af46e10"
   },
   "outputs": [
    {
     "data": {
      "text/plain": [
       "(4654, 200)"
      ]
     },
     "execution_count": 126,
     "metadata": {},
     "output_type": "execute_result"
    }
   ],
   "source": [
    "test_attr_200.shape"
   ]
  },
  {
   "cell_type": "code",
   "execution_count": 127,
   "metadata": {
    "executionInfo": {
     "elapsed": 3,
     "status": "ok",
     "timestamp": 1659933011028,
     "user": {
      "displayName": "P76091250王登立",
      "userId": "09137185860442071355"
     },
     "user_tz": -480
    },
    "id": "I_BKkwMPqiXO"
   },
   "outputs": [],
   "source": [
    "class_lst=[[0 for _ in range(4654)] for _ in range(5)]"
   ]
  },
  {
   "cell_type": "code",
   "execution_count": 128,
   "metadata": {
    "executionInfo": {
     "elapsed": 2481,
     "status": "ok",
     "timestamp": 1659933014913,
     "user": {
      "displayName": "P76091250王登立",
      "userId": "09137185860442071355"
     },
     "user_tz": -480
    },
    "id": "rdJPU0RZqiXO"
   },
   "outputs": [],
   "source": [
    "'''以下四、五個for，是先將各自分類預測的label先記下'''\n",
    "for i in range(len(test_attr)):\n",
    "    class_lst[0][i]=neigh1_test.predict(test_attr[i].reshape(1,-1))"
   ]
  },
  {
   "cell_type": "code",
   "execution_count": 129,
   "metadata": {
    "executionInfo": {
     "elapsed": 2507,
     "status": "ok",
     "timestamp": 1659933017411,
     "user": {
      "displayName": "P76091250王登立",
      "userId": "09137185860442071355"
     },
     "user_tz": -480
    },
    "id": "y8pRAz5_tXJ7"
   },
   "outputs": [],
   "source": [
    "for i in range(len(test_attr)):\n",
    "    class_lst[1][i]=neigh1_test_v2.predict(test_attr_v2[i].reshape(1,-1))"
   ]
  },
  {
   "cell_type": "code",
   "execution_count": 130,
   "metadata": {
    "executionInfo": {
     "elapsed": 2596,
     "status": "ok",
     "timestamp": 1659933019999,
     "user": {
      "displayName": "P76091250王登立",
      "userId": "09137185860442071355"
     },
     "user_tz": -480
    },
    "id": "WCrN51zIqiXO"
   },
   "outputs": [],
   "source": [
    "for i in range(len(test_attr)):\n",
    "    class_lst[2][i]=neigh2_test.predict(test_attr_200[i].reshape(1,-1))"
   ]
  },
  {
   "cell_type": "code",
   "execution_count": 131,
   "metadata": {
    "executionInfo": {
     "elapsed": 2423,
     "status": "ok",
     "timestamp": 1659933022414,
     "user": {
      "displayName": "P76091250王登立",
      "userId": "09137185860442071355"
     },
     "user_tz": -480
    },
    "id": "wr89AMQaqiXO"
   },
   "outputs": [],
   "source": [
    "for i in range(len(test_attr)):\n",
    "    class_lst[3][i]=neigh3_test.predict(test_attr_300[i].reshape(1,-1))"
   ]
  },
  {
   "cell_type": "code",
   "execution_count": 132,
   "metadata": {},
   "outputs": [],
   "source": [
    "for i in range(len(test_attr)):\n",
    "    class_lst[4][i]=neigh3_test_f.predict(test_attr_300_f[i].reshape(1,-1))"
   ]
  },
  {
   "cell_type": "code",
   "execution_count": 133,
   "metadata": {
    "executionInfo": {
     "elapsed": 334,
     "status": "ok",
     "timestamp": 1659933182238,
     "user": {
      "displayName": "P76091250王登立",
      "userId": "09137185860442071355"
     },
     "user_tz": -480
    },
    "id": "l7Ud4VnAqiXP"
   },
   "outputs": [],
   "source": [
    "pred_label=[0 for _ in range(4654)]"
   ]
  },
  {
   "cell_type": "code",
   "execution_count": 134,
   "metadata": {
    "executionInfo": {
     "elapsed": 600,
     "status": "ok",
     "timestamp": 1659933300489,
     "user": {
      "displayName": "P76091250王登立",
      "userId": "09137185860442071355"
     },
     "user_tz": -480
    },
    "id": "cAhOaBWGqiXP"
   },
   "outputs": [
    {
     "name": "stdout",
     "output_type": "stream",
     "text": [
      "執行時間：0.115717 s\n"
     ]
    }
   ],
   "source": [
    "'''分類器合併，權重*預測的加總。'''\n",
    "start = time.time()\n",
    "for i in range(len(pred_label)):\n",
    "    count_class = [0.0 for i in range(7)]\n",
    "    count_class=np.array(count_class)   \n",
    "    count_class[class_lst[0][i]]+=Alpha[0]\n",
    "    count_class[class_lst[1][i]]+=Alpha[1]\n",
    "    count_class[class_lst[2][i]]+=Alpha[2]\n",
    "    count_class[class_lst[3][i]]+=Alpha[3]\n",
    "    count_class[class_lst[4][i]]+=Alpha[4]\n",
    "    count_class=count_class.tolist()\n",
    "    pred_label[i]=count_class.index(max(count_class))\n",
    "end = time.time()\n",
    "print(\"執行時間：%f s\" % (end - start))"
   ]
  },
  {
   "cell_type": "markdown",
   "metadata": {
    "id": "cgDDFbz3qiXP"
   },
   "source": [
    "#### Acc"
   ]
  },
  {
   "cell_type": "code",
   "execution_count": 135,
   "metadata": {
    "colab": {
     "base_uri": "https://localhost:8080/"
    },
    "executionInfo": {
     "elapsed": 339,
     "status": "ok",
     "timestamp": 1659933302915,
     "user": {
      "displayName": "P76091250王登立",
      "userId": "09137185860442071355"
     },
     "user_tz": -480
    },
    "id": "dlYvOeRxqiXQ",
    "outputId": "072a00c8-cea3-4f7d-beca-24d1369a7f39"
   },
   "outputs": [
    {
     "data": {
      "text/plain": [
       "0.863"
      ]
     },
     "execution_count": 135,
     "metadata": {},
     "output_type": "execute_result"
    }
   ],
   "source": [
    "#100d+200d+300d Stacking\n",
    "round(accuracy_score(test_labels_200,pred_label), 3)\n",
    "#stack 4classifier:0.808"
   ]
  },
  {
   "cell_type": "code",
   "execution_count": 136,
   "metadata": {
    "id": "037fv0mlqiXR"
   },
   "outputs": [],
   "source": [
    "#pred_label"
   ]
  },
  {
   "cell_type": "markdown",
   "metadata": {
    "id": "0Oo69pCLqiXR"
   },
   "source": [
    "### Val+test data"
   ]
  },
  {
   "cell_type": "code",
   "execution_count": 137,
   "metadata": {
    "id": "N6a8X17AqiXR",
    "outputId": "23405e5a-6bba-4da7-ea6a-c467fd8beb56"
   },
   "outputs": [
    {
     "data": {
      "text/plain": [
       "(9922, 300)"
      ]
     },
     "execution_count": 137,
     "metadata": {},
     "output_type": "execute_result"
    }
   ],
   "source": [
    "Img_attr_300.shape"
   ]
  },
  {
   "cell_type": "code",
   "execution_count": 138,
   "metadata": {
    "executionInfo": {
     "elapsed": 651,
     "status": "ok",
     "timestamp": 1659933340616,
     "user": {
      "displayName": "P76091250王登立",
      "userId": "09137185860442071355"
     },
     "user_tz": -480
    },
    "id": "lrvbJDkkqiXS"
   },
   "outputs": [],
   "source": [
    "class_lst=[[0 for _ in range(len(Img_attr_300))] for _ in range(5)]"
   ]
  },
  {
   "cell_type": "code",
   "execution_count": 139,
   "metadata": {
    "executionInfo": {
     "elapsed": 5025,
     "status": "ok",
     "timestamp": 1659933349194,
     "user": {
      "displayName": "P76091250王登立",
      "userId": "09137185860442071355"
     },
     "user_tz": -480
    },
    "id": "KgcIqWxvqiXS"
   },
   "outputs": [],
   "source": [
    "for i in range(len(Img_attr_100)):\n",
    "    class_lst[0][i]=neigh.predict(Img_attr_100[i].reshape(1,-1))"
   ]
  },
  {
   "cell_type": "code",
   "execution_count": 140,
   "metadata": {
    "executionInfo": {
     "elapsed": 8005,
     "status": "ok",
     "timestamp": 1659933369108,
     "user": {
      "displayName": "P76091250王登立",
      "userId": "09137185860442071355"
     },
     "user_tz": -480
    },
    "id": "CcXg4BgYqiXT"
   },
   "outputs": [],
   "source": [
    "for i in range(len(Img_attr_300)):\n",
    "    class_lst[1][i]=neigh_v2.predict(Img_attr_100_v2[i].reshape(1,-1))"
   ]
  },
  {
   "cell_type": "code",
   "execution_count": 141,
   "metadata": {
    "executionInfo": {
     "elapsed": 5947,
     "status": "ok",
     "timestamp": 1659933375050,
     "user": {
      "displayName": "P76091250王登立",
      "userId": "09137185860442071355"
     },
     "user_tz": -480
    },
    "id": "fCtM7uvBqiXS"
   },
   "outputs": [],
   "source": [
    "for i in range(len(Img_attr_200)):\n",
    "    class_lst[2][i]=neigh2.predict(Img_attr_200[i].reshape(1,-1))"
   ]
  },
  {
   "cell_type": "code",
   "execution_count": 142,
   "metadata": {
    "executionInfo": {
     "elapsed": 12362,
     "status": "ok",
     "timestamp": 1659933387403,
     "user": {
      "displayName": "P76091250王登立",
      "userId": "09137185860442071355"
     },
     "user_tz": -480
    },
    "id": "kNBwrM3FqiXT"
   },
   "outputs": [],
   "source": [
    "for i in range(len(Img_attr_300)):\n",
    "    class_lst[3][i]=neigh3.predict(Img_attr_300[i].reshape(1,-1))"
   ]
  },
  {
   "cell_type": "code",
   "execution_count": 143,
   "metadata": {},
   "outputs": [],
   "source": [
    "for i in range(len(Img_attr_300)):\n",
    "    class_lst[4][i]=neigh3_f.predict(Img_attr_300_f[i].reshape(1,-1))"
   ]
  },
  {
   "cell_type": "code",
   "execution_count": 144,
   "metadata": {
    "executionInfo": {
     "elapsed": 320,
     "status": "ok",
     "timestamp": 1659933391465,
     "user": {
      "displayName": "P76091250王登立",
      "userId": "09137185860442071355"
     },
     "user_tz": -480
    },
    "id": "9NBKDbdZqiXT"
   },
   "outputs": [],
   "source": [
    "pred_label=[0 for _ in range(len(Img_attr_300))]"
   ]
  },
  {
   "cell_type": "code",
   "execution_count": 145,
   "metadata": {
    "executionInfo": {
     "elapsed": 2,
     "status": "ok",
     "timestamp": 1659933394971,
     "user": {
      "displayName": "P76091250王登立",
      "userId": "09137185860442071355"
     },
     "user_tz": -480
    },
    "id": "E6ByTcvkqiXU"
   },
   "outputs": [
    {
     "name": "stdout",
     "output_type": "stream",
     "text": [
      "執行時間：0.435795 s\n"
     ]
    }
   ],
   "source": [
    "start = time.time()\n",
    "for i in range(len(pred_label)):\n",
    "    count_class = [0.0 for i in range(40)]\n",
    "    count_class=np.array(count_class)\n",
    "    count_class[class_lst[0][i]]+=Alpha[0]\n",
    "    count_class[class_lst[1][i]]+=Alpha[1]\n",
    "    count_class[class_lst[2][i]]+=Alpha[2]\n",
    "    count_class[class_lst[3][i]]+=Alpha[3]\n",
    "    count_class[class_lst[4][i]]+=Alpha[4]\n",
    "    count_class=count_class.tolist()\n",
    "    pred_label[i]=count_class.index(max(count_class))\n",
    "end = time.time()\n",
    "print(\"執行時間：%f s\" % (end - start))"
   ]
  },
  {
   "cell_type": "markdown",
   "metadata": {
    "id": "tqdmBKjtqiXU"
   },
   "source": [
    "#### Acc"
   ]
  },
  {
   "cell_type": "code",
   "execution_count": 146,
   "metadata": {
    "colab": {
     "base_uri": "https://localhost:8080/"
    },
    "executionInfo": {
     "elapsed": 308,
     "status": "ok",
     "timestamp": 1659933401422,
     "user": {
      "displayName": "P76091250王登立",
      "userId": "09137185860442071355"
     },
     "user_tz": -480
    },
    "id": "NOX5uw70qiXU",
    "outputId": "e3de9adb-bb31-4dcf-c7ce-356a90ad0da3"
   },
   "outputs": [
    {
     "data": {
      "text/plain": [
       "0.756"
      ]
     },
     "execution_count": 146,
     "metadata": {},
     "output_type": "execute_result"
    }
   ],
   "source": [
    "#100d+200d+300d Stacking\n",
    "round(accuracy_score(Class_labels_300,pred_label), 3)\n",
    "# stack 4 classifier :0.705"
   ]
  },
  {
   "cell_type": "markdown",
   "metadata": {
    "id": "nyzefH9uqiXW"
   },
   "source": [
    "### Validation"
   ]
  },
  {
   "cell_type": "code",
   "execution_count": 147,
   "metadata": {
    "colab": {
     "base_uri": "https://localhost:8080/"
    },
    "executionInfo": {
     "elapsed": 363,
     "status": "ok",
     "timestamp": 1659933416507,
     "user": {
      "displayName": "P76091250王登立",
      "userId": "09137185860442071355"
     },
     "user_tz": -480
    },
    "id": "H_eFcn-KqiXX",
    "outputId": "dcfe95dd-265a-487f-f3a2-261380e4793f"
   },
   "outputs": [
    {
     "data": {
      "text/plain": [
       "(5268, 300)"
      ]
     },
     "execution_count": 147,
     "metadata": {},
     "output_type": "execute_result"
    }
   ],
   "source": [
    "val_attr_300.shape"
   ]
  },
  {
   "cell_type": "code",
   "execution_count": 148,
   "metadata": {
    "executionInfo": {
     "elapsed": 3,
     "status": "ok",
     "timestamp": 1659933418423,
     "user": {
      "displayName": "P76091250王登立",
      "userId": "09137185860442071355"
     },
     "user_tz": -480
    },
    "id": "yXRXlH7hqiXX"
   },
   "outputs": [],
   "source": [
    "class_lst=[[0 for _ in range(len(val_attr_300))] for _ in range(5)]"
   ]
  },
  {
   "cell_type": "code",
   "execution_count": 149,
   "metadata": {
    "executionInfo": {
     "elapsed": 5708,
     "status": "ok",
     "timestamp": 1659933437346,
     "user": {
      "displayName": "P76091250王登立",
      "userId": "09137185860442071355"
     },
     "user_tz": -480
    },
    "id": "0vVn3xVKqiXX"
   },
   "outputs": [],
   "source": [
    "for i in range(len(val_attr)):\n",
    "    class_lst[0][i]=neigh1_val.predict(val_attr[i].reshape(1,-1))"
   ]
  },
  {
   "cell_type": "code",
   "execution_count": 150,
   "metadata": {
    "executionInfo": {
     "elapsed": 8289,
     "status": "ok",
     "timestamp": 1659933445621,
     "user": {
      "displayName": "P76091250王登立",
      "userId": "09137185860442071355"
     },
     "user_tz": -480
    },
    "id": "htxl2UemqiXY"
   },
   "outputs": [],
   "source": [
    "for i in range(len(val_attr_300)):\n",
    "    class_lst[1][i]=neigh1_val_v2.predict(val_attr_v2[i].reshape(1,-1))"
   ]
  },
  {
   "cell_type": "code",
   "execution_count": 151,
   "metadata": {
    "executionInfo": {
     "elapsed": 7036,
     "status": "ok",
     "timestamp": 1659933452652,
     "user": {
      "displayName": "P76091250王登立",
      "userId": "09137185860442071355"
     },
     "user_tz": -480
    },
    "id": "1fOM28twqiXY"
   },
   "outputs": [],
   "source": [
    "for i in range(len(val_attr_200)):\n",
    "    class_lst[2][i]=neigh2_val.predict(val_attr_200[i].reshape(1,-1))"
   ]
  },
  {
   "cell_type": "code",
   "execution_count": 152,
   "metadata": {
    "executionInfo": {
     "elapsed": 9272,
     "status": "ok",
     "timestamp": 1659933461917,
     "user": {
      "displayName": "P76091250王登立",
      "userId": "09137185860442071355"
     },
     "user_tz": -480
    },
    "id": "uMxnbdZUqiXY"
   },
   "outputs": [],
   "source": [
    "for i in range(len(val_attr_300)):\n",
    "    class_lst[3][i]=neigh3_val.predict(val_attr_300[i].reshape(1,-1))"
   ]
  },
  {
   "cell_type": "code",
   "execution_count": 153,
   "metadata": {},
   "outputs": [],
   "source": [
    "for i in range(len(val_attr_300)):\n",
    "    class_lst[4][i]=neigh3_val_f.predict(val_attr_300_f[i].reshape(1,-1))"
   ]
  },
  {
   "cell_type": "code",
   "execution_count": 154,
   "metadata": {
    "executionInfo": {
     "elapsed": 19,
     "status": "ok",
     "timestamp": 1659933461918,
     "user": {
      "displayName": "P76091250王登立",
      "userId": "09137185860442071355"
     },
     "user_tz": -480
    },
    "id": "5iJLqxH-qiXZ"
   },
   "outputs": [],
   "source": [
    "pred_label=[0 for _ in range(len(val_attr_300))]"
   ]
  },
  {
   "cell_type": "code",
   "execution_count": 155,
   "metadata": {
    "executionInfo": {
     "elapsed": 349,
     "status": "ok",
     "timestamp": 1659933464180,
     "user": {
      "displayName": "P76091250王登立",
      "userId": "09137185860442071355"
     },
     "user_tz": -480
    },
    "id": "sgqCvUZ0qiXZ"
   },
   "outputs": [
    {
     "name": "stdout",
     "output_type": "stream",
     "text": [
      "執行時間：0.155248 s\n"
     ]
    }
   ],
   "source": [
    "start = time.time()\n",
    "for i in range(len(pred_label)):\n",
    "    count_class = [0.0 for i in range(33)]\n",
    "    count_class=np.array(count_class)\n",
    "    count_class[class_lst[0][i]]+=Alpha[0]\n",
    "    count_class[class_lst[1][i]]+=Alpha[1]\n",
    "    count_class[class_lst[2][i]]+=Alpha[2]\n",
    "    count_class[class_lst[3][i]]+=Alpha[3]\n",
    "    count_class[class_lst[4][i]]+=Alpha[4]\n",
    "    count_class=count_class.tolist()\n",
    "    pred_label[i]=count_class.index(max(count_class))\n",
    "end = time.time()\n",
    "print(\"執行時間：%f s\" % (end - start))"
   ]
  },
  {
   "cell_type": "markdown",
   "metadata": {
    "id": "B9qJYjJ6qiXZ"
   },
   "source": [
    "#### Acc"
   ]
  },
  {
   "cell_type": "code",
   "execution_count": 156,
   "metadata": {
    "colab": {
     "base_uri": "https://localhost:8080/"
    },
    "executionInfo": {
     "elapsed": 3,
     "status": "ok",
     "timestamp": 1659933466425,
     "user": {
      "displayName": "P76091250王登立",
      "userId": "09137185860442071355"
     },
     "user_tz": -480
    },
    "id": "Z087t4gYqiXa",
    "outputId": "e4f10a27-5d08-4830-bed9-bc418a572cb3"
   },
   "outputs": [
    {
     "data": {
      "text/plain": [
       "0.984"
      ]
     },
     "execution_count": 156,
     "metadata": {},
     "output_type": "execute_result"
    }
   ],
   "source": [
    "#100d+200d+300d Stacking\n",
    "round(accuracy_score(val_labels_300,pred_label), 3)\n",
    "# stack 4 classifier :0.952"
   ]
  },
  {
   "cell_type": "code",
   "execution_count": null,
   "metadata": {},
   "outputs": [],
   "source": []
  }
 ],
 "metadata": {
  "accelerator": "GPU",
  "colab": {
   "collapsed_sections": [
    "6VX8OdJuLOky",
    "22RiEONiqiWV",
    "HUeqFybyxYjE",
    "xfjfkm77qiWi",
    "l546DLgpqiWt",
    "q1KZicCyqiWv",
    "2DOfQBs3qiW1",
    "tVE8JPveqiW9",
    "ocCI8zq6qiXC",
    "hB-7Arg_qiXE",
    "j58nbXzbqiXN",
    "cgDDFbz3qiXP",
    "0Oo69pCLqiXR",
    "tqdmBKjtqiXU",
    "nyzefH9uqiXW",
    "B9qJYjJ6qiXZ",
    "nRy7e_-IqiXa"
   ],
   "name": "classifier_Stacking.ipynb",
   "provenance": []
  },
  "gpuClass": "standard",
  "kernelspec": {
   "display_name": "Python 3 (ipykernel)",
   "language": "python",
   "name": "python3"
  },
  "language_info": {
   "codemirror_mode": {
    "name": "ipython",
    "version": 3
   },
   "file_extension": ".py",
   "mimetype": "text/x-python",
   "name": "python",
   "nbconvert_exporter": "python",
   "pygments_lexer": "ipython3",
   "version": "3.7.11"
  }
 },
 "nbformat": 4,
 "nbformat_minor": 1
}
