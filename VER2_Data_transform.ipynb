{
 "cells": [
  {
   "cell_type": "code",
   "execution_count": 2,
   "metadata": {
    "id": "_ghG1GKKMVNj"
   },
   "outputs": [],
   "source": [
    "import random\n",
    "from PIL import Image\n",
    "import numpy as np\n",
    "import pandas as pd\n",
    "import shutil\n",
    "import glob\n",
    "import os\n",
    "from pathlib import Path\n",
    "import warnings\n",
    "warnings.filterwarnings('ignore')"
   ]
  },
  {
   "cell_type": "markdown",
   "metadata": {
    "id": "RWo8JG4Nk2RW"
   },
   "source": [
    "### Gensim pretrain MODEL"
   ]
  },
  {
   "cell_type": "code",
   "execution_count": 3,
   "metadata": {
    "id": "FIqqw035k2RY"
   },
   "outputs": [],
   "source": [
    "import gensim.downloader\n",
    "from gensim.models import KeyedVectors"
   ]
  },
  {
   "cell_type": "code",
   "execution_count": 4,
   "metadata": {
    "id": "0cBH6mc1k2RZ"
   },
   "outputs": [],
   "source": [
    "glove_vectors = gensim.downloader.load('glove-wiki-gigaword-200')\n",
    "# glove-wiki-gigaword-200   #'glove-twitter-200'\n",
    "# glove-wiki-gigaword-100   #glove-twitter-100'\n",
    "# word2vec-google-news-300  #fasttext-wiki-news-subwords-300  #'glove-wiki-gigaword-300'\n",
    "# glove-wiki-gigaword-50    #glove-twitter-50"
   ]
  },
  {
   "cell_type": "code",
   "execution_count": 5,
   "metadata": {},
   "outputs": [],
   "source": [
    "out_dim=len(glove_vectors[0])  #WordVector的Output_dimension"
   ]
  },
  {
   "cell_type": "markdown",
   "metadata": {},
   "source": [
    "## Setting"
   ]
  },
  {
   "cell_type": "code",
   "execution_count": 6,
   "metadata": {},
   "outputs": [
    {
     "data": {
      "text/plain": [
       "\"儲存path在Train_Data處理時候才定義。 格式: './{}_{}c/data_{}/'.format(dataset, len(train_classes),out_dim)\""
      ]
     },
     "execution_count": 6,
     "metadata": {},
     "output_type": "execute_result"
    }
   ],
   "source": [
    "dataset = 'AWA2'\n",
    "########################################\n",
    "train_path = Path(\"./data/{}/IMG_backoff/train\".format(dataset))\n",
    "test_path = Path(\"./data/{}/IMG_backoff/test\".format(dataset))\n",
    "val_path = Path(\"./data/{}/IMG_backoff/val\".format(dataset))\n",
    "\n",
    "'''儲存path在Train_Data處理時候才定義。 格式: './{}_{}c/data_{}/'.format(dataset, len(train_classes),out_dim)'''\n",
    "# if dataset == 'AWA2':"
   ]
  },
  {
   "cell_type": "markdown",
   "metadata": {
    "id": "vW9MctE67mqW"
   },
   "source": [
    "## Transform_define:"
   ]
  },
  {
   "cell_type": "code",
   "execution_count": 7,
   "metadata": {},
   "outputs": [],
   "source": [
    "def WordVectortransform(load_path):\n",
    "    classes = []\n",
    "    images = []\n",
    "    img_vecs = []\n",
    "    class_labels = []\n",
    "    label_c = 0\n",
    "    for class_name in load_path.iterdir():\n",
    "        c = class_name.name.rpartition(\".\")[-1]\n",
    "        # print(c)\n",
    "        if c in glove_vectors:\n",
    "            class_images = list(class_name.iterdir())\n",
    "            classes.append(c)\n",
    "            images += class_images\n",
    "            img_vecs += [glove_vectors[c]]*len(class_images)\n",
    "            for k in class_name.iterdir():\n",
    "                class_labels.append(label_c)\n",
    "            label_c += 1\n",
    "    return classes, images, img_vecs, class_labels"
   ]
  },
  {
   "cell_type": "markdown",
   "metadata": {
    "id": "2P7hiRtvhwDs"
   },
   "source": [
    "### Train Data"
   ]
  },
  {
   "cell_type": "code",
   "execution_count": 11,
   "metadata": {
    "colab": {
     "base_uri": "https://localhost:8080/",
     "height": 236
    },
    "executionInfo": {
     "elapsed": 7,
     "status": "error",
     "timestamp": 1659404303548,
     "user": {
      "displayName": "王登立",
      "userId": "08354455926663266220"
     },
     "user_tz": -480
    },
    "id": "TE1bDxnDk2Rd",
    "outputId": "164a65c0-5a95-4cea-9c59-e232b1e44a3e"
   },
   "outputs": [],
   "source": [
    "train_classes = []\n",
    "train_images = []\n",
    "train_img_vecs = []\n",
    "train_class_labels = []\n",
    "\n",
    "train_classes, train_images, train_img_vecs, train_class_labels = WordVectortransform(\n",
    "    train_path)\n",
    "path = './{}_{}c/'.format(dataset, len(train_classes))\n",
    "if not os.path.isdir(path):\n",
    "    os.mkdir(path)\n",
    "path = './{}_{}c/data_{}/'.format(dataset, len(train_classes),out_dim)\n",
    "if not os.path.isdir(path):\n",
    "    os.mkdir(path)"
   ]
  },
  {
   "cell_type": "markdown",
   "metadata": {
    "id": "uu8hZCi3k2Rd"
   },
   "source": [
    "#### Check"
   ]
  },
  {
   "cell_type": "code",
   "execution_count": 12,
   "metadata": {
    "colab": {
     "base_uri": "https://localhost:8080/"
    },
    "id": "IIyL6V2BHLUz",
    "outputId": "b23a50b8-2c5d-43a0-9a4c-aadca2144153"
   },
   "outputs": [
    {
     "name": "stdout",
     "output_type": "stream",
     "text": [
      "33\n",
      "21057\n",
      "21057\n",
      "21057\n",
      "21057\n"
     ]
    }
   ],
   "source": [
    "print(len(train_classes))\n",
    "print(len(train_images))\n",
    "print(len(train_img_vecs))\n",
    "print(len(train_class_labels))\n",
    "print(len(train_class_labels))"
   ]
  },
  {
   "cell_type": "code",
   "execution_count": 13,
   "metadata": {
    "colab": {
     "base_uri": "https://localhost:8080/"
    },
    "id": "2c2QlD5fI3SK",
    "outputId": "07b80fae-926a-49ca-be5c-e5f57b0d7539"
   },
   "outputs": [
    {
     "name": "stdout",
     "output_type": "stream",
     "text": [
      "(21057, 200)\n"
     ]
    }
   ],
   "source": [
    "train_img_vecs = np.stack(train_img_vecs)\n",
    "print(train_img_vecs.shape)"
   ]
  },
  {
   "cell_type": "code",
   "execution_count": 14,
   "metadata": {
    "id": "LcSn_CtIn9sh"
   },
   "outputs": [],
   "source": [
    "# 資料打亂打平均用的，但這樣label可能會亂掉，Training可以用。\n",
    "grouped = list(zip(train_images, train_img_vecs, train_class_labels))\n",
    "random.shuffle(grouped)\n",
    "train_images, train_img_vecs, train_class_labels = zip(*grouped)"
   ]
  },
  {
   "cell_type": "markdown",
   "metadata": {
    "id": "IHyJNo1ajicQ"
   },
   "source": [
    "### Val_Data"
   ]
  },
  {
   "cell_type": "code",
   "execution_count": 15,
   "metadata": {
    "id": "W6R4bz0Sk2Rg"
   },
   "outputs": [],
   "source": [
    "val_classes = []\n",
    "val_images = []\n",
    "val_img_vecs = []\n",
    "val_class_labels = []\n",
    "\n",
    "\n",
    "val_classes, val_images, val_img_vecs, val_class_labels = WordVectortransform(\n",
    "    val_path)"
   ]
  },
  {
   "cell_type": "markdown",
   "metadata": {
    "id": "NJj4FT6Uk2Rh"
   },
   "source": [
    "#### Check"
   ]
  },
  {
   "cell_type": "code",
   "execution_count": 16,
   "metadata": {
    "colab": {
     "base_uri": "https://localhost:8080/"
    },
    "id": "N7xXBSVLkgWZ",
    "outputId": "0616f12e-d4c9-4a5e-99e6-ec5fd4e0eccf"
   },
   "outputs": [
    {
     "name": "stdout",
     "output_type": "stream",
     "text": [
      "33\n",
      "5268\n",
      "5268\n",
      "['bat', 'wolf', 'skunk', 'walrus', 'sheep', 'rhinoceros', 'mole', 'mouse', 'rabbit', 'squirrel', 'dolphin', 'fox', 'tiger', 'deer', 'cow', 'ox', 'weasel', 'collie', 'dalmatian', 'buffalo', 'giraffe', 'moose', 'elephant', 'gorilla', 'otter', 'antelope', 'beaver', 'zebra', 'hamster', 'lion', 'horse', 'bobcat', 'chihuahua']\n",
      "5268\n"
     ]
    }
   ],
   "source": [
    "print(len(val_classes))\n",
    "print(len(val_images))\n",
    "print(len(val_img_vecs))\n",
    "print(val_classes)\n",
    "print(len(val_class_labels))"
   ]
  },
  {
   "cell_type": "code",
   "execution_count": 17,
   "metadata": {
    "colab": {
     "base_uri": "https://localhost:8080/"
    },
    "id": "OZmuAk94wVL4",
    "outputId": "c087e006-0a56-445f-c3c7-83f41605cc37"
   },
   "outputs": [
    {
     "name": "stdout",
     "output_type": "stream",
     "text": [
      "(5268, 200)\n"
     ]
    }
   ],
   "source": [
    "val_img_vecs = np.stack(val_img_vecs)\n",
    "print(val_img_vecs.shape)"
   ]
  },
  {
   "cell_type": "code",
   "execution_count": 18,
   "metadata": {
    "id": "rk9gHYeBn8Ph"
   },
   "outputs": [],
   "source": [
    "grouped_val = list(zip(val_images, val_img_vecs, val_class_labels))\n",
    "random.shuffle(grouped_val)\n",
    "val_images, val_img_vecs, val_class_labels = zip(*grouped_val)"
   ]
  },
  {
   "cell_type": "markdown",
   "metadata": {
    "id": "EMdFvLsYh0u5"
   },
   "source": [
    "### Test Data"
   ]
  },
  {
   "cell_type": "code",
   "execution_count": 19,
   "metadata": {
    "id": "3FGG03uhk2Rf"
   },
   "outputs": [],
   "source": [
    "test_classes = []\n",
    "test_images = []\n",
    "test_img_vecs = []\n",
    "test_class_labels = []\n",
    "\n",
    "test_classes, test_images, test_img_vecs, test_class_labels = WordVectortransform(\n",
    "    test_path)"
   ]
  },
  {
   "cell_type": "markdown",
   "metadata": {
    "id": "koTmlr7Xk2Rf"
   },
   "source": [
    "#### Check"
   ]
  },
  {
   "cell_type": "code",
   "execution_count": 20,
   "metadata": {
    "colab": {
     "base_uri": "https://localhost:8080/"
    },
    "id": "EeoV_6x_iAky",
    "outputId": "3efaaa84-d4c1-41cd-a21f-b59d8bde4754"
   },
   "outputs": [
    {
     "name": "stdout",
     "output_type": "stream",
     "text": [
      "7\n",
      "4654\n",
      "4654\n",
      "['hippopotamus', 'pig', 'leopard', 'seal', 'chimpanzee', 'rat', 'raccoon']\n",
      "4654\n"
     ]
    }
   ],
   "source": [
    "print(len(test_classes))\n",
    "print(len(test_images))\n",
    "print(len(test_img_vecs))\n",
    "print(test_classes)\n",
    "print(len(test_class_labels))"
   ]
  },
  {
   "cell_type": "code",
   "execution_count": 21,
   "metadata": {
    "colab": {
     "base_uri": "https://localhost:8080/"
    },
    "id": "l9LsDzKtjXRZ",
    "outputId": "9ad1bfa3-6ea1-4e1f-df4b-d247c66b58bb"
   },
   "outputs": [
    {
     "name": "stdout",
     "output_type": "stream",
     "text": [
      "(4654, 200)\n"
     ]
    }
   ],
   "source": [
    "test_img_vecs = np.stack(test_img_vecs)\n",
    "print(test_img_vecs.shape)"
   ]
  },
  {
   "cell_type": "markdown",
   "metadata": {
    "id": "QJlGPpN9rueo"
   },
   "source": [
    "### Data_Save"
   ]
  },
  {
   "cell_type": "code",
   "execution_count": 22,
   "metadata": {},
   "outputs": [],
   "source": [
    "def Save(Type, images, img_vecs, classes, class_labels):\n",
    "    np.save(path+'{}_img_name.npy'.format(Type), images)\n",
    "    np.save(path+'{}_img_vec.npy'.format(Type), img_vecs)\n",
    "    np.save(path+'{}_class.npy'.format(Type), classes)\n",
    "    np.save(path+'{}_img_label.npy'.format(Type), class_labels)"
   ]
  },
  {
   "cell_type": "code",
   "execution_count": 23,
   "metadata": {},
   "outputs": [],
   "source": [
    "Save('train', train_images, train_img_vecs, train_classes, train_class_labels)\n",
    "\n",
    "Save('val', val_images, val_img_vecs, val_classes, val_class_labels)\n",
    "\n",
    "Save('test', test_images, test_img_vecs, test_classes, test_class_labels)"
   ]
  },
  {
   "cell_type": "code",
   "execution_count": 24,
   "metadata": {
    "id": "XmdIKZ1drw-f"
   },
   "outputs": [
    {
     "data": {
      "text/plain": [
       "\"\\nnp.save(path+'train_img_name.npy', train_images)\\nnp.save(path+'train_img_vec.npy', train_img_vecs)\\nnp.save(path+'train_class.npy', train_classes)\\nnp.save(path+'train_img_label.npy', train_class_labels)\\n\\nnp.save(path+'val_img_name.npy', val_images)\\nnp.save(path+'val_img_vec.npy', val_img_vecs)\\nnp.save(path+'val_img_class.npy', val_classes)\\nnp.save(path+'val_img_label.npy', val_class_labels)\\n\\nnp.save(path+'test_img_name.npy', test_images)\\nnp.save(path+'test_img_vec.npy', test_img_vecs)\\nnp.save(path+'test_img_class.npy', test_classes)\\nnp.save(path+'test_img_label.npy', test_class_labels)\\n\""
      ]
     },
     "execution_count": 24,
     "metadata": {},
     "output_type": "execute_result"
    }
   ],
   "source": [
    "'''\n",
    "np.save(path+'train_img_name.npy', train_images)\n",
    "np.save(path+'train_img_vec.npy', train_img_vecs)\n",
    "np.save(path+'train_class.npy', train_classes)\n",
    "np.save(path+'train_img_label.npy', train_class_labels)\n",
    "\n",
    "np.save(path+'val_img_name.npy', val_images)\n",
    "np.save(path+'val_img_vec.npy', val_img_vecs)\n",
    "np.save(path+'val_img_class.npy', val_classes)\n",
    "np.save(path+'val_img_label.npy', val_class_labels)\n",
    "\n",
    "np.save(path+'test_img_name.npy', test_images)\n",
    "np.save(path+'test_img_vec.npy', test_img_vecs)\n",
    "np.save(path+'test_img_class.npy', test_classes)\n",
    "np.save(path+'test_img_label.npy', test_class_labels)\n",
    "'''"
   ]
  },
  {
   "cell_type": "code",
   "execution_count": 25,
   "metadata": {},
   "outputs": [],
   "source": [
    "del glove_vectors"
   ]
  },
  {
   "cell_type": "code",
   "execution_count": null,
   "metadata": {},
   "outputs": [],
   "source": []
  }
 ],
 "metadata": {
  "colab": {
   "collapsed_sections": [
    "RWo8JG4Nk2RW",
    "2P7hiRtvhwDs",
    "IHyJNo1ajicQ",
    "EMdFvLsYh0u5",
    "QJlGPpN9rueo"
   ],
   "name": "SplitData.ipynb",
   "provenance": []
  },
  "kernelspec": {
   "display_name": "Python 3 (ipykernel)",
   "language": "python",
   "name": "python3"
  },
  "language_info": {
   "codemirror_mode": {
    "name": "ipython",
    "version": 3
   },
   "file_extension": ".py",
   "mimetype": "text/x-python",
   "name": "python",
   "nbconvert_exporter": "python",
   "pygments_lexer": "ipython3",
   "version": "3.7.0"
  }
 },
 "nbformat": 4,
 "nbformat_minor": 1
}
